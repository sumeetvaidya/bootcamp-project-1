{
 "cells": [
  {
   "cell_type": "markdown",
   "id": "aecd83b2-1345-422d-9313-587987f85b82",
   "metadata": {},
   "source": [
    "# Import csv file using read_csv"
   ]
  },
  {
   "cell_type": "code",
   "execution_count": 4,
   "id": "aa08a4af-dcb4-42a2-9c4d-136d48c9e032",
   "metadata": {},
   "outputs": [],
   "source": [
    "# Import modules\n",
    "import pandas as pd\n",
    "import numpy as np\n",
    "from pathlib import Path\n",
    "import sqlalchemy\n",
    "%matplotlib inline\n",
    "import hvplot.pandas\n",
    "import plotly.graph_objects as go"
   ]
  },
  {
   "cell_type": "code",
   "execution_count": 18,
   "id": "e1e81eb3-6354-479f-b73c-077b7bdee57c",
   "metadata": {},
   "outputs": [],
   "source": [
    "# Read in the sp500 csv file from the Resources folder\n",
    "spy_df = pd.read_csv(\n",
    "    Path('./Resources/SPY.csv'),\n",
    "    # index_col ='Date',\n",
    "    parse_dates=True,\n",
    "    infer_datetime_format=True\n",
    ")"
   ]
  },
  {
   "cell_type": "code",
   "execution_count": 19,
   "id": "e67eb130-bb54-4135-bdf1-2eba73464304",
   "metadata": {},
   "outputs": [
    {
     "data": {
      "text/html": [
       "<div>\n",
       "<style scoped>\n",
       "    .dataframe tbody tr th:only-of-type {\n",
       "        vertical-align: middle;\n",
       "    }\n",
       "\n",
       "    .dataframe tbody tr th {\n",
       "        vertical-align: top;\n",
       "    }\n",
       "\n",
       "    .dataframe thead th {\n",
       "        text-align: right;\n",
       "    }\n",
       "</style>\n",
       "<table border=\"1\" class=\"dataframe\">\n",
       "  <thead>\n",
       "    <tr style=\"text-align: right;\">\n",
       "      <th></th>\n",
       "      <th>Date</th>\n",
       "      <th>Open</th>\n",
       "      <th>High</th>\n",
       "      <th>Low</th>\n",
       "      <th>Close</th>\n",
       "      <th>Adj Close</th>\n",
       "      <th>Volume</th>\n",
       "    </tr>\n",
       "  </thead>\n",
       "  <tbody>\n",
       "    <tr>\n",
       "      <th>0</th>\n",
       "      <td>2011-11-03</td>\n",
       "      <td>125.269997</td>\n",
       "      <td>126.500000</td>\n",
       "      <td>123.599998</td>\n",
       "      <td>126.250000</td>\n",
       "      <td>103.951668</td>\n",
       "      <td>291174800</td>\n",
       "    </tr>\n",
       "    <tr>\n",
       "      <th>1</th>\n",
       "      <td>2011-11-04</td>\n",
       "      <td>125.230003</td>\n",
       "      <td>125.699997</td>\n",
       "      <td>124.010002</td>\n",
       "      <td>125.480003</td>\n",
       "      <td>103.317719</td>\n",
       "      <td>249401600</td>\n",
       "    </tr>\n",
       "    <tr>\n",
       "      <th>2</th>\n",
       "      <td>2011-11-07</td>\n",
       "      <td>125.389999</td>\n",
       "      <td>126.389999</td>\n",
       "      <td>124.199997</td>\n",
       "      <td>126.260002</td>\n",
       "      <td>103.959915</td>\n",
       "      <td>196617200</td>\n",
       "    </tr>\n",
       "    <tr>\n",
       "      <th>3</th>\n",
       "      <td>2011-11-08</td>\n",
       "      <td>126.919998</td>\n",
       "      <td>128.020004</td>\n",
       "      <td>125.709999</td>\n",
       "      <td>127.879997</td>\n",
       "      <td>105.293808</td>\n",
       "      <td>224426300</td>\n",
       "    </tr>\n",
       "    <tr>\n",
       "      <th>4</th>\n",
       "      <td>2011-11-09</td>\n",
       "      <td>124.889999</td>\n",
       "      <td>125.800003</td>\n",
       "      <td>122.860001</td>\n",
       "      <td>123.160004</td>\n",
       "      <td>101.407448</td>\n",
       "      <td>337982000</td>\n",
       "    </tr>\n",
       "  </tbody>\n",
       "</table>\n",
       "</div>"
      ],
      "text/plain": [
       "         Date        Open        High         Low       Close   Adj Close  \\\n",
       "0  2011-11-03  125.269997  126.500000  123.599998  126.250000  103.951668   \n",
       "1  2011-11-04  125.230003  125.699997  124.010002  125.480003  103.317719   \n",
       "2  2011-11-07  125.389999  126.389999  124.199997  126.260002  103.959915   \n",
       "3  2011-11-08  126.919998  128.020004  125.709999  127.879997  105.293808   \n",
       "4  2011-11-09  124.889999  125.800003  122.860001  123.160004  101.407448   \n",
       "\n",
       "      Volume  \n",
       "0  291174800  \n",
       "1  249401600  \n",
       "2  196617200  \n",
       "3  224426300  \n",
       "4  337982000  "
      ]
     },
     "execution_count": 19,
     "metadata": {},
     "output_type": "execute_result"
    }
   ],
   "source": [
    "# Review the spy data\n",
    "spy_df.head()"
   ]
  },
  {
   "cell_type": "code",
   "execution_count": 20,
   "id": "3506fb48-2b10-482a-9742-e53a3303a109",
   "metadata": {},
   "outputs": [],
   "source": [
    "# Read in the gld csv file from the Resources folder\n",
    "gld_df = pd.read_csv(\n",
    "    Path('./Resources/GLD.csv'),\n",
    "    # index_col ='Date',\n",
    "    parse_dates=True,\n",
    "    infer_datetime_format=True\n",
    ")"
   ]
  },
  {
   "cell_type": "code",
   "execution_count": 21,
   "id": "718712fe-8096-4d8a-b6fe-886d90300e1c",
   "metadata": {},
   "outputs": [
    {
     "data": {
      "text/html": [
       "<div>\n",
       "<style scoped>\n",
       "    .dataframe tbody tr th:only-of-type {\n",
       "        vertical-align: middle;\n",
       "    }\n",
       "\n",
       "    .dataframe tbody tr th {\n",
       "        vertical-align: top;\n",
       "    }\n",
       "\n",
       "    .dataframe thead th {\n",
       "        text-align: right;\n",
       "    }\n",
       "</style>\n",
       "<table border=\"1\" class=\"dataframe\">\n",
       "  <thead>\n",
       "    <tr style=\"text-align: right;\">\n",
       "      <th></th>\n",
       "      <th>Date</th>\n",
       "      <th>Open</th>\n",
       "      <th>High</th>\n",
       "      <th>Low</th>\n",
       "      <th>Close</th>\n",
       "      <th>Adj Close</th>\n",
       "      <th>Volume</th>\n",
       "    </tr>\n",
       "  </thead>\n",
       "  <tbody>\n",
       "    <tr>\n",
       "      <th>0</th>\n",
       "      <td>2011-11-07</td>\n",
       "      <td>172.850006</td>\n",
       "      <td>175.000000</td>\n",
       "      <td>172.710007</td>\n",
       "      <td>174.979996</td>\n",
       "      <td>174.979996</td>\n",
       "      <td>20131900</td>\n",
       "    </tr>\n",
       "    <tr>\n",
       "      <th>1</th>\n",
       "      <td>2011-11-08</td>\n",
       "      <td>174.350006</td>\n",
       "      <td>175.460007</td>\n",
       "      <td>172.899994</td>\n",
       "      <td>173.529999</td>\n",
       "      <td>173.529999</td>\n",
       "      <td>16054200</td>\n",
       "    </tr>\n",
       "    <tr>\n",
       "      <th>2</th>\n",
       "      <td>2011-11-09</td>\n",
       "      <td>174.279999</td>\n",
       "      <td>174.809998</td>\n",
       "      <td>171.610001</td>\n",
       "      <td>172.070007</td>\n",
       "      <td>172.070007</td>\n",
       "      <td>12313900</td>\n",
       "    </tr>\n",
       "    <tr>\n",
       "      <th>3</th>\n",
       "      <td>2011-11-10</td>\n",
       "      <td>172.429993</td>\n",
       "      <td>172.589996</td>\n",
       "      <td>168.830002</td>\n",
       "      <td>171.139999</td>\n",
       "      <td>171.139999</td>\n",
       "      <td>11848700</td>\n",
       "    </tr>\n",
       "    <tr>\n",
       "      <th>4</th>\n",
       "      <td>2011-11-11</td>\n",
       "      <td>172.100006</td>\n",
       "      <td>174.050003</td>\n",
       "      <td>172.070007</td>\n",
       "      <td>173.960007</td>\n",
       "      <td>173.960007</td>\n",
       "      <td>8727100</td>\n",
       "    </tr>\n",
       "  </tbody>\n",
       "</table>\n",
       "</div>"
      ],
      "text/plain": [
       "         Date        Open        High         Low       Close   Adj Close  \\\n",
       "0  2011-11-07  172.850006  175.000000  172.710007  174.979996  174.979996   \n",
       "1  2011-11-08  174.350006  175.460007  172.899994  173.529999  173.529999   \n",
       "2  2011-11-09  174.279999  174.809998  171.610001  172.070007  172.070007   \n",
       "3  2011-11-10  172.429993  172.589996  168.830002  171.139999  171.139999   \n",
       "4  2011-11-11  172.100006  174.050003  172.070007  173.960007  173.960007   \n",
       "\n",
       "     Volume  \n",
       "0  20131900  \n",
       "1  16054200  \n",
       "2  12313900  \n",
       "3  11848700  \n",
       "4   8727100  "
      ]
     },
     "execution_count": 21,
     "metadata": {},
     "output_type": "execute_result"
    }
   ],
   "source": [
    "# Review the gld data\n",
    "gld_df.head()"
   ]
  },
  {
   "cell_type": "code",
   "execution_count": 22,
   "id": "dfbcdff0-22ff-4b5c-936c-0caaf71ae34a",
   "metadata": {},
   "outputs": [],
   "source": [
    "# Read in the bnd csv file from the Resources folder\n",
    "bnd_df = pd.read_csv(\n",
    "    Path('./Resources/BND.csv'),\n",
    "    # index_col ='Date',\n",
    "    parse_dates=True,\n",
    "    infer_datetime_format=True\n",
    ")"
   ]
  },
  {
   "cell_type": "code",
   "execution_count": 23,
   "id": "b7f5932b-1412-4e28-bcd8-1f9ab676a7e2",
   "metadata": {},
   "outputs": [
    {
     "data": {
      "text/html": [
       "<div>\n",
       "<style scoped>\n",
       "    .dataframe tbody tr th:only-of-type {\n",
       "        vertical-align: middle;\n",
       "    }\n",
       "\n",
       "    .dataframe tbody tr th {\n",
       "        vertical-align: top;\n",
       "    }\n",
       "\n",
       "    .dataframe thead th {\n",
       "        text-align: right;\n",
       "    }\n",
       "</style>\n",
       "<table border=\"1\" class=\"dataframe\">\n",
       "  <thead>\n",
       "    <tr style=\"text-align: right;\">\n",
       "      <th></th>\n",
       "      <th>Date</th>\n",
       "      <th>Open</th>\n",
       "      <th>High</th>\n",
       "      <th>Low</th>\n",
       "      <th>Close</th>\n",
       "      <th>Adj Close</th>\n",
       "      <th>Volume</th>\n",
       "    </tr>\n",
       "  </thead>\n",
       "  <tbody>\n",
       "    <tr>\n",
       "      <th>0</th>\n",
       "      <td>2011-11-07</td>\n",
       "      <td>83.809998</td>\n",
       "      <td>84.110001</td>\n",
       "      <td>83.769997</td>\n",
       "      <td>83.910004</td>\n",
       "      <td>64.331070</td>\n",
       "      <td>2067200</td>\n",
       "    </tr>\n",
       "    <tr>\n",
       "      <th>1</th>\n",
       "      <td>2011-11-08</td>\n",
       "      <td>83.879997</td>\n",
       "      <td>83.949997</td>\n",
       "      <td>83.629997</td>\n",
       "      <td>83.650002</td>\n",
       "      <td>64.131729</td>\n",
       "      <td>1891400</td>\n",
       "    </tr>\n",
       "    <tr>\n",
       "      <th>2</th>\n",
       "      <td>2011-11-09</td>\n",
       "      <td>83.930000</td>\n",
       "      <td>83.930000</td>\n",
       "      <td>83.669998</td>\n",
       "      <td>83.750000</td>\n",
       "      <td>64.208420</td>\n",
       "      <td>1346800</td>\n",
       "    </tr>\n",
       "    <tr>\n",
       "      <th>3</th>\n",
       "      <td>2011-11-10</td>\n",
       "      <td>83.610001</td>\n",
       "      <td>83.769997</td>\n",
       "      <td>83.449997</td>\n",
       "      <td>83.650002</td>\n",
       "      <td>64.131729</td>\n",
       "      <td>2487500</td>\n",
       "    </tr>\n",
       "    <tr>\n",
       "      <th>4</th>\n",
       "      <td>2011-11-11</td>\n",
       "      <td>83.620003</td>\n",
       "      <td>83.639999</td>\n",
       "      <td>83.510002</td>\n",
       "      <td>83.589996</td>\n",
       "      <td>64.085754</td>\n",
       "      <td>698100</td>\n",
       "    </tr>\n",
       "  </tbody>\n",
       "</table>\n",
       "</div>"
      ],
      "text/plain": [
       "         Date       Open       High        Low      Close  Adj Close   Volume\n",
       "0  2011-11-07  83.809998  84.110001  83.769997  83.910004  64.331070  2067200\n",
       "1  2011-11-08  83.879997  83.949997  83.629997  83.650002  64.131729  1891400\n",
       "2  2011-11-09  83.930000  83.930000  83.669998  83.750000  64.208420  1346800\n",
       "3  2011-11-10  83.610001  83.769997  83.449997  83.650002  64.131729  2487500\n",
       "4  2011-11-11  83.620003  83.639999  83.510002  83.589996  64.085754   698100"
      ]
     },
     "execution_count": 23,
     "metadata": {},
     "output_type": "execute_result"
    }
   ],
   "source": [
    "# Review the GLD data\n",
    "bnd_df.head()"
   ]
  },
  {
   "cell_type": "code",
   "execution_count": 24,
   "id": "7e170a32-222a-4a6c-9a2f-0f01ee8f2aee",
   "metadata": {},
   "outputs": [],
   "source": [
    "# Read in the BTC csv file from the Resources folder\n",
    "btc_df = pd.read_csv(\n",
    "    Path('./Resources/BTC.csv'),\n",
    "    # index_col ='Date',\n",
    "    parse_dates=True,\n",
    "    infer_datetime_format=True\n",
    ")"
   ]
  },
  {
   "cell_type": "code",
   "execution_count": 25,
   "id": "0f826e7d-88ea-4444-8261-dc01edfc4395",
   "metadata": {},
   "outputs": [
    {
     "data": {
      "text/html": [
       "<div>\n",
       "<style scoped>\n",
       "    .dataframe tbody tr th:only-of-type {\n",
       "        vertical-align: middle;\n",
       "    }\n",
       "\n",
       "    .dataframe tbody tr th {\n",
       "        vertical-align: top;\n",
       "    }\n",
       "\n",
       "    .dataframe thead th {\n",
       "        text-align: right;\n",
       "    }\n",
       "</style>\n",
       "<table border=\"1\" class=\"dataframe\">\n",
       "  <thead>\n",
       "    <tr style=\"text-align: right;\">\n",
       "      <th></th>\n",
       "      <th>Date</th>\n",
       "      <th>Open</th>\n",
       "      <th>High</th>\n",
       "      <th>Low</th>\n",
       "      <th>Close</th>\n",
       "      <th>Adj Close</th>\n",
       "      <th>Volume</th>\n",
       "    </tr>\n",
       "  </thead>\n",
       "  <tbody>\n",
       "    <tr>\n",
       "      <th>0</th>\n",
       "      <td>2014-11-05</td>\n",
       "      <td>330.683014</td>\n",
       "      <td>343.368988</td>\n",
       "      <td>330.683014</td>\n",
       "      <td>339.485992</td>\n",
       "      <td>339.485992</td>\n",
       "      <td>19817200.0</td>\n",
       "    </tr>\n",
       "    <tr>\n",
       "      <th>1</th>\n",
       "      <td>2014-11-06</td>\n",
       "      <td>339.458008</td>\n",
       "      <td>352.966003</td>\n",
       "      <td>338.424011</td>\n",
       "      <td>349.290009</td>\n",
       "      <td>349.290009</td>\n",
       "      <td>18797000.0</td>\n",
       "    </tr>\n",
       "    <tr>\n",
       "      <th>2</th>\n",
       "      <td>2014-11-07</td>\n",
       "      <td>349.817993</td>\n",
       "      <td>352.731995</td>\n",
       "      <td>341.776001</td>\n",
       "      <td>342.415009</td>\n",
       "      <td>342.415009</td>\n",
       "      <td>16834200.0</td>\n",
       "    </tr>\n",
       "    <tr>\n",
       "      <th>3</th>\n",
       "      <td>2014-11-08</td>\n",
       "      <td>342.153992</td>\n",
       "      <td>347.032013</td>\n",
       "      <td>342.153992</td>\n",
       "      <td>345.488007</td>\n",
       "      <td>345.488007</td>\n",
       "      <td>8535470.0</td>\n",
       "    </tr>\n",
       "    <tr>\n",
       "      <th>4</th>\n",
       "      <td>2014-11-09</td>\n",
       "      <td>345.376007</td>\n",
       "      <td>363.626007</td>\n",
       "      <td>344.255005</td>\n",
       "      <td>363.264008</td>\n",
       "      <td>363.264008</td>\n",
       "      <td>24205600.0</td>\n",
       "    </tr>\n",
       "  </tbody>\n",
       "</table>\n",
       "</div>"
      ],
      "text/plain": [
       "         Date        Open        High         Low       Close   Adj Close  \\\n",
       "0  2014-11-05  330.683014  343.368988  330.683014  339.485992  339.485992   \n",
       "1  2014-11-06  339.458008  352.966003  338.424011  349.290009  349.290009   \n",
       "2  2014-11-07  349.817993  352.731995  341.776001  342.415009  342.415009   \n",
       "3  2014-11-08  342.153992  347.032013  342.153992  345.488007  345.488007   \n",
       "4  2014-11-09  345.376007  363.626007  344.255005  363.264008  363.264008   \n",
       "\n",
       "       Volume  \n",
       "0  19817200.0  \n",
       "1  18797000.0  \n",
       "2  16834200.0  \n",
       "3   8535470.0  \n",
       "4  24205600.0  "
      ]
     },
     "execution_count": 25,
     "metadata": {},
     "output_type": "execute_result"
    }
   ],
   "source": [
    "# Review the BTC Data\n",
    "btc_df.head()"
   ]
  },
  {
   "cell_type": "code",
   "execution_count": 26,
   "id": "4f064bf5-7324-4ab5-ab8c-44c6612e367c",
   "metadata": {},
   "outputs": [],
   "source": [
    "# Create a SQLite database named Muskies - put this db in same folder as this file\n",
    "database_connection_string ='sqlite:///Muskies.db'"
   ]
  },
  {
   "cell_type": "code",
   "execution_count": 27,
   "id": "4de2db3b-cb2f-4023-9a76-d8621bb62f8c",
   "metadata": {},
   "outputs": [
    {
     "data": {
      "text/plain": [
       "Engine(sqlite:///Muskies.db)"
      ]
     },
     "execution_count": 27,
     "metadata": {},
     "output_type": "execute_result"
    }
   ],
   "source": [
    "# Confirm that the database named Muskies was created\n",
    "engine = sqlalchemy.create_engine(database_connection_string,echo=True)\n",
    "engine"
   ]
  },
  {
   "cell_type": "code",
   "execution_count": 28,
   "id": "7b5a7e01-aaba-4e31-b741-8d9f08ee3ba3",
   "metadata": {},
   "outputs": [
    {
     "name": "stdout",
     "output_type": "stream",
     "text": [
      "2021-11-05 15:18:30,413 INFO sqlalchemy.engine.Engine PRAGMA main.table_info(\"SPY\")\n",
      "2021-11-05 15:18:30,415 INFO sqlalchemy.engine.Engine [raw sql] ()\n",
      "2021-11-05 15:18:30,420 INFO sqlalchemy.engine.Engine PRAGMA temp.table_info(\"SPY\")\n",
      "2021-11-05 15:18:30,422 INFO sqlalchemy.engine.Engine [raw sql] ()\n",
      "2021-11-05 15:18:30,431 INFO sqlalchemy.engine.Engine BEGIN (implicit)\n",
      "2021-11-05 15:18:30,437 INFO sqlalchemy.engine.Engine \n",
      "CREATE TABLE \"SPY\" (\n",
      "\t\"Date\" TEXT, \n",
      "\t\"Open\" FLOAT, \n",
      "\t\"High\" FLOAT, \n",
      "\t\"Low\" FLOAT, \n",
      "\t\"Close\" FLOAT, \n",
      "\t\"Adj Close\" FLOAT, \n",
      "\t\"Volume\" BIGINT\n",
      ")\n",
      "\n",
      "\n",
      "2021-11-05 15:18:30,440 INFO sqlalchemy.engine.Engine [no key 0.00293s] ()\n",
      "2021-11-05 15:18:30,448 INFO sqlalchemy.engine.Engine COMMIT\n",
      "2021-11-05 15:18:30,459 INFO sqlalchemy.engine.Engine BEGIN (implicit)\n",
      "2021-11-05 15:18:30,503 INFO sqlalchemy.engine.Engine INSERT INTO \"SPY\" (\"Date\", \"Open\", \"High\", \"Low\", \"Close\", \"Adj Close\", \"Volume\") VALUES (?, ?, ?, ?, ?, ?, ?)\n",
      "2021-11-05 15:18:30,504 INFO sqlalchemy.engine.Engine [generated in 0.03480s] (('2011-11-03', 125.269997, 126.5, 123.599998, 126.25, 103.951668, 291174800), ('2011-11-04', 125.230003, 125.699997, 124.010002, 125.480003, 103.317719, 249401600), ('2011-11-07', 125.389999, 126.389999, 124.199997, 126.260002, 103.959915, 196617200), ('2011-11-08', 126.919998, 128.020004, 125.709999, 127.879997, 105.293808, 224426300), ('2011-11-09', 124.889999, 125.800003, 122.860001, 123.160004, 101.407448, 337982000), ('2011-11-10', 124.790001, 124.940002, 123.019997, 124.32, 102.362564, 231866500), ('2011-11-11', 125.830002, 126.989998, 125.790001, 126.660004, 104.289276, 189924400), ('2011-11-14', 126.190002, 127.449997, 124.919998, 125.459999, 103.301201, 159258300)  ... displaying 10 of 2516 total bound parameter sets ...  ('2021-11-01', 460.299988, 460.700012, 458.200012, 460.040009, 460.040009, 48433600), ('2021-11-02', 460.220001, 462.230011, 460.079987, 461.899994, 461.899994, 48854200))\n",
      "2021-11-05 15:18:30,529 INFO sqlalchemy.engine.Engine COMMIT\n",
      "2021-11-05 15:18:30,538 INFO sqlalchemy.engine.Engine SELECT name FROM sqlite_master WHERE type='table' ORDER BY name\n",
      "2021-11-05 15:18:30,539 INFO sqlalchemy.engine.Engine [raw sql] ()\n"
     ]
    }
   ],
   "source": [
    "# Create the spy table\n",
    "spy_df.to_sql('SPY', engine, index=False, if_exists='replace')\n"
   ]
  },
  {
   "cell_type": "code",
   "execution_count": 29,
   "id": "b03845ae-e160-4762-b37a-e56187ed4a62",
   "metadata": {},
   "outputs": [
    {
     "name": "stdout",
     "output_type": "stream",
     "text": [
      "2021-11-05 15:18:33,825 INFO sqlalchemy.engine.Engine PRAGMA main.table_info(\"GLD\")\n",
      "2021-11-05 15:18:33,837 INFO sqlalchemy.engine.Engine [raw sql] ()\n",
      "2021-11-05 15:18:33,857 INFO sqlalchemy.engine.Engine PRAGMA temp.table_info(\"GLD\")\n",
      "2021-11-05 15:18:33,872 INFO sqlalchemy.engine.Engine [raw sql] ()\n",
      "2021-11-05 15:18:33,878 INFO sqlalchemy.engine.Engine BEGIN (implicit)\n",
      "2021-11-05 15:18:33,880 INFO sqlalchemy.engine.Engine \n",
      "CREATE TABLE \"GLD\" (\n",
      "\t\"Date\" TEXT, \n",
      "\t\"Open\" FLOAT, \n",
      "\t\"High\" FLOAT, \n",
      "\t\"Low\" FLOAT, \n",
      "\t\"Close\" FLOAT, \n",
      "\t\"Adj Close\" FLOAT, \n",
      "\t\"Volume\" BIGINT\n",
      ")\n",
      "\n",
      "\n",
      "2021-11-05 15:18:33,883 INFO sqlalchemy.engine.Engine [no key 0.00275s] ()\n",
      "2021-11-05 15:18:33,887 INFO sqlalchemy.engine.Engine COMMIT\n",
      "2021-11-05 15:18:33,893 INFO sqlalchemy.engine.Engine BEGIN (implicit)\n",
      "2021-11-05 15:18:33,995 INFO sqlalchemy.engine.Engine INSERT INTO \"GLD\" (\"Date\", \"Open\", \"High\", \"Low\", \"Close\", \"Adj Close\", \"Volume\") VALUES (?, ?, ?, ?, ?, ?, ?)\n",
      "2021-11-05 15:18:33,997 INFO sqlalchemy.engine.Engine [generated in 0.09792s] (('2011-11-07', 172.850006, 175.0, 172.710007, 174.979996, 174.979996, 20131900), ('2011-11-08', 174.350006, 175.460007, 172.899994, 173.529999, 173.529999, 16054200), ('2011-11-09', 174.279999, 174.809998, 171.610001, 172.070007, 172.070007, 12313900), ('2011-11-10', 172.429993, 172.589996, 168.830002, 171.139999, 171.139999, 11848700), ('2011-11-11', 172.100006, 174.050003, 172.070007, 173.960007, 173.960007, 8727100), ('2011-11-14', 173.740005, 173.860001, 172.589996, 173.199997, 173.199997, 5886400), ('2011-11-15', 173.350006, 173.809998, 171.899994, 173.360001, 173.360001, 9167900), ('2011-11-16', 171.630005, 172.960007, 170.570007, 171.509995, 171.509995, 15093300)  ... displaying 10 of 2516 total bound parameter sets ...  ('2021-11-03', 165.339996, 165.949997, 164.380005, 165.770004, 165.770004, 9055200), ('2021-11-04', 167.509995, 168.139999, 167.369995, 167.649994, 167.649994, 6654000))\n",
      "2021-11-05 15:18:34,010 INFO sqlalchemy.engine.Engine COMMIT\n",
      "2021-11-05 15:18:34,017 INFO sqlalchemy.engine.Engine SELECT name FROM sqlite_master WHERE type='table' ORDER BY name\n",
      "2021-11-05 15:18:34,018 INFO sqlalchemy.engine.Engine [raw sql] ()\n"
     ]
    }
   ],
   "source": [
    "# Create the GLD table\n",
    "gld_df.to_sql('GLD', engine, index=False, if_exists='replace')"
   ]
  },
  {
   "cell_type": "code",
   "execution_count": 30,
   "id": "1809da38-d159-4384-b598-630c5f83fb33",
   "metadata": {},
   "outputs": [
    {
     "name": "stdout",
     "output_type": "stream",
     "text": [
      "2021-11-05 15:18:36,583 INFO sqlalchemy.engine.Engine PRAGMA main.table_info(\"BTC\")\n",
      "2021-11-05 15:18:36,584 INFO sqlalchemy.engine.Engine [raw sql] ()\n",
      "2021-11-05 15:18:36,587 INFO sqlalchemy.engine.Engine PRAGMA temp.table_info(\"BTC\")\n",
      "2021-11-05 15:18:36,588 INFO sqlalchemy.engine.Engine [raw sql] ()\n",
      "2021-11-05 15:18:36,593 INFO sqlalchemy.engine.Engine BEGIN (implicit)\n",
      "2021-11-05 15:18:36,595 INFO sqlalchemy.engine.Engine \n",
      "CREATE TABLE \"BTC\" (\n",
      "\t\"Date\" TEXT, \n",
      "\t\"Open\" FLOAT, \n",
      "\t\"High\" FLOAT, \n",
      "\t\"Low\" FLOAT, \n",
      "\t\"Close\" FLOAT, \n",
      "\t\"Adj Close\" FLOAT, \n",
      "\t\"Volume\" FLOAT\n",
      ")\n",
      "\n",
      "\n",
      "2021-11-05 15:18:36,597 INFO sqlalchemy.engine.Engine [no key 0.00146s] ()\n",
      "2021-11-05 15:18:36,601 INFO sqlalchemy.engine.Engine COMMIT\n",
      "2021-11-05 15:18:36,607 INFO sqlalchemy.engine.Engine BEGIN (implicit)\n",
      "2021-11-05 15:18:36,655 INFO sqlalchemy.engine.Engine INSERT INTO \"BTC\" (\"Date\", \"Open\", \"High\", \"Low\", \"Close\", \"Adj Close\", \"Volume\") VALUES (?, ?, ?, ?, ?, ?, ?)\n",
      "2021-11-05 15:18:36,656 INFO sqlalchemy.engine.Engine [generated in 0.04098s] (('2014-11-05', 330.683014, 343.368988, 330.683014, 339.485992, 339.485992, 19817200.0), ('2014-11-06', 339.458008, 352.966003, 338.424011, 349.290009, 349.290009, 18797000.0), ('2014-11-07', 349.817993, 352.731995, 341.776001, 342.415009, 342.415009, 16834200.0), ('2014-11-08', 342.153992, 347.032013, 342.153992, 345.488007, 345.488007, 8535470.0), ('2014-11-09', 345.376007, 363.626007, 344.255005, 363.264008, 363.264008, 24205600.0), ('2014-11-10', 362.265015, 374.81601, 357.561005, 366.924011, 366.924011, 30450100.0), ('2014-11-11', 365.856995, 371.309998, 363.734985, 367.695007, 367.695007, 15838900.0), ('2014-11-12', 367.984985, 429.717987, 367.984985, 423.561005, 423.561005, 45783200.0)  ... displaying 10 of 2558 total bound parameter sets ...  ('2021-11-04', None, None, None, None, None, None), ('2021-11-05', 61431.667969, 62523.175781, 60914.828125, 61692.808594, 61692.808594, 32223369216.0))\n",
      "2021-11-05 15:18:36,669 INFO sqlalchemy.engine.Engine COMMIT\n",
      "2021-11-05 15:18:36,674 INFO sqlalchemy.engine.Engine SELECT name FROM sqlite_master WHERE type='table' ORDER BY name\n",
      "2021-11-05 15:18:36,675 INFO sqlalchemy.engine.Engine [raw sql] ()\n"
     ]
    }
   ],
   "source": [
    "# Create the BTC table\n",
    "btc_df.to_sql('BTC', engine, index=False, if_exists='replace')"
   ]
  },
  {
   "cell_type": "code",
   "execution_count": 34,
   "id": "c20bffd0-70d8-4628-bc38-96cc9ec8e7c2",
   "metadata": {},
   "outputs": [
    {
     "name": "stdout",
     "output_type": "stream",
     "text": [
      "2021-11-05 15:25:40,447 INFO sqlalchemy.engine.Engine PRAGMA main.table_info(\"BND\")\n",
      "2021-11-05 15:25:40,461 INFO sqlalchemy.engine.Engine [raw sql] ()\n",
      "2021-11-05 15:25:40,465 INFO sqlalchemy.engine.Engine PRAGMA temp.table_info(\"BND\")\n",
      "2021-11-05 15:25:40,466 INFO sqlalchemy.engine.Engine [raw sql] ()\n",
      "2021-11-05 15:25:40,471 INFO sqlalchemy.engine.Engine BEGIN (implicit)\n",
      "2021-11-05 15:25:40,473 INFO sqlalchemy.engine.Engine \n",
      "CREATE TABLE \"BND\" (\n",
      "\t\"Date\" TEXT, \n",
      "\t\"Open\" FLOAT, \n",
      "\t\"High\" FLOAT, \n",
      "\t\"Low\" FLOAT, \n",
      "\t\"Close\" FLOAT, \n",
      "\t\"Adj Close\" FLOAT, \n",
      "\t\"Volume\" BIGINT\n",
      ")\n",
      "\n",
      "\n",
      "2021-11-05 15:25:40,475 INFO sqlalchemy.engine.Engine [no key 0.00146s] ()\n",
      "2021-11-05 15:25:40,480 INFO sqlalchemy.engine.Engine COMMIT\n",
      "2021-11-05 15:25:40,487 INFO sqlalchemy.engine.Engine BEGIN (implicit)\n",
      "2021-11-05 15:25:40,530 INFO sqlalchemy.engine.Engine INSERT INTO \"BND\" (\"Date\", \"Open\", \"High\", \"Low\", \"Close\", \"Adj Close\", \"Volume\") VALUES (?, ?, ?, ?, ?, ?, ?)\n",
      "2021-11-05 15:25:40,532 INFO sqlalchemy.engine.Engine [generated in 0.03889s] (('2011-11-07', 83.809998, 84.110001, 83.769997, 83.910004, 64.33107, 2067200), ('2011-11-08', 83.879997, 83.949997, 83.629997, 83.650002, 64.131729, 1891400), ('2011-11-09', 83.93, 83.93, 83.669998, 83.75, 64.20842, 1346800), ('2011-11-10', 83.610001, 83.769997, 83.449997, 83.650002, 64.131729, 2487500), ('2011-11-11', 83.620003, 83.639999, 83.510002, 83.589996, 64.085754, 698100), ('2011-11-14', 83.660004, 83.68, 83.470001, 83.599998, 64.093391, 1279600), ('2011-11-15', 83.639999, 83.720001, 83.5, 83.550003, 64.055092, 1323200), ('2011-11-16', 83.709999, 83.709999, 83.589996, 83.709999, 64.177727, 1705400)  ... displaying 10 of 2516 total bound parameter sets ...  ('2021-11-03', 85.389999, 85.410004, 85.07, 85.190002, 85.190002, 5058700), ('2021-11-04', 85.25, 85.580002, 85.239998, 85.580002, 85.580002, 5564100))\n",
      "2021-11-05 15:25:40,542 INFO sqlalchemy.engine.Engine COMMIT\n",
      "2021-11-05 15:25:40,546 INFO sqlalchemy.engine.Engine SELECT name FROM sqlite_master WHERE type='table' ORDER BY name\n",
      "2021-11-05 15:25:40,547 INFO sqlalchemy.engine.Engine [raw sql] ()\n"
     ]
    }
   ],
   "source": [
    "# Create the BND table\n",
    "bnd_df.to_sql('BND', engine, index=False, if_exists='replace')"
   ]
  },
  {
   "cell_type": "code",
   "execution_count": 35,
   "id": "b95c37c6-271a-4e8d-9cc4-24b4fbfb9900",
   "metadata": {},
   "outputs": [
    {
     "name": "stdout",
     "output_type": "stream",
     "text": [
      "2021-11-05 15:25:44,281 INFO sqlalchemy.engine.Engine SELECT name FROM sqlite_master WHERE type='table' ORDER BY name\n",
      "2021-11-05 15:25:44,282 INFO sqlalchemy.engine.Engine [raw sql] ()\n"
     ]
    },
    {
     "name": "stderr",
     "output_type": "stream",
     "text": [
      "/Users/patrickbeeson/opt/anaconda3/envs/sqlenv/lib/python3.7/site-packages/ipykernel_launcher.py:1: SADeprecationWarning: The Engine.table_names() method is deprecated and will be removed in a future release.  Please refer to Inspector.get_table_names(). (deprecated since: 1.4)\n",
      "  \"\"\"Entry point for launching an IPython kernel.\n"
     ]
    },
    {
     "data": {
      "text/plain": [
       "['BND', 'BTC', 'GLD', 'SPY']"
      ]
     },
     "execution_count": 35,
     "metadata": {},
     "output_type": "execute_result"
    }
   ],
   "source": [
    "engine.table_names()"
   ]
  },
  {
   "cell_type": "code",
   "execution_count": 39,
   "id": "c181a8bb-806b-454c-8c07-62a5ac90b6a1",
   "metadata": {},
   "outputs": [
    {
     "name": "stdout",
     "output_type": "stream",
     "text": [
      "2021-11-05 15:28:27,553 INFO sqlalchemy.engine.Engine \n",
      "SELECT SPY.Date \n",
      "FROM SPY\n",
      "INNER JOIN BND\n",
      "ON BND.Date = SPY.Date\n",
      "INNER JOIN GLD\n",
      "ON GLD.Date = BND.Date\n",
      "INNER JOIN BTC\n",
      "ON GLD.Date = BTC.Date\n",
      "\n",
      "2021-11-05 15:28:27,554 INFO sqlalchemy.engine.Engine [raw sql] ()\n"
     ]
    },
    {
     "data": {
      "text/html": [
       "<div>\n",
       "<style scoped>\n",
       "    .dataframe tbody tr th:only-of-type {\n",
       "        vertical-align: middle;\n",
       "    }\n",
       "\n",
       "    .dataframe tbody tr th {\n",
       "        vertical-align: top;\n",
       "    }\n",
       "\n",
       "    .dataframe thead th {\n",
       "        text-align: right;\n",
       "    }\n",
       "</style>\n",
       "<table border=\"1\" class=\"dataframe\">\n",
       "  <thead>\n",
       "    <tr style=\"text-align: right;\">\n",
       "      <th></th>\n",
       "      <th>Date</th>\n",
       "    </tr>\n",
       "  </thead>\n",
       "  <tbody>\n",
       "    <tr>\n",
       "      <th>0</th>\n",
       "      <td>2014-11-05</td>\n",
       "    </tr>\n",
       "    <tr>\n",
       "      <th>1</th>\n",
       "      <td>2014-11-06</td>\n",
       "    </tr>\n",
       "    <tr>\n",
       "      <th>2</th>\n",
       "      <td>2014-11-07</td>\n",
       "    </tr>\n",
       "    <tr>\n",
       "      <th>3</th>\n",
       "      <td>2014-11-10</td>\n",
       "    </tr>\n",
       "    <tr>\n",
       "      <th>4</th>\n",
       "      <td>2014-11-11</td>\n",
       "    </tr>\n",
       "    <tr>\n",
       "      <th>...</th>\n",
       "      <td>...</td>\n",
       "    </tr>\n",
       "    <tr>\n",
       "      <th>1756</th>\n",
       "      <td>2021-10-27</td>\n",
       "    </tr>\n",
       "    <tr>\n",
       "      <th>1757</th>\n",
       "      <td>2021-10-28</td>\n",
       "    </tr>\n",
       "    <tr>\n",
       "      <th>1758</th>\n",
       "      <td>2021-10-29</td>\n",
       "    </tr>\n",
       "    <tr>\n",
       "      <th>1759</th>\n",
       "      <td>2021-11-01</td>\n",
       "    </tr>\n",
       "    <tr>\n",
       "      <th>1760</th>\n",
       "      <td>2021-11-02</td>\n",
       "    </tr>\n",
       "  </tbody>\n",
       "</table>\n",
       "<p>1761 rows × 1 columns</p>\n",
       "</div>"
      ],
      "text/plain": [
       "            Date\n",
       "0     2014-11-05\n",
       "1     2014-11-06\n",
       "2     2014-11-07\n",
       "3     2014-11-10\n",
       "4     2014-11-11\n",
       "...          ...\n",
       "1756  2021-10-27\n",
       "1757  2021-10-28\n",
       "1758  2021-10-29\n",
       "1759  2021-11-01\n",
       "1760  2021-11-02\n",
       "\n",
       "[1761 rows x 1 columns]"
      ]
     },
     "execution_count": 39,
     "metadata": {},
     "output_type": "execute_result"
    }
   ],
   "source": []
  },
  {
   "cell_type": "code",
   "execution_count": 41,
   "id": "7c203a48-f4c8-4ec0-9f0e-b2f51b4b1142",
   "metadata": {},
   "outputs": [
    {
     "name": "stdout",
     "output_type": "stream",
     "text": [
      "2021-11-05 15:32:29,326 INFO sqlalchemy.engine.Engine \n",
      "ALTER TABLE SPY ADD COLUMN Sector TEXT\n",
      "\n",
      "2021-11-05 15:32:29,328 INFO sqlalchemy.engine.Engine [raw sql] ()\n",
      "2021-11-05 15:32:29,332 INFO sqlalchemy.engine.Engine COMMIT\n"
     ]
    },
    {
     "data": {
      "text/plain": [
       "<sqlalchemy.engine.cursor.LegacyCursorResult at 0x7f83d43fea10>"
      ]
     },
     "execution_count": 41,
     "metadata": {},
     "output_type": "execute_result"
    }
   ],
   "source": [
    "# Alter SPY table by adding Sector column\n",
    "query_alter_spy = \"\"\"\n",
    "ALTER TABLE SPY ADD COLUMN Sector TEXT\n",
    "\"\"\"\n",
    "engine.execute(query_alter_spy)"
   ]
  },
  {
   "cell_type": "code",
   "execution_count": 42,
   "id": "365d50d4-19f6-4775-915d-77b7b6357a0c",
   "metadata": {},
   "outputs": [
    {
     "name": "stdout",
     "output_type": "stream",
     "text": [
      "2021-11-05 15:33:04,855 INFO sqlalchemy.engine.Engine \n",
      "ALTER TABLE BND ADD COLUMN Sector TEXT\n",
      "\n",
      "2021-11-05 15:33:04,857 INFO sqlalchemy.engine.Engine [raw sql] ()\n",
      "2021-11-05 15:33:04,864 INFO sqlalchemy.engine.Engine COMMIT\n"
     ]
    },
    {
     "data": {
      "text/plain": [
       "<sqlalchemy.engine.cursor.LegacyCursorResult at 0x7f83d45d4090>"
      ]
     },
     "execution_count": 42,
     "metadata": {},
     "output_type": "execute_result"
    }
   ],
   "source": [
    "# Alter BND table by adding Sector column\n",
    "query_alter_bnd = \"\"\"\n",
    "ALTER TABLE BND ADD COLUMN Sector TEXT\n",
    "\"\"\"\n",
    "engine.execute(query_alter_bnd)"
   ]
  },
  {
   "cell_type": "code",
   "execution_count": 43,
   "id": "9b897b51-9996-4321-890e-31660ea72330",
   "metadata": {},
   "outputs": [
    {
     "name": "stdout",
     "output_type": "stream",
     "text": [
      "2021-11-05 15:33:40,730 INFO sqlalchemy.engine.Engine \n",
      "ALTER TABLE gld ADD COLUMN Sector TEXT\n",
      "\n",
      "2021-11-05 15:33:40,731 INFO sqlalchemy.engine.Engine [raw sql] ()\n",
      "2021-11-05 15:33:40,737 INFO sqlalchemy.engine.Engine COMMIT\n"
     ]
    },
    {
     "data": {
      "text/plain": [
       "<sqlalchemy.engine.cursor.LegacyCursorResult at 0x7f83d43feb90>"
      ]
     },
     "execution_count": 43,
     "metadata": {},
     "output_type": "execute_result"
    }
   ],
   "source": [
    "# Alter GLD table by adding Sector column\n",
    "query_alter_gld = \"\"\"\n",
    "ALTER TABLE gld ADD COLUMN Sector TEXT\n",
    "\"\"\"\n",
    "engine.execute(query_alter_gld)"
   ]
  },
  {
   "cell_type": "code",
   "execution_count": 44,
   "id": "e101a650-e9f1-40e1-a3bc-fe5c06ddb793",
   "metadata": {},
   "outputs": [
    {
     "name": "stdout",
     "output_type": "stream",
     "text": [
      "2021-11-05 15:34:10,663 INFO sqlalchemy.engine.Engine \n",
      "ALTER TABLE btc ADD COLUMN Sector TEXT\n",
      "\n",
      "2021-11-05 15:34:10,665 INFO sqlalchemy.engine.Engine [raw sql] ()\n",
      "2021-11-05 15:34:10,668 INFO sqlalchemy.engine.Engine COMMIT\n"
     ]
    },
    {
     "data": {
      "text/plain": [
       "<sqlalchemy.engine.cursor.LegacyCursorResult at 0x7f83d424a8d0>"
      ]
     },
     "execution_count": 44,
     "metadata": {},
     "output_type": "execute_result"
    }
   ],
   "source": [
    "# Alter BTC table by adding Sector column\n",
    "query_alter_btc = \"\"\"\n",
    "ALTER TABLE btc ADD COLUMN Sector TEXT\n",
    "\"\"\"\n",
    "engine.execute(query_alter_btc)"
   ]
  },
  {
   "cell_type": "code",
   "execution_count": 45,
   "id": "3c4ab698-b077-46bf-a29e-0ecf946155b2",
   "metadata": {},
   "outputs": [
    {
     "name": "stdout",
     "output_type": "stream",
     "text": [
      "2021-11-05 15:35:08,675 INFO sqlalchemy.engine.Engine \n",
      "UPDATE SPY\n",
      "SET Sector = 'SPY'\n",
      "\n",
      "2021-11-05 15:35:08,677 INFO sqlalchemy.engine.Engine [raw sql] ()\n",
      "2021-11-05 15:35:08,687 INFO sqlalchemy.engine.Engine COMMIT\n"
     ]
    },
    {
     "data": {
      "text/plain": [
       "<sqlalchemy.engine.cursor.LegacyCursorResult at 0x7f83d43fab90>"
      ]
     },
     "execution_count": 45,
     "metadata": {},
     "output_type": "execute_result"
    }
   ],
   "source": [
    "# Update Sector column to SPY\n",
    "update_sector = \"\"\"\n",
    "UPDATE SPY\n",
    "SET Sector = 'SPY'\n",
    "\"\"\"\n",
    "engine.execute(update_sector)"
   ]
  },
  {
   "cell_type": "code",
   "execution_count": 46,
   "id": "53c35cb1-e580-45a8-bfa6-92101c1781ab",
   "metadata": {},
   "outputs": [
    {
     "name": "stdout",
     "output_type": "stream",
     "text": [
      "2021-11-05 15:35:47,777 INFO sqlalchemy.engine.Engine \n",
      "UPDATE BND\n",
      "SET Sector = 'BND'\n",
      "\n",
      "2021-11-05 15:35:47,778 INFO sqlalchemy.engine.Engine [raw sql] ()\n",
      "2021-11-05 15:35:47,787 INFO sqlalchemy.engine.Engine COMMIT\n"
     ]
    },
    {
     "data": {
      "text/plain": [
       "<sqlalchemy.engine.cursor.LegacyCursorResult at 0x7f83d424ad50>"
      ]
     },
     "execution_count": 46,
     "metadata": {},
     "output_type": "execute_result"
    }
   ],
   "source": [
    "# Update Sector column to BND\n",
    "update_sector = \"\"\"\n",
    "UPDATE BND\n",
    "SET Sector = 'BND'\n",
    "\"\"\"\n",
    "engine.execute(update_sector)"
   ]
  },
  {
   "cell_type": "code",
   "execution_count": 47,
   "id": "97ff413b-94af-4743-8886-5ef6e733c84a",
   "metadata": {},
   "outputs": [
    {
     "name": "stdout",
     "output_type": "stream",
     "text": [
      "2021-11-05 15:36:11,911 INFO sqlalchemy.engine.Engine \n",
      "UPDATE BTC\n",
      "SET Sector = 'BTC'\n",
      "\n",
      "2021-11-05 15:36:11,912 INFO sqlalchemy.engine.Engine [raw sql] ()\n",
      "2021-11-05 15:36:11,918 INFO sqlalchemy.engine.Engine COMMIT\n"
     ]
    },
    {
     "data": {
      "text/plain": [
       "<sqlalchemy.engine.cursor.LegacyCursorResult at 0x7f83d4243450>"
      ]
     },
     "execution_count": 47,
     "metadata": {},
     "output_type": "execute_result"
    }
   ],
   "source": [
    "# Update Sector column to BTC\n",
    "update_sector = \"\"\"\n",
    "UPDATE BTC\n",
    "SET Sector = 'BTC'\n",
    "\"\"\"\n",
    "engine.execute(update_sector)"
   ]
  },
  {
   "cell_type": "code",
   "execution_count": 49,
   "id": "7c73da2e-39a6-472c-a4a5-2e78e6bbb152",
   "metadata": {},
   "outputs": [
    {
     "name": "stdout",
     "output_type": "stream",
     "text": [
      "2021-11-05 15:38:00,255 INFO sqlalchemy.engine.Engine \n",
      "UPDATE GLD\n",
      "SET Sector = 'GLD'\n",
      "\n",
      "2021-11-05 15:38:00,256 INFO sqlalchemy.engine.Engine [raw sql] ()\n",
      "2021-11-05 15:38:00,265 INFO sqlalchemy.engine.Engine COMMIT\n"
     ]
    },
    {
     "data": {
      "text/plain": [
       "<sqlalchemy.engine.cursor.LegacyCursorResult at 0x7f83d4418fd0>"
      ]
     },
     "execution_count": 49,
     "metadata": {},
     "output_type": "execute_result"
    }
   ],
   "source": [
    "# Update Sector column to GLD\n",
    "update_sector = \"\"\"\n",
    "UPDATE GLD\n",
    "SET Sector = 'GLD'\n",
    "\"\"\"\n",
    "engine.execute(update_sector)"
   ]
  },
  {
   "cell_type": "code",
   "execution_count": 68,
   "id": "72cc56bb-f1df-42b0-a9e3-656464a0c082",
   "metadata": {},
   "outputs": [
    {
     "name": "stdout",
     "output_type": "stream",
     "text": [
      "2021-11-05 15:55:58,228 INFO sqlalchemy.engine.Engine \n",
      "SELECT SPY.Date, SPY.Sector, SPY.'Adj Close',SPY.volume, BND.Sector, \n",
      "BND.'Adj Close',BND.volume, GLD.Sector, GLD.'Adj Close', GLD.volume,\n",
      "BTC.Sector, BTC.'Adj Close',BTC.volume\n",
      "FROM SPY\n",
      "LEFT JOIN BTC ON SPY.Date = BTC.date\n",
      "INNER JOIN BND\n",
      "ON BND.Date = SPY.Date\n",
      "INNER JOIN GLD\n",
      "ON GLD.Date = BND.Date\n",
      "\n",
      "\n",
      "2021-11-05 15:55:58,231 INFO sqlalchemy.engine.Engine [raw sql] ()\n"
     ]
    },
    {
     "data": {
      "text/html": [
       "<div>\n",
       "<style scoped>\n",
       "    .dataframe tbody tr th:only-of-type {\n",
       "        vertical-align: middle;\n",
       "    }\n",
       "\n",
       "    .dataframe tbody tr th {\n",
       "        vertical-align: top;\n",
       "    }\n",
       "\n",
       "    .dataframe thead th {\n",
       "        text-align: right;\n",
       "    }\n",
       "</style>\n",
       "<table border=\"1\" class=\"dataframe\">\n",
       "  <thead>\n",
       "    <tr style=\"text-align: right;\">\n",
       "      <th></th>\n",
       "      <th>Date</th>\n",
       "      <th>Sector</th>\n",
       "      <th>Adj Close</th>\n",
       "      <th>Volume</th>\n",
       "      <th>Sector</th>\n",
       "      <th>Adj Close</th>\n",
       "      <th>Volume</th>\n",
       "      <th>Sector</th>\n",
       "      <th>Adj Close</th>\n",
       "      <th>Volume</th>\n",
       "      <th>Sector</th>\n",
       "      <th>Adj Close</th>\n",
       "      <th>Volume</th>\n",
       "    </tr>\n",
       "  </thead>\n",
       "  <tbody>\n",
       "    <tr>\n",
       "      <th>0</th>\n",
       "      <td>2011-11-07</td>\n",
       "      <td>SPY</td>\n",
       "      <td>103.959915</td>\n",
       "      <td>196617200</td>\n",
       "      <td>BND</td>\n",
       "      <td>64.331070</td>\n",
       "      <td>2067200</td>\n",
       "      <td>GLD</td>\n",
       "      <td>174.979996</td>\n",
       "      <td>20131900</td>\n",
       "      <td>None</td>\n",
       "      <td>NaN</td>\n",
       "      <td>NaN</td>\n",
       "    </tr>\n",
       "    <tr>\n",
       "      <th>1</th>\n",
       "      <td>2011-11-08</td>\n",
       "      <td>SPY</td>\n",
       "      <td>105.293808</td>\n",
       "      <td>224426300</td>\n",
       "      <td>BND</td>\n",
       "      <td>64.131729</td>\n",
       "      <td>1891400</td>\n",
       "      <td>GLD</td>\n",
       "      <td>173.529999</td>\n",
       "      <td>16054200</td>\n",
       "      <td>None</td>\n",
       "      <td>NaN</td>\n",
       "      <td>NaN</td>\n",
       "    </tr>\n",
       "    <tr>\n",
       "      <th>2</th>\n",
       "      <td>2011-11-09</td>\n",
       "      <td>SPY</td>\n",
       "      <td>101.407448</td>\n",
       "      <td>337982000</td>\n",
       "      <td>BND</td>\n",
       "      <td>64.208420</td>\n",
       "      <td>1346800</td>\n",
       "      <td>GLD</td>\n",
       "      <td>172.070007</td>\n",
       "      <td>12313900</td>\n",
       "      <td>None</td>\n",
       "      <td>NaN</td>\n",
       "      <td>NaN</td>\n",
       "    </tr>\n",
       "    <tr>\n",
       "      <th>3</th>\n",
       "      <td>2011-11-10</td>\n",
       "      <td>SPY</td>\n",
       "      <td>102.362564</td>\n",
       "      <td>231866500</td>\n",
       "      <td>BND</td>\n",
       "      <td>64.131729</td>\n",
       "      <td>2487500</td>\n",
       "      <td>GLD</td>\n",
       "      <td>171.139999</td>\n",
       "      <td>11848700</td>\n",
       "      <td>None</td>\n",
       "      <td>NaN</td>\n",
       "      <td>NaN</td>\n",
       "    </tr>\n",
       "    <tr>\n",
       "      <th>4</th>\n",
       "      <td>2011-11-11</td>\n",
       "      <td>SPY</td>\n",
       "      <td>104.289276</td>\n",
       "      <td>189924400</td>\n",
       "      <td>BND</td>\n",
       "      <td>64.085754</td>\n",
       "      <td>698100</td>\n",
       "      <td>GLD</td>\n",
       "      <td>173.960007</td>\n",
       "      <td>8727100</td>\n",
       "      <td>None</td>\n",
       "      <td>NaN</td>\n",
       "      <td>NaN</td>\n",
       "    </tr>\n",
       "    <tr>\n",
       "      <th>...</th>\n",
       "      <td>...</td>\n",
       "      <td>...</td>\n",
       "      <td>...</td>\n",
       "      <td>...</td>\n",
       "      <td>...</td>\n",
       "      <td>...</td>\n",
       "      <td>...</td>\n",
       "      <td>...</td>\n",
       "      <td>...</td>\n",
       "      <td>...</td>\n",
       "      <td>...</td>\n",
       "      <td>...</td>\n",
       "      <td>...</td>\n",
       "    </tr>\n",
       "    <tr>\n",
       "      <th>2509</th>\n",
       "      <td>2021-10-27</td>\n",
       "      <td>SPY</td>\n",
       "      <td>453.940002</td>\n",
       "      <td>72438000</td>\n",
       "      <td>BND</td>\n",
       "      <td>85.335861</td>\n",
       "      <td>7618400</td>\n",
       "      <td>GLD</td>\n",
       "      <td>168.119995</td>\n",
       "      <td>5823100</td>\n",
       "      <td>BTC</td>\n",
       "      <td>58482.386719</td>\n",
       "      <td>4.365708e+10</td>\n",
       "    </tr>\n",
       "    <tr>\n",
       "      <th>2510</th>\n",
       "      <td>2021-10-28</td>\n",
       "      <td>SPY</td>\n",
       "      <td>458.320007</td>\n",
       "      <td>51437900</td>\n",
       "      <td>BND</td>\n",
       "      <td>85.226036</td>\n",
       "      <td>6225800</td>\n",
       "      <td>GLD</td>\n",
       "      <td>168.080002</td>\n",
       "      <td>7000700</td>\n",
       "      <td>BTC</td>\n",
       "      <td>60622.136719</td>\n",
       "      <td>4.525708e+10</td>\n",
       "    </tr>\n",
       "    <tr>\n",
       "      <th>2511</th>\n",
       "      <td>2021-10-29</td>\n",
       "      <td>SPY</td>\n",
       "      <td>459.250000</td>\n",
       "      <td>70108200</td>\n",
       "      <td>BND</td>\n",
       "      <td>85.245995</td>\n",
       "      <td>8975200</td>\n",
       "      <td>GLD</td>\n",
       "      <td>166.649994</td>\n",
       "      <td>7531900</td>\n",
       "      <td>BTC</td>\n",
       "      <td>62227.964844</td>\n",
       "      <td>3.685688e+10</td>\n",
       "    </tr>\n",
       "    <tr>\n",
       "      <th>2512</th>\n",
       "      <td>2021-11-01</td>\n",
       "      <td>SPY</td>\n",
       "      <td>460.040009</td>\n",
       "      <td>48433600</td>\n",
       "      <td>BND</td>\n",
       "      <td>85.180000</td>\n",
       "      <td>5201400</td>\n",
       "      <td>GLD</td>\n",
       "      <td>167.520004</td>\n",
       "      <td>4975600</td>\n",
       "      <td>BTC</td>\n",
       "      <td>61004.406250</td>\n",
       "      <td>3.615057e+10</td>\n",
       "    </tr>\n",
       "    <tr>\n",
       "      <th>2513</th>\n",
       "      <td>2021-11-02</td>\n",
       "      <td>SPY</td>\n",
       "      <td>461.899994</td>\n",
       "      <td>48854200</td>\n",
       "      <td>BND</td>\n",
       "      <td>85.339996</td>\n",
       "      <td>4199400</td>\n",
       "      <td>GLD</td>\n",
       "      <td>167.160004</td>\n",
       "      <td>3760700</td>\n",
       "      <td>BTC</td>\n",
       "      <td>63226.402344</td>\n",
       "      <td>3.774667e+10</td>\n",
       "    </tr>\n",
       "  </tbody>\n",
       "</table>\n",
       "<p>2514 rows × 13 columns</p>\n",
       "</div>"
      ],
      "text/plain": [
       "            Date Sector   Adj Close     Volume Sector  Adj Close   Volume  \\\n",
       "0     2011-11-07    SPY  103.959915  196617200    BND  64.331070  2067200   \n",
       "1     2011-11-08    SPY  105.293808  224426300    BND  64.131729  1891400   \n",
       "2     2011-11-09    SPY  101.407448  337982000    BND  64.208420  1346800   \n",
       "3     2011-11-10    SPY  102.362564  231866500    BND  64.131729  2487500   \n",
       "4     2011-11-11    SPY  104.289276  189924400    BND  64.085754   698100   \n",
       "...          ...    ...         ...        ...    ...        ...      ...   \n",
       "2509  2021-10-27    SPY  453.940002   72438000    BND  85.335861  7618400   \n",
       "2510  2021-10-28    SPY  458.320007   51437900    BND  85.226036  6225800   \n",
       "2511  2021-10-29    SPY  459.250000   70108200    BND  85.245995  8975200   \n",
       "2512  2021-11-01    SPY  460.040009   48433600    BND  85.180000  5201400   \n",
       "2513  2021-11-02    SPY  461.899994   48854200    BND  85.339996  4199400   \n",
       "\n",
       "     Sector   Adj Close    Volume Sector     Adj Close        Volume  \n",
       "0       GLD  174.979996  20131900   None           NaN           NaN  \n",
       "1       GLD  173.529999  16054200   None           NaN           NaN  \n",
       "2       GLD  172.070007  12313900   None           NaN           NaN  \n",
       "3       GLD  171.139999  11848700   None           NaN           NaN  \n",
       "4       GLD  173.960007   8727100   None           NaN           NaN  \n",
       "...     ...         ...       ...    ...           ...           ...  \n",
       "2509    GLD  168.119995   5823100    BTC  58482.386719  4.365708e+10  \n",
       "2510    GLD  168.080002   7000700    BTC  60622.136719  4.525708e+10  \n",
       "2511    GLD  166.649994   7531900    BTC  62227.964844  3.685688e+10  \n",
       "2512    GLD  167.520004   4975600    BTC  61004.406250  3.615057e+10  \n",
       "2513    GLD  167.160004   3760700    BTC  63226.402344  3.774667e+10  \n",
       "\n",
       "[2514 rows x 13 columns]"
      ]
     },
     "execution_count": 68,
     "metadata": {},
     "output_type": "execute_result"
    }
   ],
   "source": [
    "# Join all tables together on the Date column, make LEFT join because fewer rows for BTC\n",
    "join_sectors_df = f\"\"\"\n",
    "SELECT SPY.Date, SPY.Sector, SPY.'Adj Close',SPY.volume, BND.Sector, \n",
    "BND.'Adj Close',BND.volume, GLD.Sector, GLD.'Adj Close', GLD.volume,\n",
    "BTC.Sector, BTC.'Adj Close',BTC.volume\n",
    "FROM SPY\n",
    "LEFT JOIN BTC ON SPY.Date = BTC.date\n",
    "INNER JOIN BND\n",
    "ON BND.Date = SPY.Date\n",
    "INNER JOIN GLD\n",
    "ON GLD.Date = BND.Date\n",
    "\n",
    "\"\"\"\n",
    "Portfolio_df = pd.read_sql_query(join_sectors_df, con=engine)\n",
    "Portfolio_df"
   ]
  },
  {
   "cell_type": "code",
   "execution_count": null,
   "id": "944430ef-48b1-4a26-b56e-9bf3cc8f57c7",
   "metadata": {},
   "outputs": [],
   "source": []
  }
 ],
 "metadata": {
  "kernelspec": {
   "display_name": "sqlenv",
   "language": "python",
   "name": "sqlenv"
  },
  "language_info": {
   "codemirror_mode": {
    "name": "ipython",
    "version": 3
   },
   "file_extension": ".py",
   "mimetype": "text/x-python",
   "name": "python",
   "nbconvert_exporter": "python",
   "pygments_lexer": "ipython3",
   "version": "3.7.10"
  }
 },
 "nbformat": 4,
 "nbformat_minor": 5
}
