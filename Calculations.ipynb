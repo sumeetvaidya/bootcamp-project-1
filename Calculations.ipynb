{
 "cells": [
  {
   "cell_type": "code",
   "execution_count": 5,
   "id": "c84cde14-3131-4319-9728-67f0f37b620d",
   "metadata": {},
   "outputs": [],
   "source": [
    "# Import modules\n",
    "import pandas as pd\n",
    "import numpy as np\n",
    "from pathlib import Path\n",
    "import sqlalchemy\n",
    "%matplotlib inline\n",
    "import hvplot.pandas"
   ]
  },
  {
   "cell_type": "code",
   "execution_count": 16,
   "id": "8d276e1e-8818-4da2-b752-3449e42e5a67",
   "metadata": {},
   "outputs": [],
   "source": [
    "# Read in the csv file from the Resources folder\n",
    "sp500_df = pd.read_csv(\n",
    "    Path('./Resources/SPY.csv'),\n",
    "    # index_col ='Date',\n",
    "    parse_dates=True,\n",
    "    infer_datetime_format=True\n",
    ")"
   ]
  },
  {
   "cell_type": "code",
   "execution_count": 17,
   "id": "1f96df15-6eed-466b-a375-9e778f6e1451",
   "metadata": {},
   "outputs": [
    {
     "data": {
      "text/html": [
       "<div>\n",
       "<style scoped>\n",
       "    .dataframe tbody tr th:only-of-type {\n",
       "        vertical-align: middle;\n",
       "    }\n",
       "\n",
       "    .dataframe tbody tr th {\n",
       "        vertical-align: top;\n",
       "    }\n",
       "\n",
       "    .dataframe thead th {\n",
       "        text-align: right;\n",
       "    }\n",
       "</style>\n",
       "<table border=\"1\" class=\"dataframe\">\n",
       "  <thead>\n",
       "    <tr style=\"text-align: right;\">\n",
       "      <th></th>\n",
       "      <th>Date</th>\n",
       "      <th>Open</th>\n",
       "      <th>High</th>\n",
       "      <th>Low</th>\n",
       "      <th>Close</th>\n",
       "      <th>Adj Close</th>\n",
       "      <th>Volume</th>\n",
       "    </tr>\n",
       "  </thead>\n",
       "  <tbody>\n",
       "    <tr>\n",
       "      <th>0</th>\n",
       "      <td>2020-11-03</td>\n",
       "      <td>333.690002</td>\n",
       "      <td>338.250000</td>\n",
       "      <td>330.290009</td>\n",
       "      <td>336.029999</td>\n",
       "      <td>331.362213</td>\n",
       "      <td>93294200</td>\n",
       "    </tr>\n",
       "    <tr>\n",
       "      <th>1</th>\n",
       "      <td>2020-11-04</td>\n",
       "      <td>340.859985</td>\n",
       "      <td>347.940002</td>\n",
       "      <td>339.589996</td>\n",
       "      <td>343.540009</td>\n",
       "      <td>338.767914</td>\n",
       "      <td>126959700</td>\n",
       "    </tr>\n",
       "    <tr>\n",
       "      <th>2</th>\n",
       "      <td>2020-11-05</td>\n",
       "      <td>349.239990</td>\n",
       "      <td>352.190002</td>\n",
       "      <td>348.859985</td>\n",
       "      <td>350.239990</td>\n",
       "      <td>345.374847</td>\n",
       "      <td>82039700</td>\n",
       "    </tr>\n",
       "    <tr>\n",
       "      <th>3</th>\n",
       "      <td>2020-11-06</td>\n",
       "      <td>349.929993</td>\n",
       "      <td>351.510010</td>\n",
       "      <td>347.649994</td>\n",
       "      <td>350.160004</td>\n",
       "      <td>345.295959</td>\n",
       "      <td>74973000</td>\n",
       "    </tr>\n",
       "    <tr>\n",
       "      <th>4</th>\n",
       "      <td>2020-11-09</td>\n",
       "      <td>363.970001</td>\n",
       "      <td>364.380005</td>\n",
       "      <td>354.059998</td>\n",
       "      <td>354.559998</td>\n",
       "      <td>349.634827</td>\n",
       "      <td>172304200</td>\n",
       "    </tr>\n",
       "  </tbody>\n",
       "</table>\n",
       "</div>"
      ],
      "text/plain": [
       "         Date        Open        High         Low       Close   Adj Close  \\\n",
       "0  2020-11-03  333.690002  338.250000  330.290009  336.029999  331.362213   \n",
       "1  2020-11-04  340.859985  347.940002  339.589996  343.540009  338.767914   \n",
       "2  2020-11-05  349.239990  352.190002  348.859985  350.239990  345.374847   \n",
       "3  2020-11-06  349.929993  351.510010  347.649994  350.160004  345.295959   \n",
       "4  2020-11-09  363.970001  364.380005  354.059998  354.559998  349.634827   \n",
       "\n",
       "      Volume  \n",
       "0   93294200  \n",
       "1  126959700  \n",
       "2   82039700  \n",
       "3   74973000  \n",
       "4  172304200  "
      ]
     },
     "execution_count": 17,
     "metadata": {},
     "output_type": "execute_result"
    }
   ],
   "source": [
    "# Review the first 5 rows of sp500 returns\n",
    "sp500_df.head()"
   ]
  },
  {
   "cell_type": "code",
   "execution_count": 18,
   "id": "1f884d50-488d-4e87-bad8-f97d7efbfe96",
   "metadata": {},
   "outputs": [],
   "source": [
    "# Create a SQLite database\n",
    "database_connection_string ='sqlite:///'"
   ]
  },
  {
   "cell_type": "code",
   "execution_count": 19,
   "id": "3f677301-f84c-4b10-9142-8c603483a9c6",
   "metadata": {},
   "outputs": [
    {
     "data": {
      "text/plain": [
       "Engine(sqlite:///)"
      ]
     },
     "execution_count": 19,
     "metadata": {},
     "output_type": "execute_result"
    }
   ],
   "source": [
    "# Create a database engine\n",
    "engine = sqlalchemy.create_engine(database_connection_string,echo=True)\n",
    "engine"
   ]
  },
  {
   "cell_type": "code",
   "execution_count": 20,
   "id": "fc776023-9a72-4922-8091-5a81194e67d4",
   "metadata": {},
   "outputs": [
    {
     "name": "stdout",
     "output_type": "stream",
     "text": [
      "2021-11-03 22:16:34,637 INFO sqlalchemy.engine.Engine PRAGMA main.table_info(\"sp500\")\n",
      "2021-11-03 22:16:34,639 INFO sqlalchemy.engine.Engine [raw sql] ()\n",
      "2021-11-03 22:16:34,641 INFO sqlalchemy.engine.Engine PRAGMA temp.table_info(\"sp500\")\n",
      "2021-11-03 22:16:34,643 INFO sqlalchemy.engine.Engine [raw sql] ()\n",
      "2021-11-03 22:16:34,649 INFO sqlalchemy.engine.Engine BEGIN (implicit)\n",
      "2021-11-03 22:16:34,652 INFO sqlalchemy.engine.Engine \n",
      "CREATE TABLE sp500 (\n",
      "\t\"Date\" TEXT, \n",
      "\t\"Open\" FLOAT, \n",
      "\t\"High\" FLOAT, \n",
      "\t\"Low\" FLOAT, \n",
      "\t\"Close\" FLOAT, \n",
      "\t\"Adj Close\" FLOAT, \n",
      "\t\"Volume\" BIGINT\n",
      ")\n",
      "\n",
      "\n",
      "2021-11-03 22:16:34,654 INFO sqlalchemy.engine.Engine [no key 0.00237s] ()\n",
      "2021-11-03 22:16:34,657 INFO sqlalchemy.engine.Engine COMMIT\n",
      "2021-11-03 22:16:34,661 INFO sqlalchemy.engine.Engine BEGIN (implicit)\n",
      "2021-11-03 22:16:34,679 INFO sqlalchemy.engine.Engine INSERT INTO sp500 (\"Date\", \"Open\", \"High\", \"Low\", \"Close\", \"Adj Close\", \"Volume\") VALUES (?, ?, ?, ?, ?, ?, ?)\n",
      "2021-11-03 22:16:34,680 INFO sqlalchemy.engine.Engine [generated in 0.00703s] (('2020-11-03', 333.690002, 338.25, 330.290009, 336.029999, 331.362213, 93294200), ('2020-11-04', 340.859985, 347.940002, 339.589996, 343.540009, 338.767914, 126959700), ('2020-11-05', 349.23999, 352.190002, 348.859985, 350.23999, 345.374847, 82039700), ('2020-11-06', 349.929993, 351.51001, 347.649994, 350.160004, 345.295959, 74973000), ('2020-11-09', 363.970001, 364.380005, 354.059998, 354.559998, 349.634827, 172304200), ('2020-11-10', 353.48999, 355.179993, 350.51001, 354.040009, 349.122101, 85552000), ('2020-11-11', 356.399994, 357.559998, 355.059998, 356.670013, 351.715576, 58649000), ('2020-11-12', 355.579987, 356.720001, 351.26001, 353.209991, 348.303589, 67546200)  ... displaying 10 of 252 total bound parameter sets ...  ('2021-11-01', 460.299988, 460.700012, 458.200012, 460.040009, 460.040009, 48433600), ('2021-11-02', 460.220001, 462.230011, 460.079987, 461.899994, 461.899994, 48854200))\n",
      "2021-11-03 22:16:34,685 INFO sqlalchemy.engine.Engine COMMIT\n",
      "2021-11-03 22:16:34,687 INFO sqlalchemy.engine.Engine SELECT name FROM sqlite_master WHERE type='table' ORDER BY name\n",
      "2021-11-03 22:16:34,688 INFO sqlalchemy.engine.Engine [raw sql] ()\n",
      "2021-11-03 22:16:34,690 INFO sqlalchemy.engine.Engine SELECT name FROM sqlite_master WHERE type='view' ORDER BY name\n",
      "2021-11-03 22:16:34,691 INFO sqlalchemy.engine.Engine [raw sql] ()\n",
      "2021-11-03 22:16:34,693 INFO sqlalchemy.engine.Engine PRAGMA main.table_xinfo(\"sp500\")\n",
      "2021-11-03 22:16:34,696 INFO sqlalchemy.engine.Engine [raw sql] ()\n",
      "2021-11-03 22:16:34,699 INFO sqlalchemy.engine.Engine SELECT sql FROM  (SELECT * FROM sqlite_master UNION ALL   SELECT * FROM sqlite_temp_master) WHERE name = ? AND type = 'table'\n",
      "2021-11-03 22:16:34,701 INFO sqlalchemy.engine.Engine [raw sql] ('sp500',)\n",
      "2021-11-03 22:16:34,703 INFO sqlalchemy.engine.Engine PRAGMA main.foreign_key_list(\"sp500\")\n",
      "2021-11-03 22:16:34,704 INFO sqlalchemy.engine.Engine [raw sql] ()\n",
      "2021-11-03 22:16:34,706 INFO sqlalchemy.engine.Engine PRAGMA temp.foreign_key_list(\"sp500\")\n",
      "2021-11-03 22:16:34,708 INFO sqlalchemy.engine.Engine [raw sql] ()\n",
      "2021-11-03 22:16:34,710 INFO sqlalchemy.engine.Engine SELECT sql FROM  (SELECT * FROM sqlite_master UNION ALL   SELECT * FROM sqlite_temp_master) WHERE name = ? AND type = 'table'\n",
      "2021-11-03 22:16:34,711 INFO sqlalchemy.engine.Engine [raw sql] ('sp500',)\n",
      "2021-11-03 22:16:34,712 INFO sqlalchemy.engine.Engine PRAGMA main.index_list(\"sp500\")\n",
      "2021-11-03 22:16:34,713 INFO sqlalchemy.engine.Engine [raw sql] ()\n",
      "2021-11-03 22:16:34,714 INFO sqlalchemy.engine.Engine PRAGMA temp.index_list(\"sp500\")\n",
      "2021-11-03 22:16:34,715 INFO sqlalchemy.engine.Engine [raw sql] ()\n",
      "2021-11-03 22:16:34,717 INFO sqlalchemy.engine.Engine PRAGMA main.index_list(\"sp500\")\n",
      "2021-11-03 22:16:34,718 INFO sqlalchemy.engine.Engine [raw sql] ()\n",
      "2021-11-03 22:16:34,719 INFO sqlalchemy.engine.Engine PRAGMA temp.index_list(\"sp500\")\n",
      "2021-11-03 22:16:34,721 INFO sqlalchemy.engine.Engine [raw sql] ()\n",
      "2021-11-03 22:16:34,722 INFO sqlalchemy.engine.Engine SELECT sql FROM  (SELECT * FROM sqlite_master UNION ALL   SELECT * FROM sqlite_temp_master) WHERE name = ? AND type = 'table'\n",
      "2021-11-03 22:16:34,723 INFO sqlalchemy.engine.Engine [raw sql] ('sp500',)\n",
      "2021-11-03 22:16:34,726 INFO sqlalchemy.engine.Engine SELECT sp500.\"Date\", sp500.\"Open\", sp500.\"High\", sp500.\"Low\", sp500.\"Close\", sp500.\"Adj Close\", sp500.\"Volume\" \n",
      "FROM sp500\n",
      "2021-11-03 22:16:34,727 INFO sqlalchemy.engine.Engine [generated in 0.00131s] ()\n"
     ]
    }
   ],
   "source": [
    "# Read the table into a DataFrame\n",
    "sp500_df.to_sql('sp500', engine, index=False, if_exists='replace')\n",
    "sp500_df = pd.read_sql_table('sp500', con=engine)"
   ]
  },
  {
   "cell_type": "code",
   "execution_count": 21,
   "id": "0084fb54-6a95-4eaa-8ca7-bd23af3ca9c9",
   "metadata": {},
   "outputs": [
    {
     "name": "stdout",
     "output_type": "stream",
     "text": [
      "2021-11-03 22:16:38,681 INFO sqlalchemy.engine.Engine SELECT name FROM sqlite_master WHERE type='table' ORDER BY name\n",
      "2021-11-03 22:16:38,682 INFO sqlalchemy.engine.Engine [raw sql] ()\n"
     ]
    },
    {
     "name": "stderr",
     "output_type": "stream",
     "text": [
      "/Users/patrickbeeson/opt/anaconda3/envs/sqlenv/lib/python3.7/site-packages/ipykernel_launcher.py:2: SADeprecationWarning: The Engine.table_names() method is deprecated and will be removed in a future release.  Please refer to Inspector.get_table_names(). (deprecated since: 1.4)\n",
      "  \n"
     ]
    },
    {
     "data": {
      "text/plain": [
       "['sp500']"
      ]
     },
     "execution_count": 21,
     "metadata": {},
     "output_type": "execute_result"
    }
   ],
   "source": [
    "# Run the database engine to see that the sp500 table was created in the database\n",
    "engine.table_names()"
   ]
  },
  {
   "cell_type": "code",
   "execution_count": 22,
   "id": "593dca78-ba46-40d2-a320-7b27027c5d04",
   "metadata": {},
   "outputs": [
    {
     "name": "stdout",
     "output_type": "stream",
     "text": [
      "2021-11-03 22:16:41,074 INFO sqlalchemy.engine.Engine PRAGMA main.table_info(\"\n",
      "SELECT *\n",
      "FROM sp500\n",
      "\")\n",
      "2021-11-03 22:16:41,076 INFO sqlalchemy.engine.Engine [raw sql] ()\n",
      "2021-11-03 22:16:41,078 INFO sqlalchemy.engine.Engine PRAGMA temp.table_info(\"\n",
      "SELECT *\n",
      "FROM sp500\n",
      "\")\n",
      "2021-11-03 22:16:41,080 INFO sqlalchemy.engine.Engine [raw sql] ()\n",
      "2021-11-03 22:16:41,082 INFO sqlalchemy.engine.Engine \n",
      "SELECT *\n",
      "FROM sp500\n",
      "\n",
      "2021-11-03 22:16:41,084 INFO sqlalchemy.engine.Engine [raw sql] ()\n"
     ]
    },
    {
     "data": {
      "text/html": [
       "<div>\n",
       "<style scoped>\n",
       "    .dataframe tbody tr th:only-of-type {\n",
       "        vertical-align: middle;\n",
       "    }\n",
       "\n",
       "    .dataframe tbody tr th {\n",
       "        vertical-align: top;\n",
       "    }\n",
       "\n",
       "    .dataframe thead th {\n",
       "        text-align: right;\n",
       "    }\n",
       "</style>\n",
       "<table border=\"1\" class=\"dataframe\">\n",
       "  <thead>\n",
       "    <tr style=\"text-align: right;\">\n",
       "      <th></th>\n",
       "      <th>Open</th>\n",
       "      <th>High</th>\n",
       "      <th>Low</th>\n",
       "      <th>Close</th>\n",
       "      <th>Adj Close</th>\n",
       "      <th>Volume</th>\n",
       "    </tr>\n",
       "    <tr>\n",
       "      <th>Date</th>\n",
       "      <th></th>\n",
       "      <th></th>\n",
       "      <th></th>\n",
       "      <th></th>\n",
       "      <th></th>\n",
       "      <th></th>\n",
       "    </tr>\n",
       "  </thead>\n",
       "  <tbody>\n",
       "    <tr>\n",
       "      <th>2020-11-03</th>\n",
       "      <td>333.690002</td>\n",
       "      <td>338.250000</td>\n",
       "      <td>330.290009</td>\n",
       "      <td>336.029999</td>\n",
       "      <td>331.362213</td>\n",
       "      <td>93294200</td>\n",
       "    </tr>\n",
       "    <tr>\n",
       "      <th>2020-11-04</th>\n",
       "      <td>340.859985</td>\n",
       "      <td>347.940002</td>\n",
       "      <td>339.589996</td>\n",
       "      <td>343.540009</td>\n",
       "      <td>338.767914</td>\n",
       "      <td>126959700</td>\n",
       "    </tr>\n",
       "    <tr>\n",
       "      <th>2020-11-05</th>\n",
       "      <td>349.239990</td>\n",
       "      <td>352.190002</td>\n",
       "      <td>348.859985</td>\n",
       "      <td>350.239990</td>\n",
       "      <td>345.374847</td>\n",
       "      <td>82039700</td>\n",
       "    </tr>\n",
       "    <tr>\n",
       "      <th>2020-11-06</th>\n",
       "      <td>349.929993</td>\n",
       "      <td>351.510010</td>\n",
       "      <td>347.649994</td>\n",
       "      <td>350.160004</td>\n",
       "      <td>345.295959</td>\n",
       "      <td>74973000</td>\n",
       "    </tr>\n",
       "    <tr>\n",
       "      <th>2020-11-09</th>\n",
       "      <td>363.970001</td>\n",
       "      <td>364.380005</td>\n",
       "      <td>354.059998</td>\n",
       "      <td>354.559998</td>\n",
       "      <td>349.634827</td>\n",
       "      <td>172304200</td>\n",
       "    </tr>\n",
       "    <tr>\n",
       "      <th>...</th>\n",
       "      <td>...</td>\n",
       "      <td>...</td>\n",
       "      <td>...</td>\n",
       "      <td>...</td>\n",
       "      <td>...</td>\n",
       "      <td>...</td>\n",
       "    </tr>\n",
       "    <tr>\n",
       "      <th>2021-10-27</th>\n",
       "      <td>456.450012</td>\n",
       "      <td>457.160004</td>\n",
       "      <td>453.859985</td>\n",
       "      <td>453.940002</td>\n",
       "      <td>453.940002</td>\n",
       "      <td>72438000</td>\n",
       "    </tr>\n",
       "    <tr>\n",
       "      <th>2021-10-28</th>\n",
       "      <td>455.459991</td>\n",
       "      <td>458.399994</td>\n",
       "      <td>455.450012</td>\n",
       "      <td>458.320007</td>\n",
       "      <td>458.320007</td>\n",
       "      <td>51437900</td>\n",
       "    </tr>\n",
       "    <tr>\n",
       "      <th>2021-10-29</th>\n",
       "      <td>455.869995</td>\n",
       "      <td>459.559998</td>\n",
       "      <td>455.559998</td>\n",
       "      <td>459.250000</td>\n",
       "      <td>459.250000</td>\n",
       "      <td>70108200</td>\n",
       "    </tr>\n",
       "    <tr>\n",
       "      <th>2021-11-01</th>\n",
       "      <td>460.299988</td>\n",
       "      <td>460.700012</td>\n",
       "      <td>458.200012</td>\n",
       "      <td>460.040009</td>\n",
       "      <td>460.040009</td>\n",
       "      <td>48433600</td>\n",
       "    </tr>\n",
       "    <tr>\n",
       "      <th>2021-11-02</th>\n",
       "      <td>460.220001</td>\n",
       "      <td>462.230011</td>\n",
       "      <td>460.079987</td>\n",
       "      <td>461.899994</td>\n",
       "      <td>461.899994</td>\n",
       "      <td>48854200</td>\n",
       "    </tr>\n",
       "  </tbody>\n",
       "</table>\n",
       "<p>252 rows × 6 columns</p>\n",
       "</div>"
      ],
      "text/plain": [
       "                  Open        High         Low       Close   Adj Close  \\\n",
       "Date                                                                     \n",
       "2020-11-03  333.690002  338.250000  330.290009  336.029999  331.362213   \n",
       "2020-11-04  340.859985  347.940002  339.589996  343.540009  338.767914   \n",
       "2020-11-05  349.239990  352.190002  348.859985  350.239990  345.374847   \n",
       "2020-11-06  349.929993  351.510010  347.649994  350.160004  345.295959   \n",
       "2020-11-09  363.970001  364.380005  354.059998  354.559998  349.634827   \n",
       "...                ...         ...         ...         ...         ...   \n",
       "2021-10-27  456.450012  457.160004  453.859985  453.940002  453.940002   \n",
       "2021-10-28  455.459991  458.399994  455.450012  458.320007  458.320007   \n",
       "2021-10-29  455.869995  459.559998  455.559998  459.250000  459.250000   \n",
       "2021-11-01  460.299988  460.700012  458.200012  460.040009  460.040009   \n",
       "2021-11-02  460.220001  462.230011  460.079987  461.899994  461.899994   \n",
       "\n",
       "               Volume  \n",
       "Date                   \n",
       "2020-11-03   93294200  \n",
       "2020-11-04  126959700  \n",
       "2020-11-05   82039700  \n",
       "2020-11-06   74973000  \n",
       "2020-11-09  172304200  \n",
       "...               ...  \n",
       "2021-10-27   72438000  \n",
       "2021-10-28   51437900  \n",
       "2021-10-29   70108200  \n",
       "2021-11-01   48433600  \n",
       "2021-11-02   48854200  \n",
       "\n",
       "[252 rows x 6 columns]"
      ]
     },
     "execution_count": 22,
     "metadata": {},
     "output_type": "execute_result"
    }
   ],
   "source": [
    "# Create a query for all the rows and columns in the sp500 table\n",
    "sp500_query = f\"\"\"\n",
    "SELECT *\n",
    "FROM sp500\n",
    "\"\"\"\n",
    "# Display the results of the sp500 query in a new DataFrame\n",
    "sp500_results_df=pd.read_sql(sp500_query, engine, parse_dates='Date', index_col='Date')\n",
    "sp500_results_df"
   ]
  },
  {
   "cell_type": "code",
   "execution_count": 23,
   "id": "3d511765-6b8e-40fa-b58a-c315284c697b",
   "metadata": {},
   "outputs": [],
   "source": [
    "# Drop the Open, High, Low, Close and Volume Columns, keep only Date and Volume.\n",
    "sp500_results_df = sp500_results_df.drop(columns=['Open', 'High', 'Low', 'Close','Volume'])"
   ]
  },
  {
   "cell_type": "code",
   "execution_count": 24,
   "id": "a9c15e3e-963f-4b88-ac6b-abe0ab02448a",
   "metadata": {},
   "outputs": [
    {
     "data": {
      "text/plain": [
       "Adj Close    float64\n",
       "dtype: object"
      ]
     },
     "execution_count": 24,
     "metadata": {},
     "output_type": "execute_result"
    }
   ],
   "source": [
    "sp500_results_df.dtypes"
   ]
  },
  {
   "cell_type": "markdown",
   "id": "29a86c7a-304c-492d-ab0c-644d1b6f640a",
   "metadata": {},
   "source": [
    "# Calculate the Daily Returns 1, 3, 5, 10 year"
   ]
  },
  {
   "cell_type": "code",
   "execution_count": 25,
   "id": "c79892d8-8a58-4cae-834b-89154fce169b",
   "metadata": {},
   "outputs": [
    {
     "data": {
      "text/html": [
       "<div>\n",
       "<style scoped>\n",
       "    .dataframe tbody tr th:only-of-type {\n",
       "        vertical-align: middle;\n",
       "    }\n",
       "\n",
       "    .dataframe tbody tr th {\n",
       "        vertical-align: top;\n",
       "    }\n",
       "\n",
       "    .dataframe thead th {\n",
       "        text-align: right;\n",
       "    }\n",
       "</style>\n",
       "<table border=\"1\" class=\"dataframe\">\n",
       "  <thead>\n",
       "    <tr style=\"text-align: right;\">\n",
       "      <th></th>\n",
       "      <th>Adj Close</th>\n",
       "      <th>daily_return</th>\n",
       "    </tr>\n",
       "    <tr>\n",
       "      <th>Date</th>\n",
       "      <th></th>\n",
       "      <th></th>\n",
       "    </tr>\n",
       "  </thead>\n",
       "  <tbody>\n",
       "    <tr>\n",
       "      <th>2020-11-03</th>\n",
       "      <td>331.362213</td>\n",
       "      <td>NaN</td>\n",
       "    </tr>\n",
       "    <tr>\n",
       "      <th>2020-11-04</th>\n",
       "      <td>338.767914</td>\n",
       "      <td>0.022349</td>\n",
       "    </tr>\n",
       "    <tr>\n",
       "      <th>2020-11-05</th>\n",
       "      <td>345.374847</td>\n",
       "      <td>0.019503</td>\n",
       "    </tr>\n",
       "    <tr>\n",
       "      <th>2020-11-06</th>\n",
       "      <td>345.295959</td>\n",
       "      <td>-0.000228</td>\n",
       "    </tr>\n",
       "    <tr>\n",
       "      <th>2020-11-09</th>\n",
       "      <td>349.634827</td>\n",
       "      <td>0.012566</td>\n",
       "    </tr>\n",
       "    <tr>\n",
       "      <th>...</th>\n",
       "      <td>...</td>\n",
       "      <td>...</td>\n",
       "    </tr>\n",
       "    <tr>\n",
       "      <th>2021-10-27</th>\n",
       "      <td>453.940002</td>\n",
       "      <td>-0.004430</td>\n",
       "    </tr>\n",
       "    <tr>\n",
       "      <th>2021-10-28</th>\n",
       "      <td>458.320007</td>\n",
       "      <td>0.009649</td>\n",
       "    </tr>\n",
       "    <tr>\n",
       "      <th>2021-10-29</th>\n",
       "      <td>459.250000</td>\n",
       "      <td>0.002029</td>\n",
       "    </tr>\n",
       "    <tr>\n",
       "      <th>2021-11-01</th>\n",
       "      <td>460.040009</td>\n",
       "      <td>0.001720</td>\n",
       "    </tr>\n",
       "    <tr>\n",
       "      <th>2021-11-02</th>\n",
       "      <td>461.899994</td>\n",
       "      <td>0.004043</td>\n",
       "    </tr>\n",
       "  </tbody>\n",
       "</table>\n",
       "<p>252 rows × 2 columns</p>\n",
       "</div>"
      ],
      "text/plain": [
       "             Adj Close  daily_return\n",
       "Date                                \n",
       "2020-11-03  331.362213           NaN\n",
       "2020-11-04  338.767914      0.022349\n",
       "2020-11-05  345.374847      0.019503\n",
       "2020-11-06  345.295959     -0.000228\n",
       "2020-11-09  349.634827      0.012566\n",
       "...                ...           ...\n",
       "2021-10-27  453.940002     -0.004430\n",
       "2021-10-28  458.320007      0.009649\n",
       "2021-10-29  459.250000      0.002029\n",
       "2021-11-01  460.040009      0.001720\n",
       "2021-11-02  461.899994      0.004043\n",
       "\n",
       "[252 rows x 2 columns]"
      ]
     },
     "execution_count": 25,
     "metadata": {},
     "output_type": "execute_result"
    }
   ],
   "source": [
    "# Calculate the daily return of the sp500 over the last 10 years\n",
    "sp500_results_df['daily_return'] = (sp500_results_df['Adj Close']/ sp500_results_df['Adj Close'].shift(1))-1\n",
    "\n",
    "sp500_results_df\n"
   ]
  },
  {
   "cell_type": "code",
   "execution_count": 26,
   "id": "15766456-0a6c-421e-8dc5-b8822c5163ab",
   "metadata": {},
   "outputs": [
    {
     "data": {
      "text/html": [
       "<div>\n",
       "<style scoped>\n",
       "    .dataframe tbody tr th:only-of-type {\n",
       "        vertical-align: middle;\n",
       "    }\n",
       "\n",
       "    .dataframe tbody tr th {\n",
       "        vertical-align: top;\n",
       "    }\n",
       "\n",
       "    .dataframe thead th {\n",
       "        text-align: right;\n",
       "    }\n",
       "</style>\n",
       "<table border=\"1\" class=\"dataframe\">\n",
       "  <thead>\n",
       "    <tr style=\"text-align: right;\">\n",
       "      <th></th>\n",
       "      <th>Adj Close</th>\n",
       "      <th>daily_return</th>\n",
       "    </tr>\n",
       "    <tr>\n",
       "      <th>Date</th>\n",
       "      <th></th>\n",
       "      <th></th>\n",
       "    </tr>\n",
       "  </thead>\n",
       "  <tbody>\n",
       "    <tr>\n",
       "      <th>2020-11-03</th>\n",
       "      <td>331.362213</td>\n",
       "      <td>NaN</td>\n",
       "    </tr>\n",
       "    <tr>\n",
       "      <th>2020-11-04</th>\n",
       "      <td>338.767914</td>\n",
       "      <td>0.022349</td>\n",
       "    </tr>\n",
       "    <tr>\n",
       "      <th>2020-11-05</th>\n",
       "      <td>345.374847</td>\n",
       "      <td>0.019503</td>\n",
       "    </tr>\n",
       "    <tr>\n",
       "      <th>2020-11-06</th>\n",
       "      <td>345.295959</td>\n",
       "      <td>-0.000228</td>\n",
       "    </tr>\n",
       "    <tr>\n",
       "      <th>2020-11-09</th>\n",
       "      <td>349.634827</td>\n",
       "      <td>0.012566</td>\n",
       "    </tr>\n",
       "    <tr>\n",
       "      <th>...</th>\n",
       "      <td>...</td>\n",
       "      <td>...</td>\n",
       "    </tr>\n",
       "    <tr>\n",
       "      <th>2021-10-26</th>\n",
       "      <td>455.959991</td>\n",
       "      <td>0.000900</td>\n",
       "    </tr>\n",
       "    <tr>\n",
       "      <th>2021-10-27</th>\n",
       "      <td>453.940002</td>\n",
       "      <td>-0.004430</td>\n",
       "    </tr>\n",
       "    <tr>\n",
       "      <th>2021-10-28</th>\n",
       "      <td>458.320007</td>\n",
       "      <td>0.009649</td>\n",
       "    </tr>\n",
       "    <tr>\n",
       "      <th>2021-10-29</th>\n",
       "      <td>459.250000</td>\n",
       "      <td>0.002029</td>\n",
       "    </tr>\n",
       "    <tr>\n",
       "      <th>2021-11-01</th>\n",
       "      <td>460.040009</td>\n",
       "      <td>0.001720</td>\n",
       "    </tr>\n",
       "  </tbody>\n",
       "</table>\n",
       "<p>251 rows × 2 columns</p>\n",
       "</div>"
      ],
      "text/plain": [
       "             Adj Close  daily_return\n",
       "Date                                \n",
       "2020-11-03  331.362213           NaN\n",
       "2020-11-04  338.767914      0.022349\n",
       "2020-11-05  345.374847      0.019503\n",
       "2020-11-06  345.295959     -0.000228\n",
       "2020-11-09  349.634827      0.012566\n",
       "...                ...           ...\n",
       "2021-10-26  455.959991      0.000900\n",
       "2021-10-27  453.940002     -0.004430\n",
       "2021-10-28  458.320007      0.009649\n",
       "2021-10-29  459.250000      0.002029\n",
       "2021-11-01  460.040009      0.001720\n",
       "\n",
       "[251 rows x 2 columns]"
      ]
     },
     "execution_count": 26,
     "metadata": {},
     "output_type": "execute_result"
    }
   ],
   "source": [
    "# Calculate 1 year daily returns using loc\n",
    "daily_returns_1_year = sp500_results_df.loc['2020-11-01':'2021-11-01']\n",
    "                                                           \n",
    "daily_returns_1_year"
   ]
  },
  {
   "cell_type": "code",
   "execution_count": 27,
   "id": "e6931f67-4d9d-4659-a80b-9b88fa46c096",
   "metadata": {},
   "outputs": [
    {
     "data": {
      "text/html": [
       "<div>\n",
       "<style scoped>\n",
       "    .dataframe tbody tr th:only-of-type {\n",
       "        vertical-align: middle;\n",
       "    }\n",
       "\n",
       "    .dataframe tbody tr th {\n",
       "        vertical-align: top;\n",
       "    }\n",
       "\n",
       "    .dataframe thead th {\n",
       "        text-align: right;\n",
       "    }\n",
       "</style>\n",
       "<table border=\"1\" class=\"dataframe\">\n",
       "  <thead>\n",
       "    <tr style=\"text-align: right;\">\n",
       "      <th></th>\n",
       "      <th>Adj Close</th>\n",
       "      <th>daily_return</th>\n",
       "    </tr>\n",
       "    <tr>\n",
       "      <th>Date</th>\n",
       "      <th></th>\n",
       "      <th></th>\n",
       "    </tr>\n",
       "  </thead>\n",
       "  <tbody>\n",
       "    <tr>\n",
       "      <th>2020-11-03</th>\n",
       "      <td>331.362213</td>\n",
       "      <td>NaN</td>\n",
       "    </tr>\n",
       "    <tr>\n",
       "      <th>2020-11-04</th>\n",
       "      <td>338.767914</td>\n",
       "      <td>0.022349</td>\n",
       "    </tr>\n",
       "    <tr>\n",
       "      <th>2020-11-05</th>\n",
       "      <td>345.374847</td>\n",
       "      <td>0.019503</td>\n",
       "    </tr>\n",
       "    <tr>\n",
       "      <th>2020-11-06</th>\n",
       "      <td>345.295959</td>\n",
       "      <td>-0.000228</td>\n",
       "    </tr>\n",
       "    <tr>\n",
       "      <th>2020-11-09</th>\n",
       "      <td>349.634827</td>\n",
       "      <td>0.012566</td>\n",
       "    </tr>\n",
       "    <tr>\n",
       "      <th>...</th>\n",
       "      <td>...</td>\n",
       "      <td>...</td>\n",
       "    </tr>\n",
       "    <tr>\n",
       "      <th>2021-10-26</th>\n",
       "      <td>455.959991</td>\n",
       "      <td>0.000900</td>\n",
       "    </tr>\n",
       "    <tr>\n",
       "      <th>2021-10-27</th>\n",
       "      <td>453.940002</td>\n",
       "      <td>-0.004430</td>\n",
       "    </tr>\n",
       "    <tr>\n",
       "      <th>2021-10-28</th>\n",
       "      <td>458.320007</td>\n",
       "      <td>0.009649</td>\n",
       "    </tr>\n",
       "    <tr>\n",
       "      <th>2021-10-29</th>\n",
       "      <td>459.250000</td>\n",
       "      <td>0.002029</td>\n",
       "    </tr>\n",
       "    <tr>\n",
       "      <th>2021-11-01</th>\n",
       "      <td>460.040009</td>\n",
       "      <td>0.001720</td>\n",
       "    </tr>\n",
       "  </tbody>\n",
       "</table>\n",
       "<p>251 rows × 2 columns</p>\n",
       "</div>"
      ],
      "text/plain": [
       "             Adj Close  daily_return\n",
       "Date                                \n",
       "2020-11-03  331.362213           NaN\n",
       "2020-11-04  338.767914      0.022349\n",
       "2020-11-05  345.374847      0.019503\n",
       "2020-11-06  345.295959     -0.000228\n",
       "2020-11-09  349.634827      0.012566\n",
       "...                ...           ...\n",
       "2021-10-26  455.959991      0.000900\n",
       "2021-10-27  453.940002     -0.004430\n",
       "2021-10-28  458.320007      0.009649\n",
       "2021-10-29  459.250000      0.002029\n",
       "2021-11-01  460.040009      0.001720\n",
       "\n",
       "[251 rows x 2 columns]"
      ]
     },
     "execution_count": 27,
     "metadata": {},
     "output_type": "execute_result"
    }
   ],
   "source": [
    "# Calculate 3 year daily returns using loc\n",
    "daily_returns_3_year = sp500_results_df.loc['2018-11-01':'2021-11-01']\n",
    "                                                           \n",
    "daily_returns_3_year"
   ]
  },
  {
   "cell_type": "code",
   "execution_count": 28,
   "id": "c7b2dd78-2f23-452f-834b-7e24547178d2",
   "metadata": {},
   "outputs": [
    {
     "data": {
      "text/html": [
       "<div>\n",
       "<style scoped>\n",
       "    .dataframe tbody tr th:only-of-type {\n",
       "        vertical-align: middle;\n",
       "    }\n",
       "\n",
       "    .dataframe tbody tr th {\n",
       "        vertical-align: top;\n",
       "    }\n",
       "\n",
       "    .dataframe thead th {\n",
       "        text-align: right;\n",
       "    }\n",
       "</style>\n",
       "<table border=\"1\" class=\"dataframe\">\n",
       "  <thead>\n",
       "    <tr style=\"text-align: right;\">\n",
       "      <th></th>\n",
       "      <th>Adj Close</th>\n",
       "      <th>daily_return</th>\n",
       "    </tr>\n",
       "    <tr>\n",
       "      <th>Date</th>\n",
       "      <th></th>\n",
       "      <th></th>\n",
       "    </tr>\n",
       "  </thead>\n",
       "  <tbody>\n",
       "    <tr>\n",
       "      <th>2020-11-03</th>\n",
       "      <td>331.362213</td>\n",
       "      <td>NaN</td>\n",
       "    </tr>\n",
       "    <tr>\n",
       "      <th>2020-11-04</th>\n",
       "      <td>338.767914</td>\n",
       "      <td>0.022349</td>\n",
       "    </tr>\n",
       "    <tr>\n",
       "      <th>2020-11-05</th>\n",
       "      <td>345.374847</td>\n",
       "      <td>0.019503</td>\n",
       "    </tr>\n",
       "    <tr>\n",
       "      <th>2020-11-06</th>\n",
       "      <td>345.295959</td>\n",
       "      <td>-0.000228</td>\n",
       "    </tr>\n",
       "    <tr>\n",
       "      <th>2020-11-09</th>\n",
       "      <td>349.634827</td>\n",
       "      <td>0.012566</td>\n",
       "    </tr>\n",
       "    <tr>\n",
       "      <th>...</th>\n",
       "      <td>...</td>\n",
       "      <td>...</td>\n",
       "    </tr>\n",
       "    <tr>\n",
       "      <th>2021-10-26</th>\n",
       "      <td>455.959991</td>\n",
       "      <td>0.000900</td>\n",
       "    </tr>\n",
       "    <tr>\n",
       "      <th>2021-10-27</th>\n",
       "      <td>453.940002</td>\n",
       "      <td>-0.004430</td>\n",
       "    </tr>\n",
       "    <tr>\n",
       "      <th>2021-10-28</th>\n",
       "      <td>458.320007</td>\n",
       "      <td>0.009649</td>\n",
       "    </tr>\n",
       "    <tr>\n",
       "      <th>2021-10-29</th>\n",
       "      <td>459.250000</td>\n",
       "      <td>0.002029</td>\n",
       "    </tr>\n",
       "    <tr>\n",
       "      <th>2021-11-01</th>\n",
       "      <td>460.040009</td>\n",
       "      <td>0.001720</td>\n",
       "    </tr>\n",
       "  </tbody>\n",
       "</table>\n",
       "<p>251 rows × 2 columns</p>\n",
       "</div>"
      ],
      "text/plain": [
       "             Adj Close  daily_return\n",
       "Date                                \n",
       "2020-11-03  331.362213           NaN\n",
       "2020-11-04  338.767914      0.022349\n",
       "2020-11-05  345.374847      0.019503\n",
       "2020-11-06  345.295959     -0.000228\n",
       "2020-11-09  349.634827      0.012566\n",
       "...                ...           ...\n",
       "2021-10-26  455.959991      0.000900\n",
       "2021-10-27  453.940002     -0.004430\n",
       "2021-10-28  458.320007      0.009649\n",
       "2021-10-29  459.250000      0.002029\n",
       "2021-11-01  460.040009      0.001720\n",
       "\n",
       "[251 rows x 2 columns]"
      ]
     },
     "execution_count": 28,
     "metadata": {},
     "output_type": "execute_result"
    }
   ],
   "source": [
    "\n",
    "# Calculate 5 year daily returns using loc\n",
    "daily_returns_5_year = sp500_results_df.loc['2016-11-01':'2021-11-01']\n",
    "                                                           \n",
    "daily_returns_5_year "
   ]
  },
  {
   "cell_type": "code",
   "execution_count": 29,
   "id": "5a33a755-fd78-4182-ab03-fd00c5a80204",
   "metadata": {},
   "outputs": [
    {
     "data": {
      "text/html": [
       "<div>\n",
       "<style scoped>\n",
       "    .dataframe tbody tr th:only-of-type {\n",
       "        vertical-align: middle;\n",
       "    }\n",
       "\n",
       "    .dataframe tbody tr th {\n",
       "        vertical-align: top;\n",
       "    }\n",
       "\n",
       "    .dataframe thead th {\n",
       "        text-align: right;\n",
       "    }\n",
       "</style>\n",
       "<table border=\"1\" class=\"dataframe\">\n",
       "  <thead>\n",
       "    <tr style=\"text-align: right;\">\n",
       "      <th></th>\n",
       "      <th>Adj Close</th>\n",
       "      <th>daily_return</th>\n",
       "    </tr>\n",
       "    <tr>\n",
       "      <th>Date</th>\n",
       "      <th></th>\n",
       "      <th></th>\n",
       "    </tr>\n",
       "  </thead>\n",
       "  <tbody>\n",
       "    <tr>\n",
       "      <th>2020-11-03</th>\n",
       "      <td>331.362213</td>\n",
       "      <td>NaN</td>\n",
       "    </tr>\n",
       "    <tr>\n",
       "      <th>2020-11-04</th>\n",
       "      <td>338.767914</td>\n",
       "      <td>0.022349</td>\n",
       "    </tr>\n",
       "    <tr>\n",
       "      <th>2020-11-05</th>\n",
       "      <td>345.374847</td>\n",
       "      <td>0.019503</td>\n",
       "    </tr>\n",
       "    <tr>\n",
       "      <th>2020-11-06</th>\n",
       "      <td>345.295959</td>\n",
       "      <td>-0.000228</td>\n",
       "    </tr>\n",
       "    <tr>\n",
       "      <th>2020-11-09</th>\n",
       "      <td>349.634827</td>\n",
       "      <td>0.012566</td>\n",
       "    </tr>\n",
       "    <tr>\n",
       "      <th>...</th>\n",
       "      <td>...</td>\n",
       "      <td>...</td>\n",
       "    </tr>\n",
       "    <tr>\n",
       "      <th>2021-10-26</th>\n",
       "      <td>455.959991</td>\n",
       "      <td>0.000900</td>\n",
       "    </tr>\n",
       "    <tr>\n",
       "      <th>2021-10-27</th>\n",
       "      <td>453.940002</td>\n",
       "      <td>-0.004430</td>\n",
       "    </tr>\n",
       "    <tr>\n",
       "      <th>2021-10-28</th>\n",
       "      <td>458.320007</td>\n",
       "      <td>0.009649</td>\n",
       "    </tr>\n",
       "    <tr>\n",
       "      <th>2021-10-29</th>\n",
       "      <td>459.250000</td>\n",
       "      <td>0.002029</td>\n",
       "    </tr>\n",
       "    <tr>\n",
       "      <th>2021-11-01</th>\n",
       "      <td>460.040009</td>\n",
       "      <td>0.001720</td>\n",
       "    </tr>\n",
       "  </tbody>\n",
       "</table>\n",
       "<p>251 rows × 2 columns</p>\n",
       "</div>"
      ],
      "text/plain": [
       "             Adj Close  daily_return\n",
       "Date                                \n",
       "2020-11-03  331.362213           NaN\n",
       "2020-11-04  338.767914      0.022349\n",
       "2020-11-05  345.374847      0.019503\n",
       "2020-11-06  345.295959     -0.000228\n",
       "2020-11-09  349.634827      0.012566\n",
       "...                ...           ...\n",
       "2021-10-26  455.959991      0.000900\n",
       "2021-10-27  453.940002     -0.004430\n",
       "2021-10-28  458.320007      0.009649\n",
       "2021-10-29  459.250000      0.002029\n",
       "2021-11-01  460.040009      0.001720\n",
       "\n",
       "[251 rows x 2 columns]"
      ]
     },
     "execution_count": 29,
     "metadata": {},
     "output_type": "execute_result"
    }
   ],
   "source": [
    "# Calculate 10 year daily returns using loc\n",
    "daily_returns_10_year = sp500_results_df.loc['2011-11-01':'2021-11-01']\n",
    "                                                           \n",
    "daily_returns_10_year "
   ]
  },
  {
   "cell_type": "markdown",
   "id": "250c2b14-ff7b-4b8f-a893-57bb98faf426",
   "metadata": {},
   "source": [
    "# Calculate the cummulative returns 1,3, 5, 10 Year"
   ]
  },
  {
   "cell_type": "code",
   "execution_count": 30,
   "id": "fe504900-8acf-427d-89f6-77b5e625f2db",
   "metadata": {},
   "outputs": [
    {
     "data": {
      "text/plain": [
       "Date\n",
       "2020-11-03         NaN\n",
       "2020-11-04    0.022349\n",
       "2020-11-05    0.042288\n",
       "2020-11-06    0.042050\n",
       "2020-11-09    0.055144\n",
       "                ...   \n",
       "2021-10-26    0.376017\n",
       "2021-10-27    0.369921\n",
       "2021-10-28    0.383139\n",
       "2021-10-29    0.385946\n",
       "2021-11-01    0.388330\n",
       "Name: daily_return, Length: 251, dtype: float64"
      ]
     },
     "execution_count": 30,
     "metadata": {},
     "output_type": "execute_result"
    }
   ],
   "source": [
    "# Calculate the 1 year cumulative returns using the cumprod() function\n",
    "\n",
    "sp500_cumulative_1_year_return = (1 + daily_returns_1_year['daily_return']).cumprod()-1\n",
    "sp500_cumulative_1_year_return"
   ]
  },
  {
   "cell_type": "code",
   "execution_count": 31,
   "id": "54e5cf76-c61c-429b-8e0b-df7ed3b933a7",
   "metadata": {},
   "outputs": [
    {
     "data": {
      "text/plain": [
       "Date\n",
       "2020-11-03         NaN\n",
       "2020-11-04    0.022349\n",
       "2020-11-05    0.042288\n",
       "2020-11-06    0.042050\n",
       "2020-11-09    0.055144\n",
       "                ...   \n",
       "2021-10-26    0.376017\n",
       "2021-10-27    0.369921\n",
       "2021-10-28    0.383139\n",
       "2021-10-29    0.385946\n",
       "2021-11-01    0.388330\n",
       "Name: daily_return, Length: 251, dtype: float64"
      ]
     },
     "execution_count": 31,
     "metadata": {},
     "output_type": "execute_result"
    }
   ],
   "source": [
    "# Calculate the 3 year cumulative returns using the cumprod() function\n",
    "\n",
    "sp500_cumulative_3_year_return = (1 + daily_returns_3_year['daily_return']).cumprod()-1\n",
    "sp500_cumulative_3_year_return"
   ]
  },
  {
   "cell_type": "code",
   "execution_count": 32,
   "id": "2aa45f05-1f8f-47bd-9ad8-bb1303ee0c97",
   "metadata": {},
   "outputs": [
    {
     "data": {
      "text/plain": [
       "Date\n",
       "2020-11-03         NaN\n",
       "2020-11-04    0.022349\n",
       "2020-11-05    0.042288\n",
       "2020-11-06    0.042050\n",
       "2020-11-09    0.055144\n",
       "                ...   \n",
       "2021-10-26    0.376017\n",
       "2021-10-27    0.369921\n",
       "2021-10-28    0.383139\n",
       "2021-10-29    0.385946\n",
       "2021-11-01    0.388330\n",
       "Name: daily_return, Length: 251, dtype: float64"
      ]
     },
     "execution_count": 32,
     "metadata": {},
     "output_type": "execute_result"
    }
   ],
   "source": [
    "# Calculate the 5 year cumulative returns using the cumprod() function\n",
    "\n",
    "sp500_cumulative_5_year_return = (1 + daily_returns_5_year['daily_return']).cumprod()-1\n",
    "\n",
    "sp500_cumulative_5_year_return"
   ]
  },
  {
   "cell_type": "code",
   "execution_count": 33,
   "id": "48322c6a-6421-4074-a93e-184762185308",
   "metadata": {},
   "outputs": [
    {
     "data": {
      "text/plain": [
       "Date\n",
       "2020-11-03         NaN\n",
       "2020-11-04    0.022349\n",
       "2020-11-05    0.042288\n",
       "2020-11-06    0.042050\n",
       "2020-11-09    0.055144\n",
       "                ...   \n",
       "2021-10-26    0.376017\n",
       "2021-10-27    0.369921\n",
       "2021-10-28    0.383139\n",
       "2021-10-29    0.385946\n",
       "2021-11-01    0.388330\n",
       "Name: daily_return, Length: 251, dtype: float64"
      ]
     },
     "execution_count": 33,
     "metadata": {},
     "output_type": "execute_result"
    }
   ],
   "source": [
    "# Calculate the 10 year cumulative returns using the cumprod() function\n",
    "\n",
    "sp500_cumulative_10_year_return = (1 + daily_returns_10_year['daily_return']).cumprod()-1\n",
    "\n",
    "sp500_cumulative_10_year_return"
   ]
  },
  {
   "cell_type": "markdown",
   "id": "c93ef161-33ab-4ab3-8f6c-9129f08fbab8",
   "metadata": {},
   "source": [
    "# Calculate the 1, 3, 5, 10 Year Mean "
   ]
  },
  {
   "cell_type": "code",
   "execution_count": 34,
   "id": "83e7c7ea-5ae4-4aa0-bdf4-24374cba20df",
   "metadata": {},
   "outputs": [
    {
     "data": {
      "text/plain": [
       "0.0013445017279040238"
      ]
     },
     "execution_count": 34,
     "metadata": {},
     "output_type": "execute_result"
    }
   ],
   "source": [
    "# Calculate the sp500 1 year mean\n",
    "SP500_1_year_mean = daily_returns_1_year['daily_return'].mean()\n",
    "\n",
    "SP500_1_year_mean\n"
   ]
  },
  {
   "cell_type": "code",
   "execution_count": 35,
   "id": "38930f17-7070-4395-9fd5-2abaa9537d20",
   "metadata": {},
   "outputs": [
    {
     "data": {
      "text/plain": [
       "0.0013445017279040238"
      ]
     },
     "execution_count": 35,
     "metadata": {},
     "output_type": "execute_result"
    }
   ],
   "source": [
    "# Calculate the sp500 3 year mean\n",
    "SP500_3_year_mean = daily_returns_3_year['daily_return'].mean()\n",
    "SP500_3_year_mean"
   ]
  },
  {
   "cell_type": "code",
   "execution_count": 36,
   "id": "e4101006-5d92-4915-a61c-4718296fd3cf",
   "metadata": {},
   "outputs": [
    {
     "data": {
      "text/plain": [
       "0.0013445017279040238"
      ]
     },
     "execution_count": 36,
     "metadata": {},
     "output_type": "execute_result"
    }
   ],
   "source": [
    "# Calculate the sp500 5 year mean\n",
    "SP500_5_year_mean = daily_returns_5_year['daily_return'].mean()\n",
    "SP500_5_year_mean"
   ]
  },
  {
   "cell_type": "code",
   "execution_count": 37,
   "id": "1e18c766-1859-4143-8159-668e9b7bec90",
   "metadata": {},
   "outputs": [
    {
     "data": {
      "text/plain": [
       "0.0013445017279040238"
      ]
     },
     "execution_count": 37,
     "metadata": {},
     "output_type": "execute_result"
    }
   ],
   "source": [
    "# Calculate the sp500 10 year mean\n",
    "SP500_10_year_mean = daily_returns_10_year['daily_return'].mean()\n",
    "SP500_10_year_mean"
   ]
  },
  {
   "cell_type": "markdown",
   "id": "fe87399c-25cb-4dac-90fe-af3997e637da",
   "metadata": {},
   "source": [
    "# Calculate the standard deviation for each period"
   ]
  },
  {
   "cell_type": "code",
   "execution_count": 38,
   "id": "f6ad7a76-739d-4170-9c69-36af4902bf20",
   "metadata": {},
   "outputs": [
    {
     "data": {
      "text/plain": [
       "0.007919389889299982"
      ]
     },
     "execution_count": 38,
     "metadata": {},
     "output_type": "execute_result"
    }
   ],
   "source": [
    "# One year standard deviation\n",
    "sp500_std_dev_1_year = daily_returns_1_year['daily_return'].std()\n",
    "sp500_std_dev_1_year"
   ]
  },
  {
   "cell_type": "code",
   "execution_count": 39,
   "id": "392b9dfc-cc88-4acb-9a58-6c10c4bc87cc",
   "metadata": {},
   "outputs": [
    {
     "data": {
      "text/plain": [
       "0.007919389889299982"
      ]
     },
     "execution_count": 39,
     "metadata": {},
     "output_type": "execute_result"
    }
   ],
   "source": [
    "# Three year standard deviation\n",
    "sp500_std_dev_3_year = daily_returns_3_year['daily_return'].std()\n",
    "sp500_std_dev_3_year"
   ]
  },
  {
   "cell_type": "code",
   "execution_count": 40,
   "id": "76e78ff0-7b51-45b7-ae6b-785804323f2d",
   "metadata": {},
   "outputs": [
    {
     "data": {
      "text/plain": [
       "0.007919389889299982"
      ]
     },
     "execution_count": 40,
     "metadata": {},
     "output_type": "execute_result"
    }
   ],
   "source": [
    "# Five year standard deviation\n",
    "sp500_std_dev_5_year = daily_returns_5_year['daily_return'].std()\n",
    "sp500_std_dev_5_year"
   ]
  },
  {
   "cell_type": "code",
   "execution_count": 41,
   "id": "ce83fea9-a84e-4f27-8b82-ad8b733b3ac1",
   "metadata": {},
   "outputs": [
    {
     "data": {
      "text/plain": [
       "0.007919389889299982"
      ]
     },
     "execution_count": 41,
     "metadata": {},
     "output_type": "execute_result"
    }
   ],
   "source": [
    "# Ten year standard deviation\n",
    "sp500_std_dev_10_year = daily_returns_10_year['daily_return'].std()\n",
    "sp500_std_dev_10_year"
   ]
  },
  {
   "cell_type": "markdown",
   "id": "5e865463-5391-482d-8770-00f5446f8344",
   "metadata": {},
   "source": [
    "# Calculate the Annualized Returns"
   ]
  },
  {
   "cell_type": "code",
   "execution_count": 42,
   "id": "ee71cb69-ce90-4df7-8cb1-7d54d22b3cdf",
   "metadata": {},
   "outputs": [
    {
     "data": {
      "text/plain": [
       "33.8814435431814"
      ]
     },
     "execution_count": 42,
     "metadata": {},
     "output_type": "execute_result"
    }
   ],
   "source": [
    "# SP500 one year annualized return\n",
    "# set variable Trading Days to 252 days per year the market is open\n",
    "\n",
    "trading_days = 252\n",
    "\n",
    "sp500_1_year_annualized_return = (daily_returns_1_year['daily_return'].mean() * trading_days) *100\n",
    "\n",
    "sp500_1_year_annualized_return"
   ]
  },
  {
   "cell_type": "code",
   "execution_count": 43,
   "id": "7bb03874-1b3c-43c9-b3b3-61c8567ee68b",
   "metadata": {},
   "outputs": [
    {
     "data": {
      "text/plain": [
       "33.8814435431814"
      ]
     },
     "execution_count": 43,
     "metadata": {},
     "output_type": "execute_result"
    }
   ],
   "source": [
    "# SP500 3 year annualized return\n",
    "\n",
    "sp500_3_year_annualized_return = (daily_returns_3_year['daily_return'].mean() * trading_days) *100\n",
    "sp500_3_year_annualized_return"
   ]
  },
  {
   "cell_type": "code",
   "execution_count": 44,
   "id": "55114a54-fa81-46e1-afc0-c8e386980f01",
   "metadata": {},
   "outputs": [
    {
     "data": {
      "text/plain": [
       "33.8814435431814"
      ]
     },
     "execution_count": 44,
     "metadata": {},
     "output_type": "execute_result"
    }
   ],
   "source": [
    "# SP500 5 year annualized return\n",
    "\n",
    "sp500_5_year_annualized_return = (daily_returns_5_year['daily_return'].mean() * trading_days) * 100\n",
    "sp500_5_year_annualized_return"
   ]
  },
  {
   "cell_type": "code",
   "execution_count": 45,
   "id": "e96050bd-4685-4f14-a19d-57239f24ec3e",
   "metadata": {},
   "outputs": [
    {
     "data": {
      "text/plain": [
       "33.8814435431814"
      ]
     },
     "execution_count": 45,
     "metadata": {},
     "output_type": "execute_result"
    }
   ],
   "source": [
    "# SP500 10 year annualized return\n",
    "\n",
    "sp500_10_year_annualized_return = (daily_returns_10_year['daily_return'].mean() * trading_days) * 100\n",
    "sp500_10_year_annualized_return"
   ]
  },
  {
   "cell_type": "markdown",
   "id": "45002d0d-d18b-46af-8c25-dfccd485372a",
   "metadata": {},
   "source": [
    "# Summary Stats for each time period (1, 3, 5, 10)"
   ]
  },
  {
   "cell_type": "code",
   "execution_count": 46,
   "id": "4f18c95a-93ba-453b-9c5a-782f011f28c4",
   "metadata": {},
   "outputs": [
    {
     "data": {
      "text/html": [
       "<div>\n",
       "<style scoped>\n",
       "    .dataframe tbody tr th:only-of-type {\n",
       "        vertical-align: middle;\n",
       "    }\n",
       "\n",
       "    .dataframe tbody tr th {\n",
       "        vertical-align: top;\n",
       "    }\n",
       "\n",
       "    .dataframe thead th {\n",
       "        text-align: right;\n",
       "    }\n",
       "</style>\n",
       "<table border=\"1\" class=\"dataframe\">\n",
       "  <thead>\n",
       "    <tr style=\"text-align: right;\">\n",
       "      <th></th>\n",
       "      <th>Adj Close</th>\n",
       "      <th>daily_return</th>\n",
       "    </tr>\n",
       "  </thead>\n",
       "  <tbody>\n",
       "    <tr>\n",
       "      <th>count</th>\n",
       "      <td>251.000000</td>\n",
       "      <td>250.000000</td>\n",
       "    </tr>\n",
       "    <tr>\n",
       "      <th>mean</th>\n",
       "      <td>406.701965</td>\n",
       "      <td>0.001345</td>\n",
       "    </tr>\n",
       "    <tr>\n",
       "      <th>std</th>\n",
       "      <td>31.949118</td>\n",
       "      <td>0.007919</td>\n",
       "    </tr>\n",
       "    <tr>\n",
       "      <th>min</th>\n",
       "      <td>331.362213</td>\n",
       "      <td>-0.024441</td>\n",
       "    </tr>\n",
       "    <tr>\n",
       "      <th>25%</th>\n",
       "      <td>378.898529</td>\n",
       "      <td>-0.002809</td>\n",
       "    </tr>\n",
       "    <tr>\n",
       "      <th>50%</th>\n",
       "      <td>413.388855</td>\n",
       "      <td>0.001520</td>\n",
       "    </tr>\n",
       "    <tr>\n",
       "      <th>75%</th>\n",
       "      <td>434.768447</td>\n",
       "      <td>0.006167</td>\n",
       "    </tr>\n",
       "    <tr>\n",
       "      <th>max</th>\n",
       "      <td>460.040009</td>\n",
       "      <td>0.024240</td>\n",
       "    </tr>\n",
       "  </tbody>\n",
       "</table>\n",
       "</div>"
      ],
      "text/plain": [
       "        Adj Close  daily_return\n",
       "count  251.000000    250.000000\n",
       "mean   406.701965      0.001345\n",
       "std     31.949118      0.007919\n",
       "min    331.362213     -0.024441\n",
       "25%    378.898529     -0.002809\n",
       "50%    413.388855      0.001520\n",
       "75%    434.768447      0.006167\n",
       "max    460.040009      0.024240"
      ]
     },
     "execution_count": 46,
     "metadata": {},
     "output_type": "execute_result"
    }
   ],
   "source": [
    "# Daily Returns 1 year - summary stats\n",
    "daily_returns_1_year.describe()"
   ]
  },
  {
   "cell_type": "code",
   "execution_count": 47,
   "id": "73d264f8-21e9-4cb6-bb70-2c609367e05d",
   "metadata": {},
   "outputs": [
    {
     "data": {
      "text/html": [
       "<div>\n",
       "<style scoped>\n",
       "    .dataframe tbody tr th:only-of-type {\n",
       "        vertical-align: middle;\n",
       "    }\n",
       "\n",
       "    .dataframe tbody tr th {\n",
       "        vertical-align: top;\n",
       "    }\n",
       "\n",
       "    .dataframe thead th {\n",
       "        text-align: right;\n",
       "    }\n",
       "</style>\n",
       "<table border=\"1\" class=\"dataframe\">\n",
       "  <thead>\n",
       "    <tr style=\"text-align: right;\">\n",
       "      <th></th>\n",
       "      <th>Adj Close</th>\n",
       "      <th>daily_return</th>\n",
       "    </tr>\n",
       "  </thead>\n",
       "  <tbody>\n",
       "    <tr>\n",
       "      <th>count</th>\n",
       "      <td>251.000000</td>\n",
       "      <td>250.000000</td>\n",
       "    </tr>\n",
       "    <tr>\n",
       "      <th>mean</th>\n",
       "      <td>406.701965</td>\n",
       "      <td>0.001345</td>\n",
       "    </tr>\n",
       "    <tr>\n",
       "      <th>std</th>\n",
       "      <td>31.949118</td>\n",
       "      <td>0.007919</td>\n",
       "    </tr>\n",
       "    <tr>\n",
       "      <th>min</th>\n",
       "      <td>331.362213</td>\n",
       "      <td>-0.024441</td>\n",
       "    </tr>\n",
       "    <tr>\n",
       "      <th>25%</th>\n",
       "      <td>378.898529</td>\n",
       "      <td>-0.002809</td>\n",
       "    </tr>\n",
       "    <tr>\n",
       "      <th>50%</th>\n",
       "      <td>413.388855</td>\n",
       "      <td>0.001520</td>\n",
       "    </tr>\n",
       "    <tr>\n",
       "      <th>75%</th>\n",
       "      <td>434.768447</td>\n",
       "      <td>0.006167</td>\n",
       "    </tr>\n",
       "    <tr>\n",
       "      <th>max</th>\n",
       "      <td>460.040009</td>\n",
       "      <td>0.024240</td>\n",
       "    </tr>\n",
       "  </tbody>\n",
       "</table>\n",
       "</div>"
      ],
      "text/plain": [
       "        Adj Close  daily_return\n",
       "count  251.000000    250.000000\n",
       "mean   406.701965      0.001345\n",
       "std     31.949118      0.007919\n",
       "min    331.362213     -0.024441\n",
       "25%    378.898529     -0.002809\n",
       "50%    413.388855      0.001520\n",
       "75%    434.768447      0.006167\n",
       "max    460.040009      0.024240"
      ]
     },
     "execution_count": 47,
     "metadata": {},
     "output_type": "execute_result"
    }
   ],
   "source": [
    "# Daily Returns 3 year - summary stats\n",
    "daily_returns_3_year.describe()"
   ]
  },
  {
   "cell_type": "code",
   "execution_count": 48,
   "id": "ee6b953d-9587-4e64-9847-99549d34d0f6",
   "metadata": {},
   "outputs": [
    {
     "data": {
      "text/html": [
       "<div>\n",
       "<style scoped>\n",
       "    .dataframe tbody tr th:only-of-type {\n",
       "        vertical-align: middle;\n",
       "    }\n",
       "\n",
       "    .dataframe tbody tr th {\n",
       "        vertical-align: top;\n",
       "    }\n",
       "\n",
       "    .dataframe thead th {\n",
       "        text-align: right;\n",
       "    }\n",
       "</style>\n",
       "<table border=\"1\" class=\"dataframe\">\n",
       "  <thead>\n",
       "    <tr style=\"text-align: right;\">\n",
       "      <th></th>\n",
       "      <th>Adj Close</th>\n",
       "      <th>daily_return</th>\n",
       "    </tr>\n",
       "  </thead>\n",
       "  <tbody>\n",
       "    <tr>\n",
       "      <th>count</th>\n",
       "      <td>251.000000</td>\n",
       "      <td>250.000000</td>\n",
       "    </tr>\n",
       "    <tr>\n",
       "      <th>mean</th>\n",
       "      <td>406.701965</td>\n",
       "      <td>0.001345</td>\n",
       "    </tr>\n",
       "    <tr>\n",
       "      <th>std</th>\n",
       "      <td>31.949118</td>\n",
       "      <td>0.007919</td>\n",
       "    </tr>\n",
       "    <tr>\n",
       "      <th>min</th>\n",
       "      <td>331.362213</td>\n",
       "      <td>-0.024441</td>\n",
       "    </tr>\n",
       "    <tr>\n",
       "      <th>25%</th>\n",
       "      <td>378.898529</td>\n",
       "      <td>-0.002809</td>\n",
       "    </tr>\n",
       "    <tr>\n",
       "      <th>50%</th>\n",
       "      <td>413.388855</td>\n",
       "      <td>0.001520</td>\n",
       "    </tr>\n",
       "    <tr>\n",
       "      <th>75%</th>\n",
       "      <td>434.768447</td>\n",
       "      <td>0.006167</td>\n",
       "    </tr>\n",
       "    <tr>\n",
       "      <th>max</th>\n",
       "      <td>460.040009</td>\n",
       "      <td>0.024240</td>\n",
       "    </tr>\n",
       "  </tbody>\n",
       "</table>\n",
       "</div>"
      ],
      "text/plain": [
       "        Adj Close  daily_return\n",
       "count  251.000000    250.000000\n",
       "mean   406.701965      0.001345\n",
       "std     31.949118      0.007919\n",
       "min    331.362213     -0.024441\n",
       "25%    378.898529     -0.002809\n",
       "50%    413.388855      0.001520\n",
       "75%    434.768447      0.006167\n",
       "max    460.040009      0.024240"
      ]
     },
     "execution_count": 48,
     "metadata": {},
     "output_type": "execute_result"
    }
   ],
   "source": [
    "# Daily Returns 5 year - summary stats\n",
    "daily_returns_5_year.describe()"
   ]
  },
  {
   "cell_type": "code",
   "execution_count": 49,
   "id": "6d322021-91f4-4b8a-a32c-b1bc7cb547a5",
   "metadata": {},
   "outputs": [
    {
     "data": {
      "text/html": [
       "<div>\n",
       "<style scoped>\n",
       "    .dataframe tbody tr th:only-of-type {\n",
       "        vertical-align: middle;\n",
       "    }\n",
       "\n",
       "    .dataframe tbody tr th {\n",
       "        vertical-align: top;\n",
       "    }\n",
       "\n",
       "    .dataframe thead th {\n",
       "        text-align: right;\n",
       "    }\n",
       "</style>\n",
       "<table border=\"1\" class=\"dataframe\">\n",
       "  <thead>\n",
       "    <tr style=\"text-align: right;\">\n",
       "      <th></th>\n",
       "      <th>Adj Close</th>\n",
       "      <th>daily_return</th>\n",
       "    </tr>\n",
       "  </thead>\n",
       "  <tbody>\n",
       "    <tr>\n",
       "      <th>count</th>\n",
       "      <td>251.000000</td>\n",
       "      <td>250.000000</td>\n",
       "    </tr>\n",
       "    <tr>\n",
       "      <th>mean</th>\n",
       "      <td>406.701965</td>\n",
       "      <td>0.001345</td>\n",
       "    </tr>\n",
       "    <tr>\n",
       "      <th>std</th>\n",
       "      <td>31.949118</td>\n",
       "      <td>0.007919</td>\n",
       "    </tr>\n",
       "    <tr>\n",
       "      <th>min</th>\n",
       "      <td>331.362213</td>\n",
       "      <td>-0.024441</td>\n",
       "    </tr>\n",
       "    <tr>\n",
       "      <th>25%</th>\n",
       "      <td>378.898529</td>\n",
       "      <td>-0.002809</td>\n",
       "    </tr>\n",
       "    <tr>\n",
       "      <th>50%</th>\n",
       "      <td>413.388855</td>\n",
       "      <td>0.001520</td>\n",
       "    </tr>\n",
       "    <tr>\n",
       "      <th>75%</th>\n",
       "      <td>434.768447</td>\n",
       "      <td>0.006167</td>\n",
       "    </tr>\n",
       "    <tr>\n",
       "      <th>max</th>\n",
       "      <td>460.040009</td>\n",
       "      <td>0.024240</td>\n",
       "    </tr>\n",
       "  </tbody>\n",
       "</table>\n",
       "</div>"
      ],
      "text/plain": [
       "        Adj Close  daily_return\n",
       "count  251.000000    250.000000\n",
       "mean   406.701965      0.001345\n",
       "std     31.949118      0.007919\n",
       "min    331.362213     -0.024441\n",
       "25%    378.898529     -0.002809\n",
       "50%    413.388855      0.001520\n",
       "75%    434.768447      0.006167\n",
       "max    460.040009      0.024240"
      ]
     },
     "execution_count": 49,
     "metadata": {},
     "output_type": "execute_result"
    }
   ],
   "source": [
    "# Daily Returns 10 year - summary stats\n",
    "daily_returns_10_year.describe()"
   ]
  },
  {
   "cell_type": "markdown",
   "id": "55a2bb33-c49a-4b30-8a14-e1a651d8e170",
   "metadata": {},
   "source": [
    "# Annualized Standard Deviation"
   ]
  },
  {
   "cell_type": "code",
   "execution_count": 50,
   "id": "cca6e332-1365-4ac8-90eb-aa9c76deee01",
   "metadata": {},
   "outputs": [
    {
     "data": {
      "text/plain": [
       "Adj Close       507.176521\n",
       "daily_return      0.125716\n",
       "dtype: float64"
      ]
     },
     "execution_count": 50,
     "metadata": {},
     "output_type": "execute_result"
    }
   ],
   "source": [
    "# Calculate the Annual Standard Deviation on ten years of SP500 daily returns\n",
    "\n",
    "annual_std_dev_sp500_10_year = daily_returns_10_year.std() * np.sqrt(trading_days)\n",
    "\n",
    "# Display the results\n",
    "annual_std_dev_sp500_10_year"
   ]
  },
  {
   "cell_type": "code",
   "execution_count": 51,
   "id": "4553482a-33eb-436a-af74-3dbf7a3483d1",
   "metadata": {},
   "outputs": [
    {
     "data": {
      "text/plain": [
       "Adj Close         0.066804\n",
       "daily_return    269.506913\n",
       "dtype: float64"
      ]
     },
     "execution_count": 51,
     "metadata": {},
     "output_type": "execute_result"
    }
   ],
   "source": [
    "# Calculate the Sharpe Ratio on the 10 year sp500 return\n",
    "sharpe_ratio_sp500_10_year = sp500_10_year_annualized_return / annual_std_dev_sp500_10_year\n",
    "sharpe_ratio_sp500_10_year"
   ]
  },
  {
   "cell_type": "code",
   "execution_count": null,
   "id": "a90d3f26-5357-413a-88cd-8d16c02611a3",
   "metadata": {},
   "outputs": [],
   "source": []
  }
 ],
 "metadata": {
  "kernelspec": {
   "display_name": "sqlenv",
   "language": "python",
   "name": "sqlenv"
  },
  "language_info": {
   "codemirror_mode": {
    "name": "ipython",
    "version": 3
   },
   "file_extension": ".py",
   "mimetype": "text/x-python",
   "name": "python",
   "nbconvert_exporter": "python",
   "pygments_lexer": "ipython3",
   "version": "3.7.10"
  }
 },
 "nbformat": 4,
 "nbformat_minor": 5
}
