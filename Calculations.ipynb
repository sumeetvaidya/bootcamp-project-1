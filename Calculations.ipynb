{
 "cells": [
  {
   "cell_type": "code",
   "execution_count": 18,
   "id": "c84cde14-3131-4319-9728-67f0f37b620d",
   "metadata": {},
   "outputs": [],
   "source": [
    "# Import modules\n",
    "import pandas as pd\n",
    "import numpy as np\n",
    "from pathlib import Path\n",
    "import sqlalchemy\n",
    "%matplotlib inline\n",
    "import hvplot.pandas\n",
    "import plotly.graph_objects as go\n"
   ]
  },
  {
   "cell_type": "code",
   "execution_count": 19,
   "id": "8d276e1e-8818-4da2-b752-3449e42e5a67",
   "metadata": {},
   "outputs": [],
   "source": [
    "# Read in the csv file from the Resources folder\n",
    "sp500_df = pd.read_csv(\n",
    "    Path('./Resources/SPY.csv'),\n",
    "    # index_col ='Date',\n",
    "    parse_dates=True,\n",
    "    infer_datetime_format=True\n",
    ")"
   ]
  },
  {
   "cell_type": "code",
   "execution_count": 20,
   "id": "1f96df15-6eed-466b-a375-9e778f6e1451",
   "metadata": {},
   "outputs": [
    {
     "data": {
      "text/html": [
       "<div>\n",
       "<style scoped>\n",
       "    .dataframe tbody tr th:only-of-type {\n",
       "        vertical-align: middle;\n",
       "    }\n",
       "\n",
       "    .dataframe tbody tr th {\n",
       "        vertical-align: top;\n",
       "    }\n",
       "\n",
       "    .dataframe thead th {\n",
       "        text-align: right;\n",
       "    }\n",
       "</style>\n",
       "<table border=\"1\" class=\"dataframe\">\n",
       "  <thead>\n",
       "    <tr style=\"text-align: right;\">\n",
       "      <th></th>\n",
       "      <th>Date</th>\n",
       "      <th>Open</th>\n",
       "      <th>High</th>\n",
       "      <th>Low</th>\n",
       "      <th>Close</th>\n",
       "      <th>Adj Close</th>\n",
       "      <th>Volume</th>\n",
       "    </tr>\n",
       "  </thead>\n",
       "  <tbody>\n",
       "    <tr>\n",
       "      <th>0</th>\n",
       "      <td>2011-11-03</td>\n",
       "      <td>125.269997</td>\n",
       "      <td>126.500000</td>\n",
       "      <td>123.599998</td>\n",
       "      <td>126.250000</td>\n",
       "      <td>103.951668</td>\n",
       "      <td>291174800</td>\n",
       "    </tr>\n",
       "    <tr>\n",
       "      <th>1</th>\n",
       "      <td>2011-11-04</td>\n",
       "      <td>125.230003</td>\n",
       "      <td>125.699997</td>\n",
       "      <td>124.010002</td>\n",
       "      <td>125.480003</td>\n",
       "      <td>103.317719</td>\n",
       "      <td>249401600</td>\n",
       "    </tr>\n",
       "    <tr>\n",
       "      <th>2</th>\n",
       "      <td>2011-11-07</td>\n",
       "      <td>125.389999</td>\n",
       "      <td>126.389999</td>\n",
       "      <td>124.199997</td>\n",
       "      <td>126.260002</td>\n",
       "      <td>103.959915</td>\n",
       "      <td>196617200</td>\n",
       "    </tr>\n",
       "    <tr>\n",
       "      <th>3</th>\n",
       "      <td>2011-11-08</td>\n",
       "      <td>126.919998</td>\n",
       "      <td>128.020004</td>\n",
       "      <td>125.709999</td>\n",
       "      <td>127.879997</td>\n",
       "      <td>105.293808</td>\n",
       "      <td>224426300</td>\n",
       "    </tr>\n",
       "    <tr>\n",
       "      <th>4</th>\n",
       "      <td>2011-11-09</td>\n",
       "      <td>124.889999</td>\n",
       "      <td>125.800003</td>\n",
       "      <td>122.860001</td>\n",
       "      <td>123.160004</td>\n",
       "      <td>101.407448</td>\n",
       "      <td>337982000</td>\n",
       "    </tr>\n",
       "  </tbody>\n",
       "</table>\n",
       "</div>"
      ],
      "text/plain": [
       "         Date        Open        High         Low       Close   Adj Close  \\\n",
       "0  2011-11-03  125.269997  126.500000  123.599998  126.250000  103.951668   \n",
       "1  2011-11-04  125.230003  125.699997  124.010002  125.480003  103.317719   \n",
       "2  2011-11-07  125.389999  126.389999  124.199997  126.260002  103.959915   \n",
       "3  2011-11-08  126.919998  128.020004  125.709999  127.879997  105.293808   \n",
       "4  2011-11-09  124.889999  125.800003  122.860001  123.160004  101.407448   \n",
       "\n",
       "      Volume  \n",
       "0  291174800  \n",
       "1  249401600  \n",
       "2  196617200  \n",
       "3  224426300  \n",
       "4  337982000  "
      ]
     },
     "execution_count": 20,
     "metadata": {},
     "output_type": "execute_result"
    }
   ],
   "source": [
    "# Review the first 5 rows of sp500 returns\n",
    "sp500_df.head()"
   ]
  },
  {
   "cell_type": "code",
   "execution_count": 21,
   "id": "1f884d50-488d-4e87-bad8-f97d7efbfe96",
   "metadata": {},
   "outputs": [],
   "source": [
    "# Create a SQLite database\n",
    "database_connection_string ='sqlite:///'"
   ]
  },
  {
   "cell_type": "code",
   "execution_count": 22,
   "id": "3f677301-f84c-4b10-9142-8c603483a9c6",
   "metadata": {},
   "outputs": [
    {
     "data": {
      "text/plain": [
       "Engine(sqlite:///)"
      ]
     },
     "execution_count": 22,
     "metadata": {},
     "output_type": "execute_result"
    }
   ],
   "source": [
    "# Create a database engine\n",
    "engine = sqlalchemy.create_engine(database_connection_string,echo=True)\n",
    "engine"
   ]
  },
  {
   "cell_type": "code",
   "execution_count": 23,
   "id": "fc776023-9a72-4922-8091-5a81194e67d4",
   "metadata": {},
   "outputs": [
    {
     "name": "stdout",
     "output_type": "stream",
     "text": [
      "2021-11-04 23:47:31,811 INFO sqlalchemy.engine.Engine PRAGMA main.table_info(\"sp500\")\n",
      "2021-11-04 23:47:31,813 INFO sqlalchemy.engine.Engine [raw sql] ()\n",
      "2021-11-04 23:47:31,815 INFO sqlalchemy.engine.Engine PRAGMA temp.table_info(\"sp500\")\n",
      "2021-11-04 23:47:31,817 INFO sqlalchemy.engine.Engine [raw sql] ()\n",
      "2021-11-04 23:47:31,822 INFO sqlalchemy.engine.Engine BEGIN (implicit)\n",
      "2021-11-04 23:47:31,825 INFO sqlalchemy.engine.Engine \n",
      "CREATE TABLE sp500 (\n",
      "\t\"Date\" TEXT, \n",
      "\t\"Open\" FLOAT, \n",
      "\t\"High\" FLOAT, \n",
      "\t\"Low\" FLOAT, \n",
      "\t\"Close\" FLOAT, \n",
      "\t\"Adj Close\" FLOAT, \n",
      "\t\"Volume\" BIGINT\n",
      ")\n",
      "\n",
      "\n",
      "2021-11-04 23:47:31,827 INFO sqlalchemy.engine.Engine [no key 0.00191s] ()\n",
      "2021-11-04 23:47:31,829 INFO sqlalchemy.engine.Engine COMMIT\n",
      "2021-11-04 23:47:31,836 INFO sqlalchemy.engine.Engine BEGIN (implicit)\n",
      "2021-11-04 23:47:31,880 INFO sqlalchemy.engine.Engine INSERT INTO sp500 (\"Date\", \"Open\", \"High\", \"Low\", \"Close\", \"Adj Close\", \"Volume\") VALUES (?, ?, ?, ?, ?, ?, ?)\n",
      "2021-11-04 23:47:31,881 INFO sqlalchemy.engine.Engine [generated in 0.03409s] (('2011-11-03', 125.269997, 126.5, 123.599998, 126.25, 103.951668, 291174800), ('2011-11-04', 125.230003, 125.699997, 124.010002, 125.480003, 103.317719, 249401600), ('2011-11-07', 125.389999, 126.389999, 124.199997, 126.260002, 103.959915, 196617200), ('2011-11-08', 126.919998, 128.020004, 125.709999, 127.879997, 105.293808, 224426300), ('2011-11-09', 124.889999, 125.800003, 122.860001, 123.160004, 101.407448, 337982000), ('2011-11-10', 124.790001, 124.940002, 123.019997, 124.32, 102.362564, 231866500), ('2011-11-11', 125.830002, 126.989998, 125.790001, 126.660004, 104.289276, 189924400), ('2011-11-14', 126.190002, 127.449997, 124.919998, 125.459999, 103.301201, 159258300)  ... displaying 10 of 2516 total bound parameter sets ...  ('2021-11-01', 460.299988, 460.700012, 458.200012, 460.040009, 460.040009, 48433600), ('2021-11-02', 460.220001, 462.230011, 460.079987, 461.899994, 461.899994, 48854200))\n",
      "2021-11-04 23:47:31,892 INFO sqlalchemy.engine.Engine COMMIT\n",
      "2021-11-04 23:47:31,894 INFO sqlalchemy.engine.Engine SELECT name FROM sqlite_master WHERE type='table' ORDER BY name\n",
      "2021-11-04 23:47:31,895 INFO sqlalchemy.engine.Engine [raw sql] ()\n",
      "2021-11-04 23:47:31,897 INFO sqlalchemy.engine.Engine SELECT name FROM sqlite_master WHERE type='view' ORDER BY name\n",
      "2021-11-04 23:47:31,897 INFO sqlalchemy.engine.Engine [raw sql] ()\n",
      "2021-11-04 23:47:31,899 INFO sqlalchemy.engine.Engine PRAGMA main.table_xinfo(\"sp500\")\n",
      "2021-11-04 23:47:31,900 INFO sqlalchemy.engine.Engine [raw sql] ()\n",
      "2021-11-04 23:47:31,902 INFO sqlalchemy.engine.Engine SELECT sql FROM  (SELECT * FROM sqlite_master UNION ALL   SELECT * FROM sqlite_temp_master) WHERE name = ? AND type = 'table'\n",
      "2021-11-04 23:47:31,903 INFO sqlalchemy.engine.Engine [raw sql] ('sp500',)\n",
      "2021-11-04 23:47:31,905 INFO sqlalchemy.engine.Engine PRAGMA main.foreign_key_list(\"sp500\")\n",
      "2021-11-04 23:47:31,906 INFO sqlalchemy.engine.Engine [raw sql] ()\n",
      "2021-11-04 23:47:31,907 INFO sqlalchemy.engine.Engine PRAGMA temp.foreign_key_list(\"sp500\")\n",
      "2021-11-04 23:47:31,908 INFO sqlalchemy.engine.Engine [raw sql] ()\n",
      "2021-11-04 23:47:31,910 INFO sqlalchemy.engine.Engine SELECT sql FROM  (SELECT * FROM sqlite_master UNION ALL   SELECT * FROM sqlite_temp_master) WHERE name = ? AND type = 'table'\n",
      "2021-11-04 23:47:31,911 INFO sqlalchemy.engine.Engine [raw sql] ('sp500',)\n",
      "2021-11-04 23:47:31,912 INFO sqlalchemy.engine.Engine PRAGMA main.index_list(\"sp500\")\n",
      "2021-11-04 23:47:31,913 INFO sqlalchemy.engine.Engine [raw sql] ()\n",
      "2021-11-04 23:47:31,915 INFO sqlalchemy.engine.Engine PRAGMA temp.index_list(\"sp500\")\n",
      "2021-11-04 23:47:31,916 INFO sqlalchemy.engine.Engine [raw sql] ()\n",
      "2021-11-04 23:47:31,918 INFO sqlalchemy.engine.Engine PRAGMA main.index_list(\"sp500\")\n",
      "2021-11-04 23:47:31,919 INFO sqlalchemy.engine.Engine [raw sql] ()\n",
      "2021-11-04 23:47:31,921 INFO sqlalchemy.engine.Engine PRAGMA temp.index_list(\"sp500\")\n",
      "2021-11-04 23:47:31,922 INFO sqlalchemy.engine.Engine [raw sql] ()\n",
      "2021-11-04 23:47:31,924 INFO sqlalchemy.engine.Engine SELECT sql FROM  (SELECT * FROM sqlite_master UNION ALL   SELECT * FROM sqlite_temp_master) WHERE name = ? AND type = 'table'\n",
      "2021-11-04 23:47:31,925 INFO sqlalchemy.engine.Engine [raw sql] ('sp500',)\n",
      "2021-11-04 23:47:31,928 INFO sqlalchemy.engine.Engine SELECT sp500.\"Date\", sp500.\"Open\", sp500.\"High\", sp500.\"Low\", sp500.\"Close\", sp500.\"Adj Close\", sp500.\"Volume\" \n",
      "FROM sp500\n",
      "2021-11-04 23:47:31,929 INFO sqlalchemy.engine.Engine [generated in 0.00138s] ()\n"
     ]
    }
   ],
   "source": [
    "# Read the table into a DataFrame\n",
    "sp500_df.to_sql('sp500', engine, index=False, if_exists='replace')\n",
    "sp500_df = pd.read_sql_table('sp500', con=engine)"
   ]
  },
  {
   "cell_type": "code",
   "execution_count": 24,
   "id": "0084fb54-6a95-4eaa-8ca7-bd23af3ca9c9",
   "metadata": {},
   "outputs": [
    {
     "name": "stdout",
     "output_type": "stream",
     "text": [
      "2021-11-04 23:47:32,679 INFO sqlalchemy.engine.Engine SELECT name FROM sqlite_master WHERE type='table' ORDER BY name\n",
      "2021-11-04 23:47:32,681 INFO sqlalchemy.engine.Engine [raw sql] ()\n"
     ]
    },
    {
     "name": "stderr",
     "output_type": "stream",
     "text": [
      "/Users/patrickbeeson/opt/anaconda3/envs/sqlenv/lib/python3.7/site-packages/ipykernel_launcher.py:2: SADeprecationWarning: The Engine.table_names() method is deprecated and will be removed in a future release.  Please refer to Inspector.get_table_names(). (deprecated since: 1.4)\n",
      "  \n"
     ]
    },
    {
     "data": {
      "text/plain": [
       "['sp500']"
      ]
     },
     "execution_count": 24,
     "metadata": {},
     "output_type": "execute_result"
    }
   ],
   "source": [
    "# Run the database engine to see that the sp500 table was created in the database\n",
    "engine.table_names()"
   ]
  },
  {
   "cell_type": "code",
   "execution_count": 25,
   "id": "593dca78-ba46-40d2-a320-7b27027c5d04",
   "metadata": {},
   "outputs": [
    {
     "name": "stdout",
     "output_type": "stream",
     "text": [
      "2021-11-04 23:47:33,504 INFO sqlalchemy.engine.Engine PRAGMA main.table_info(\"\n",
      "SELECT *\n",
      "FROM sp500\n",
      "\")\n",
      "2021-11-04 23:47:33,505 INFO sqlalchemy.engine.Engine [raw sql] ()\n",
      "2021-11-04 23:47:33,507 INFO sqlalchemy.engine.Engine PRAGMA temp.table_info(\"\n",
      "SELECT *\n",
      "FROM sp500\n",
      "\")\n",
      "2021-11-04 23:47:33,508 INFO sqlalchemy.engine.Engine [raw sql] ()\n",
      "2021-11-04 23:47:33,509 INFO sqlalchemy.engine.Engine \n",
      "SELECT *\n",
      "FROM sp500\n",
      "\n",
      "2021-11-04 23:47:33,510 INFO sqlalchemy.engine.Engine [raw sql] ()\n"
     ]
    },
    {
     "data": {
      "text/html": [
       "<div>\n",
       "<style scoped>\n",
       "    .dataframe tbody tr th:only-of-type {\n",
       "        vertical-align: middle;\n",
       "    }\n",
       "\n",
       "    .dataframe tbody tr th {\n",
       "        vertical-align: top;\n",
       "    }\n",
       "\n",
       "    .dataframe thead th {\n",
       "        text-align: right;\n",
       "    }\n",
       "</style>\n",
       "<table border=\"1\" class=\"dataframe\">\n",
       "  <thead>\n",
       "    <tr style=\"text-align: right;\">\n",
       "      <th></th>\n",
       "      <th>Open</th>\n",
       "      <th>High</th>\n",
       "      <th>Low</th>\n",
       "      <th>Close</th>\n",
       "      <th>Adj Close</th>\n",
       "      <th>Volume</th>\n",
       "    </tr>\n",
       "    <tr>\n",
       "      <th>Date</th>\n",
       "      <th></th>\n",
       "      <th></th>\n",
       "      <th></th>\n",
       "      <th></th>\n",
       "      <th></th>\n",
       "      <th></th>\n",
       "    </tr>\n",
       "  </thead>\n",
       "  <tbody>\n",
       "    <tr>\n",
       "      <th>2011-11-03</th>\n",
       "      <td>125.269997</td>\n",
       "      <td>126.500000</td>\n",
       "      <td>123.599998</td>\n",
       "      <td>126.250000</td>\n",
       "      <td>103.951668</td>\n",
       "      <td>291174800</td>\n",
       "    </tr>\n",
       "    <tr>\n",
       "      <th>2011-11-04</th>\n",
       "      <td>125.230003</td>\n",
       "      <td>125.699997</td>\n",
       "      <td>124.010002</td>\n",
       "      <td>125.480003</td>\n",
       "      <td>103.317719</td>\n",
       "      <td>249401600</td>\n",
       "    </tr>\n",
       "    <tr>\n",
       "      <th>2011-11-07</th>\n",
       "      <td>125.389999</td>\n",
       "      <td>126.389999</td>\n",
       "      <td>124.199997</td>\n",
       "      <td>126.260002</td>\n",
       "      <td>103.959915</td>\n",
       "      <td>196617200</td>\n",
       "    </tr>\n",
       "    <tr>\n",
       "      <th>2011-11-08</th>\n",
       "      <td>126.919998</td>\n",
       "      <td>128.020004</td>\n",
       "      <td>125.709999</td>\n",
       "      <td>127.879997</td>\n",
       "      <td>105.293808</td>\n",
       "      <td>224426300</td>\n",
       "    </tr>\n",
       "    <tr>\n",
       "      <th>2011-11-09</th>\n",
       "      <td>124.889999</td>\n",
       "      <td>125.800003</td>\n",
       "      <td>122.860001</td>\n",
       "      <td>123.160004</td>\n",
       "      <td>101.407448</td>\n",
       "      <td>337982000</td>\n",
       "    </tr>\n",
       "    <tr>\n",
       "      <th>...</th>\n",
       "      <td>...</td>\n",
       "      <td>...</td>\n",
       "      <td>...</td>\n",
       "      <td>...</td>\n",
       "      <td>...</td>\n",
       "      <td>...</td>\n",
       "    </tr>\n",
       "    <tr>\n",
       "      <th>2021-10-27</th>\n",
       "      <td>456.450012</td>\n",
       "      <td>457.160004</td>\n",
       "      <td>453.859985</td>\n",
       "      <td>453.940002</td>\n",
       "      <td>453.940002</td>\n",
       "      <td>72438000</td>\n",
       "    </tr>\n",
       "    <tr>\n",
       "      <th>2021-10-28</th>\n",
       "      <td>455.459991</td>\n",
       "      <td>458.399994</td>\n",
       "      <td>455.450012</td>\n",
       "      <td>458.320007</td>\n",
       "      <td>458.320007</td>\n",
       "      <td>51437900</td>\n",
       "    </tr>\n",
       "    <tr>\n",
       "      <th>2021-10-29</th>\n",
       "      <td>455.869995</td>\n",
       "      <td>459.559998</td>\n",
       "      <td>455.559998</td>\n",
       "      <td>459.250000</td>\n",
       "      <td>459.250000</td>\n",
       "      <td>70108200</td>\n",
       "    </tr>\n",
       "    <tr>\n",
       "      <th>2021-11-01</th>\n",
       "      <td>460.299988</td>\n",
       "      <td>460.700012</td>\n",
       "      <td>458.200012</td>\n",
       "      <td>460.040009</td>\n",
       "      <td>460.040009</td>\n",
       "      <td>48433600</td>\n",
       "    </tr>\n",
       "    <tr>\n",
       "      <th>2021-11-02</th>\n",
       "      <td>460.220001</td>\n",
       "      <td>462.230011</td>\n",
       "      <td>460.079987</td>\n",
       "      <td>461.899994</td>\n",
       "      <td>461.899994</td>\n",
       "      <td>48854200</td>\n",
       "    </tr>\n",
       "  </tbody>\n",
       "</table>\n",
       "<p>2516 rows × 6 columns</p>\n",
       "</div>"
      ],
      "text/plain": [
       "                  Open        High         Low       Close   Adj Close  \\\n",
       "Date                                                                     \n",
       "2011-11-03  125.269997  126.500000  123.599998  126.250000  103.951668   \n",
       "2011-11-04  125.230003  125.699997  124.010002  125.480003  103.317719   \n",
       "2011-11-07  125.389999  126.389999  124.199997  126.260002  103.959915   \n",
       "2011-11-08  126.919998  128.020004  125.709999  127.879997  105.293808   \n",
       "2011-11-09  124.889999  125.800003  122.860001  123.160004  101.407448   \n",
       "...                ...         ...         ...         ...         ...   \n",
       "2021-10-27  456.450012  457.160004  453.859985  453.940002  453.940002   \n",
       "2021-10-28  455.459991  458.399994  455.450012  458.320007  458.320007   \n",
       "2021-10-29  455.869995  459.559998  455.559998  459.250000  459.250000   \n",
       "2021-11-01  460.299988  460.700012  458.200012  460.040009  460.040009   \n",
       "2021-11-02  460.220001  462.230011  460.079987  461.899994  461.899994   \n",
       "\n",
       "               Volume  \n",
       "Date                   \n",
       "2011-11-03  291174800  \n",
       "2011-11-04  249401600  \n",
       "2011-11-07  196617200  \n",
       "2011-11-08  224426300  \n",
       "2011-11-09  337982000  \n",
       "...               ...  \n",
       "2021-10-27   72438000  \n",
       "2021-10-28   51437900  \n",
       "2021-10-29   70108200  \n",
       "2021-11-01   48433600  \n",
       "2021-11-02   48854200  \n",
       "\n",
       "[2516 rows x 6 columns]"
      ]
     },
     "execution_count": 25,
     "metadata": {},
     "output_type": "execute_result"
    }
   ],
   "source": [
    "# Create a query for all the rows and columns in the sp500 table\n",
    "sp500_query = f\"\"\"\n",
    "SELECT *\n",
    "FROM sp500\n",
    "\"\"\"\n",
    "# Display the results of the sp500 query in a new DataFrame\n",
    "sp500_results_df=pd.read_sql(sp500_query, engine, parse_dates='Date', index_col='Date')\n",
    "sp500_results_df"
   ]
  },
  {
   "cell_type": "code",
   "execution_count": 26,
   "id": "3d511765-6b8e-40fa-b58a-c315284c697b",
   "metadata": {},
   "outputs": [],
   "source": [
    "# Drop the Open, High, Low, Close and Volume Columns, keep only Date and AdjClose.\n",
    "sp500_results_df = sp500_results_df.drop(columns=['Open', 'High', 'Low', 'Close','Volume'])"
   ]
  },
  {
   "cell_type": "code",
   "execution_count": 27,
   "id": "a9c15e3e-963f-4b88-ac6b-abe0ab02448a",
   "metadata": {},
   "outputs": [
    {
     "data": {
      "text/plain": [
       "Adj Close    float64\n",
       "dtype: object"
      ]
     },
     "execution_count": 27,
     "metadata": {},
     "output_type": "execute_result"
    }
   ],
   "source": [
    "sp500_results_df.dtypes"
   ]
  },
  {
   "cell_type": "markdown",
   "id": "29a86c7a-304c-492d-ab0c-644d1b6f640a",
   "metadata": {},
   "source": [
    "# Calculate the Daily Returns 1, 3, 5, 10 year"
   ]
  },
  {
   "cell_type": "code",
   "execution_count": 28,
   "id": "c79892d8-8a58-4cae-834b-89154fce169b",
   "metadata": {},
   "outputs": [
    {
     "data": {
      "text/html": [
       "<div>\n",
       "<style scoped>\n",
       "    .dataframe tbody tr th:only-of-type {\n",
       "        vertical-align: middle;\n",
       "    }\n",
       "\n",
       "    .dataframe tbody tr th {\n",
       "        vertical-align: top;\n",
       "    }\n",
       "\n",
       "    .dataframe thead th {\n",
       "        text-align: right;\n",
       "    }\n",
       "</style>\n",
       "<table border=\"1\" class=\"dataframe\">\n",
       "  <thead>\n",
       "    <tr style=\"text-align: right;\">\n",
       "      <th></th>\n",
       "      <th>Adj Close</th>\n",
       "      <th>daily_return</th>\n",
       "    </tr>\n",
       "    <tr>\n",
       "      <th>Date</th>\n",
       "      <th></th>\n",
       "      <th></th>\n",
       "    </tr>\n",
       "  </thead>\n",
       "  <tbody>\n",
       "    <tr>\n",
       "      <th>2011-11-03</th>\n",
       "      <td>103.951668</td>\n",
       "      <td>NaN</td>\n",
       "    </tr>\n",
       "    <tr>\n",
       "      <th>2011-11-04</th>\n",
       "      <td>103.317719</td>\n",
       "      <td>-0.006098</td>\n",
       "    </tr>\n",
       "    <tr>\n",
       "      <th>2011-11-07</th>\n",
       "      <td>103.959915</td>\n",
       "      <td>0.006216</td>\n",
       "    </tr>\n",
       "    <tr>\n",
       "      <th>2011-11-08</th>\n",
       "      <td>105.293808</td>\n",
       "      <td>0.012831</td>\n",
       "    </tr>\n",
       "    <tr>\n",
       "      <th>2011-11-09</th>\n",
       "      <td>101.407448</td>\n",
       "      <td>-0.036910</td>\n",
       "    </tr>\n",
       "    <tr>\n",
       "      <th>...</th>\n",
       "      <td>...</td>\n",
       "      <td>...</td>\n",
       "    </tr>\n",
       "    <tr>\n",
       "      <th>2021-10-27</th>\n",
       "      <td>453.940002</td>\n",
       "      <td>-0.004430</td>\n",
       "    </tr>\n",
       "    <tr>\n",
       "      <th>2021-10-28</th>\n",
       "      <td>458.320007</td>\n",
       "      <td>0.009649</td>\n",
       "    </tr>\n",
       "    <tr>\n",
       "      <th>2021-10-29</th>\n",
       "      <td>459.250000</td>\n",
       "      <td>0.002029</td>\n",
       "    </tr>\n",
       "    <tr>\n",
       "      <th>2021-11-01</th>\n",
       "      <td>460.040009</td>\n",
       "      <td>0.001720</td>\n",
       "    </tr>\n",
       "    <tr>\n",
       "      <th>2021-11-02</th>\n",
       "      <td>461.899994</td>\n",
       "      <td>0.004043</td>\n",
       "    </tr>\n",
       "  </tbody>\n",
       "</table>\n",
       "<p>2516 rows × 2 columns</p>\n",
       "</div>"
      ],
      "text/plain": [
       "             Adj Close  daily_return\n",
       "Date                                \n",
       "2011-11-03  103.951668           NaN\n",
       "2011-11-04  103.317719     -0.006098\n",
       "2011-11-07  103.959915      0.006216\n",
       "2011-11-08  105.293808      0.012831\n",
       "2011-11-09  101.407448     -0.036910\n",
       "...                ...           ...\n",
       "2021-10-27  453.940002     -0.004430\n",
       "2021-10-28  458.320007      0.009649\n",
       "2021-10-29  459.250000      0.002029\n",
       "2021-11-01  460.040009      0.001720\n",
       "2021-11-02  461.899994      0.004043\n",
       "\n",
       "[2516 rows x 2 columns]"
      ]
     },
     "execution_count": 28,
     "metadata": {},
     "output_type": "execute_result"
    }
   ],
   "source": [
    "# Calculate the daily return of the sp500 over the last 10 years\n",
    "sp500_results_df['daily_return'] = (sp500_results_df['Adj Close']/ sp500_results_df['Adj Close'].shift(1))-1\n",
    "\n",
    "sp500_results_df\n"
   ]
  },
  {
   "cell_type": "code",
   "execution_count": 29,
   "id": "15766456-0a6c-421e-8dc5-b8822c5163ab",
   "metadata": {},
   "outputs": [
    {
     "data": {
      "text/html": [
       "<div>\n",
       "<style scoped>\n",
       "    .dataframe tbody tr th:only-of-type {\n",
       "        vertical-align: middle;\n",
       "    }\n",
       "\n",
       "    .dataframe tbody tr th {\n",
       "        vertical-align: top;\n",
       "    }\n",
       "\n",
       "    .dataframe thead th {\n",
       "        text-align: right;\n",
       "    }\n",
       "</style>\n",
       "<table border=\"1\" class=\"dataframe\">\n",
       "  <thead>\n",
       "    <tr style=\"text-align: right;\">\n",
       "      <th></th>\n",
       "      <th>Adj Close</th>\n",
       "      <th>daily_return</th>\n",
       "    </tr>\n",
       "    <tr>\n",
       "      <th>Date</th>\n",
       "      <th></th>\n",
       "      <th></th>\n",
       "    </tr>\n",
       "  </thead>\n",
       "  <tbody>\n",
       "    <tr>\n",
       "      <th>2020-11-02</th>\n",
       "      <td>325.613251</td>\n",
       "      <td>0.011209</td>\n",
       "    </tr>\n",
       "    <tr>\n",
       "      <th>2020-11-03</th>\n",
       "      <td>331.362274</td>\n",
       "      <td>0.017656</td>\n",
       "    </tr>\n",
       "    <tr>\n",
       "      <th>2020-11-04</th>\n",
       "      <td>338.767944</td>\n",
       "      <td>0.022349</td>\n",
       "    </tr>\n",
       "    <tr>\n",
       "      <th>2020-11-05</th>\n",
       "      <td>345.374878</td>\n",
       "      <td>0.019503</td>\n",
       "    </tr>\n",
       "    <tr>\n",
       "      <th>2020-11-06</th>\n",
       "      <td>345.295959</td>\n",
       "      <td>-0.000229</td>\n",
       "    </tr>\n",
       "    <tr>\n",
       "      <th>...</th>\n",
       "      <td>...</td>\n",
       "      <td>...</td>\n",
       "    </tr>\n",
       "    <tr>\n",
       "      <th>2021-10-26</th>\n",
       "      <td>455.959991</td>\n",
       "      <td>0.000900</td>\n",
       "    </tr>\n",
       "    <tr>\n",
       "      <th>2021-10-27</th>\n",
       "      <td>453.940002</td>\n",
       "      <td>-0.004430</td>\n",
       "    </tr>\n",
       "    <tr>\n",
       "      <th>2021-10-28</th>\n",
       "      <td>458.320007</td>\n",
       "      <td>0.009649</td>\n",
       "    </tr>\n",
       "    <tr>\n",
       "      <th>2021-10-29</th>\n",
       "      <td>459.250000</td>\n",
       "      <td>0.002029</td>\n",
       "    </tr>\n",
       "    <tr>\n",
       "      <th>2021-11-01</th>\n",
       "      <td>460.040009</td>\n",
       "      <td>0.001720</td>\n",
       "    </tr>\n",
       "  </tbody>\n",
       "</table>\n",
       "<p>252 rows × 2 columns</p>\n",
       "</div>"
      ],
      "text/plain": [
       "             Adj Close  daily_return\n",
       "Date                                \n",
       "2020-11-02  325.613251      0.011209\n",
       "2020-11-03  331.362274      0.017656\n",
       "2020-11-04  338.767944      0.022349\n",
       "2020-11-05  345.374878      0.019503\n",
       "2020-11-06  345.295959     -0.000229\n",
       "...                ...           ...\n",
       "2021-10-26  455.959991      0.000900\n",
       "2021-10-27  453.940002     -0.004430\n",
       "2021-10-28  458.320007      0.009649\n",
       "2021-10-29  459.250000      0.002029\n",
       "2021-11-01  460.040009      0.001720\n",
       "\n",
       "[252 rows x 2 columns]"
      ]
     },
     "execution_count": 29,
     "metadata": {},
     "output_type": "execute_result"
    }
   ],
   "source": [
    "# Calculate 1 year daily returns using loc\n",
    "daily_returns_1_year = sp500_results_df.loc['2020-11-01':'2021-11-01']\n",
    "                                                           \n",
    "daily_returns_1_year"
   ]
  },
  {
   "cell_type": "code",
   "execution_count": 30,
   "id": "e6931f67-4d9d-4659-a80b-9b88fa46c096",
   "metadata": {},
   "outputs": [
    {
     "data": {
      "text/html": [
       "<div>\n",
       "<style scoped>\n",
       "    .dataframe tbody tr th:only-of-type {\n",
       "        vertical-align: middle;\n",
       "    }\n",
       "\n",
       "    .dataframe tbody tr th {\n",
       "        vertical-align: top;\n",
       "    }\n",
       "\n",
       "    .dataframe thead th {\n",
       "        text-align: right;\n",
       "    }\n",
       "</style>\n",
       "<table border=\"1\" class=\"dataframe\">\n",
       "  <thead>\n",
       "    <tr style=\"text-align: right;\">\n",
       "      <th></th>\n",
       "      <th>Adj Close</th>\n",
       "      <th>daily_return</th>\n",
       "    </tr>\n",
       "    <tr>\n",
       "      <th>Date</th>\n",
       "      <th></th>\n",
       "      <th></th>\n",
       "    </tr>\n",
       "  </thead>\n",
       "  <tbody>\n",
       "    <tr>\n",
       "      <th>2018-11-01</th>\n",
       "      <td>259.438446</td>\n",
       "      <td>0.010642</td>\n",
       "    </tr>\n",
       "    <tr>\n",
       "      <th>2018-11-02</th>\n",
       "      <td>257.901794</td>\n",
       "      <td>-0.005923</td>\n",
       "    </tr>\n",
       "    <tr>\n",
       "      <th>2018-11-05</th>\n",
       "      <td>259.324677</td>\n",
       "      <td>0.005517</td>\n",
       "    </tr>\n",
       "    <tr>\n",
       "      <th>2018-11-06</th>\n",
       "      <td>260.965576</td>\n",
       "      <td>0.006328</td>\n",
       "    </tr>\n",
       "    <tr>\n",
       "      <th>2018-11-07</th>\n",
       "      <td>266.552612</td>\n",
       "      <td>0.021409</td>\n",
       "    </tr>\n",
       "    <tr>\n",
       "      <th>...</th>\n",
       "      <td>...</td>\n",
       "      <td>...</td>\n",
       "    </tr>\n",
       "    <tr>\n",
       "      <th>2021-10-26</th>\n",
       "      <td>455.959991</td>\n",
       "      <td>0.000900</td>\n",
       "    </tr>\n",
       "    <tr>\n",
       "      <th>2021-10-27</th>\n",
       "      <td>453.940002</td>\n",
       "      <td>-0.004430</td>\n",
       "    </tr>\n",
       "    <tr>\n",
       "      <th>2021-10-28</th>\n",
       "      <td>458.320007</td>\n",
       "      <td>0.009649</td>\n",
       "    </tr>\n",
       "    <tr>\n",
       "      <th>2021-10-29</th>\n",
       "      <td>459.250000</td>\n",
       "      <td>0.002029</td>\n",
       "    </tr>\n",
       "    <tr>\n",
       "      <th>2021-11-01</th>\n",
       "      <td>460.040009</td>\n",
       "      <td>0.001720</td>\n",
       "    </tr>\n",
       "  </tbody>\n",
       "</table>\n",
       "<p>755 rows × 2 columns</p>\n",
       "</div>"
      ],
      "text/plain": [
       "             Adj Close  daily_return\n",
       "Date                                \n",
       "2018-11-01  259.438446      0.010642\n",
       "2018-11-02  257.901794     -0.005923\n",
       "2018-11-05  259.324677      0.005517\n",
       "2018-11-06  260.965576      0.006328\n",
       "2018-11-07  266.552612      0.021409\n",
       "...                ...           ...\n",
       "2021-10-26  455.959991      0.000900\n",
       "2021-10-27  453.940002     -0.004430\n",
       "2021-10-28  458.320007      0.009649\n",
       "2021-10-29  459.250000      0.002029\n",
       "2021-11-01  460.040009      0.001720\n",
       "\n",
       "[755 rows x 2 columns]"
      ]
     },
     "execution_count": 30,
     "metadata": {},
     "output_type": "execute_result"
    }
   ],
   "source": [
    "# Calculate 3 year daily returns using loc\n",
    "daily_returns_3_year = sp500_results_df.loc['2018-11-01':'2021-11-01']\n",
    "                                                           \n",
    "daily_returns_3_year"
   ]
  },
  {
   "cell_type": "code",
   "execution_count": 31,
   "id": "c7b2dd78-2f23-452f-834b-7e24547178d2",
   "metadata": {},
   "outputs": [
    {
     "data": {
      "text/html": [
       "<div>\n",
       "<style scoped>\n",
       "    .dataframe tbody tr th:only-of-type {\n",
       "        vertical-align: middle;\n",
       "    }\n",
       "\n",
       "    .dataframe tbody tr th {\n",
       "        vertical-align: top;\n",
       "    }\n",
       "\n",
       "    .dataframe thead th {\n",
       "        text-align: right;\n",
       "    }\n",
       "</style>\n",
       "<table border=\"1\" class=\"dataframe\">\n",
       "  <thead>\n",
       "    <tr style=\"text-align: right;\">\n",
       "      <th></th>\n",
       "      <th>Adj Close</th>\n",
       "      <th>daily_return</th>\n",
       "    </tr>\n",
       "    <tr>\n",
       "      <th>Date</th>\n",
       "      <th></th>\n",
       "      <th></th>\n",
       "    </tr>\n",
       "  </thead>\n",
       "  <tbody>\n",
       "    <tr>\n",
       "      <th>2016-11-01</th>\n",
       "      <td>192.666611</td>\n",
       "      <td>-0.007246</td>\n",
       "    </tr>\n",
       "    <tr>\n",
       "      <th>2016-11-02</th>\n",
       "      <td>191.507019</td>\n",
       "      <td>-0.006019</td>\n",
       "    </tr>\n",
       "    <tr>\n",
       "      <th>2016-11-03</th>\n",
       "      <td>190.630463</td>\n",
       "      <td>-0.004577</td>\n",
       "    </tr>\n",
       "    <tr>\n",
       "      <th>2016-11-04</th>\n",
       "      <td>190.420456</td>\n",
       "      <td>-0.001102</td>\n",
       "    </tr>\n",
       "    <tr>\n",
       "      <th>2016-11-07</th>\n",
       "      <td>194.620590</td>\n",
       "      <td>0.022057</td>\n",
       "    </tr>\n",
       "    <tr>\n",
       "      <th>...</th>\n",
       "      <td>...</td>\n",
       "      <td>...</td>\n",
       "    </tr>\n",
       "    <tr>\n",
       "      <th>2021-10-26</th>\n",
       "      <td>455.959991</td>\n",
       "      <td>0.000900</td>\n",
       "    </tr>\n",
       "    <tr>\n",
       "      <th>2021-10-27</th>\n",
       "      <td>453.940002</td>\n",
       "      <td>-0.004430</td>\n",
       "    </tr>\n",
       "    <tr>\n",
       "      <th>2021-10-28</th>\n",
       "      <td>458.320007</td>\n",
       "      <td>0.009649</td>\n",
       "    </tr>\n",
       "    <tr>\n",
       "      <th>2021-10-29</th>\n",
       "      <td>459.250000</td>\n",
       "      <td>0.002029</td>\n",
       "    </tr>\n",
       "    <tr>\n",
       "      <th>2021-11-01</th>\n",
       "      <td>460.040009</td>\n",
       "      <td>0.001720</td>\n",
       "    </tr>\n",
       "  </tbody>\n",
       "</table>\n",
       "<p>1259 rows × 2 columns</p>\n",
       "</div>"
      ],
      "text/plain": [
       "             Adj Close  daily_return\n",
       "Date                                \n",
       "2016-11-01  192.666611     -0.007246\n",
       "2016-11-02  191.507019     -0.006019\n",
       "2016-11-03  190.630463     -0.004577\n",
       "2016-11-04  190.420456     -0.001102\n",
       "2016-11-07  194.620590      0.022057\n",
       "...                ...           ...\n",
       "2021-10-26  455.959991      0.000900\n",
       "2021-10-27  453.940002     -0.004430\n",
       "2021-10-28  458.320007      0.009649\n",
       "2021-10-29  459.250000      0.002029\n",
       "2021-11-01  460.040009      0.001720\n",
       "\n",
       "[1259 rows x 2 columns]"
      ]
     },
     "execution_count": 31,
     "metadata": {},
     "output_type": "execute_result"
    }
   ],
   "source": [
    "\n",
    "# Calculate 5 year daily returns using loc\n",
    "daily_returns_5_year = sp500_results_df.loc['2016-11-01':'2021-11-01']\n",
    "                                                           \n",
    "daily_returns_5_year "
   ]
  },
  {
   "cell_type": "code",
   "execution_count": 32,
   "id": "5a33a755-fd78-4182-ab03-fd00c5a80204",
   "metadata": {},
   "outputs": [
    {
     "data": {
      "text/html": [
       "<div>\n",
       "<style scoped>\n",
       "    .dataframe tbody tr th:only-of-type {\n",
       "        vertical-align: middle;\n",
       "    }\n",
       "\n",
       "    .dataframe tbody tr th {\n",
       "        vertical-align: top;\n",
       "    }\n",
       "\n",
       "    .dataframe thead th {\n",
       "        text-align: right;\n",
       "    }\n",
       "</style>\n",
       "<table border=\"1\" class=\"dataframe\">\n",
       "  <thead>\n",
       "    <tr style=\"text-align: right;\">\n",
       "      <th></th>\n",
       "      <th>Adj Close</th>\n",
       "      <th>daily_return</th>\n",
       "    </tr>\n",
       "    <tr>\n",
       "      <th>Date</th>\n",
       "      <th></th>\n",
       "      <th></th>\n",
       "    </tr>\n",
       "  </thead>\n",
       "  <tbody>\n",
       "    <tr>\n",
       "      <th>2011-11-03</th>\n",
       "      <td>103.951668</td>\n",
       "      <td>NaN</td>\n",
       "    </tr>\n",
       "    <tr>\n",
       "      <th>2011-11-04</th>\n",
       "      <td>103.317719</td>\n",
       "      <td>-0.006098</td>\n",
       "    </tr>\n",
       "    <tr>\n",
       "      <th>2011-11-07</th>\n",
       "      <td>103.959915</td>\n",
       "      <td>0.006216</td>\n",
       "    </tr>\n",
       "    <tr>\n",
       "      <th>2011-11-08</th>\n",
       "      <td>105.293808</td>\n",
       "      <td>0.012831</td>\n",
       "    </tr>\n",
       "    <tr>\n",
       "      <th>2011-11-09</th>\n",
       "      <td>101.407448</td>\n",
       "      <td>-0.036910</td>\n",
       "    </tr>\n",
       "    <tr>\n",
       "      <th>...</th>\n",
       "      <td>...</td>\n",
       "      <td>...</td>\n",
       "    </tr>\n",
       "    <tr>\n",
       "      <th>2021-10-26</th>\n",
       "      <td>455.959991</td>\n",
       "      <td>0.000900</td>\n",
       "    </tr>\n",
       "    <tr>\n",
       "      <th>2021-10-27</th>\n",
       "      <td>453.940002</td>\n",
       "      <td>-0.004430</td>\n",
       "    </tr>\n",
       "    <tr>\n",
       "      <th>2021-10-28</th>\n",
       "      <td>458.320007</td>\n",
       "      <td>0.009649</td>\n",
       "    </tr>\n",
       "    <tr>\n",
       "      <th>2021-10-29</th>\n",
       "      <td>459.250000</td>\n",
       "      <td>0.002029</td>\n",
       "    </tr>\n",
       "    <tr>\n",
       "      <th>2021-11-01</th>\n",
       "      <td>460.040009</td>\n",
       "      <td>0.001720</td>\n",
       "    </tr>\n",
       "  </tbody>\n",
       "</table>\n",
       "<p>2515 rows × 2 columns</p>\n",
       "</div>"
      ],
      "text/plain": [
       "             Adj Close  daily_return\n",
       "Date                                \n",
       "2011-11-03  103.951668           NaN\n",
       "2011-11-04  103.317719     -0.006098\n",
       "2011-11-07  103.959915      0.006216\n",
       "2011-11-08  105.293808      0.012831\n",
       "2011-11-09  101.407448     -0.036910\n",
       "...                ...           ...\n",
       "2021-10-26  455.959991      0.000900\n",
       "2021-10-27  453.940002     -0.004430\n",
       "2021-10-28  458.320007      0.009649\n",
       "2021-10-29  459.250000      0.002029\n",
       "2021-11-01  460.040009      0.001720\n",
       "\n",
       "[2515 rows x 2 columns]"
      ]
     },
     "execution_count": 32,
     "metadata": {},
     "output_type": "execute_result"
    }
   ],
   "source": [
    "# Calculate 10 year daily returns using loc\n",
    "daily_returns_10_year = sp500_results_df.loc['2011-11-01':'2021-11-01']\n",
    "                                                           \n",
    "daily_returns_10_year "
   ]
  },
  {
   "cell_type": "markdown",
   "id": "250c2b14-ff7b-4b8f-a893-57bb98faf426",
   "metadata": {},
   "source": [
    "# Calculate the cumulative returns 1,3, 5, 10 Year"
   ]
  },
  {
   "cell_type": "code",
   "execution_count": 33,
   "id": "fe504900-8acf-427d-89f6-77b5e625f2db",
   "metadata": {},
   "outputs": [
    {
     "data": {
      "text/plain": [
       "Date\n",
       "2020-11-02    0.011209\n",
       "2020-11-03    0.029062\n",
       "2020-11-04    0.052061\n",
       "2020-11-05    0.072579\n",
       "2020-11-06    0.072334\n",
       "                ...   \n",
       "2021-10-26    0.416007\n",
       "2021-10-27    0.409734\n",
       "2021-10-28    0.423336\n",
       "2021-10-29    0.426224\n",
       "2021-11-01    0.428678\n",
       "Name: daily_return, Length: 252, dtype: float64"
      ]
     },
     "execution_count": 33,
     "metadata": {},
     "output_type": "execute_result"
    }
   ],
   "source": [
    "# Calculate the 1 year cumulative returns using the cumprod() function\n",
    "\n",
    "sp500_cumulative_1_year_return = (1 + daily_returns_1_year['daily_return']).cumprod()-1\n",
    "sp500_cumulative_1_year_return"
   ]
  },
  {
   "cell_type": "code",
   "execution_count": 38,
   "id": "6db17ee1-a274-4869-b2a5-1371d7918a4b",
   "metadata": {},
   "outputs": [
    {
     "data": {
      "text/plain": [
       "<AxesSubplot:xlabel='Date'>"
      ]
     },
     "execution_count": 38,
     "metadata": {},
     "output_type": "execute_result"
    },
    {
     "data": {
      "image/png": "[encoded data removed]",
      "text/plain": [
       "<Figure size 432x288 with 1 Axes>"
      ]
     },
     "metadata": {
      "needs_background": "light"
     },
     "output_type": "display_data"
    }
   ],
   "source": [
    "sp500_cumulative_1_year_return.plot()\n",
    "sp500_cumulative_3_year_return.plot()\n"
   ]
  },
  {
   "cell_type": "code",
   "execution_count": 39,
   "id": "54e5cf76-c61c-429b-8e0b-df7ed3b933a7",
   "metadata": {},
   "outputs": [
    {
     "data": {
      "text/plain": [
       "Date\n",
       "2018-11-01    0.010642\n",
       "2018-11-02    0.004656\n",
       "2018-11-05    0.010199\n",
       "2018-11-06    0.016591\n",
       "2018-11-07    0.038355\n",
       "                ...   \n",
       "2021-10-26    0.776191\n",
       "2021-10-27    0.768322\n",
       "2021-10-28    0.785385\n",
       "2021-10-29    0.789007\n",
       "2021-11-01    0.792085\n",
       "Name: daily_return, Length: 755, dtype: float64"
      ]
     },
     "execution_count": 39,
     "metadata": {},
     "output_type": "execute_result"
    }
   ],
   "source": [
    "# Calculate the 3 year cumulative returns using the cumprod() function\n",
    "\n",
    "sp500_cumulative_3_year_return = (1 + daily_returns_3_year['daily_return']).cumprod()-1\n",
    "sp500_cumulative_3_year_return"
   ]
  },
  {
   "cell_type": "code",
   "execution_count": 40,
   "id": "2aa45f05-1f8f-47bd-9ad8-bb1303ee0c97",
   "metadata": {},
   "outputs": [
    {
     "data": {
      "text/plain": [
       "Date\n",
       "2016-11-01   -0.007246\n",
       "2016-11-02   -0.013221\n",
       "2016-11-03   -0.017737\n",
       "2016-11-04   -0.018819\n",
       "2016-11-07    0.002823\n",
       "                ...   \n",
       "2021-10-26    1.349428\n",
       "2021-10-27    1.339019\n",
       "2021-10-28    1.361588\n",
       "2021-10-29    1.366380\n",
       "2021-11-01    1.370451\n",
       "Name: daily_return, Length: 1259, dtype: float64"
      ]
     },
     "execution_count": 40,
     "metadata": {},
     "output_type": "execute_result"
    }
   ],
   "source": [
    "# Calculate the 5 year cumulative returns using the cumprod() function\n",
    "\n",
    "sp500_cumulative_5_year_return = (1 + daily_returns_5_year['daily_return']).cumprod()-1\n",
    "\n",
    "sp500_cumulative_5_year_return"
   ]
  },
  {
   "cell_type": "code",
   "execution_count": 41,
   "id": "48322c6a-6421-4074-a93e-184762185308",
   "metadata": {},
   "outputs": [
    {
     "data": {
      "text/plain": [
       "Date\n",
       "2011-11-03         NaN\n",
       "2011-11-04   -0.006098\n",
       "2011-11-07    0.000079\n",
       "2011-11-08    0.012911\n",
       "2011-11-09   -0.024475\n",
       "                ...   \n",
       "2021-10-26    3.386269\n",
       "2021-10-27    3.366837\n",
       "2021-10-28    3.408972\n",
       "2021-10-29    3.417919\n",
       "2021-11-01    3.425518\n",
       "Name: daily_return, Length: 2515, dtype: float64"
      ]
     },
     "execution_count": 41,
     "metadata": {},
     "output_type": "execute_result"
    }
   ],
   "source": [
    "# Calculate the 10 year cumulative returns using the cumprod() function\n",
    "\n",
    "sp500_cumulative_10_year_return = (1 + daily_returns_10_year['daily_return']).cumprod()-1\n",
    "\n",
    "sp500_cumulative_10_year_return"
   ]
  },
  {
   "cell_type": "markdown",
   "id": "c93ef161-33ab-4ab3-8f6c-9129f08fbab8",
   "metadata": {},
   "source": [
    "# Calculate the 1, 3, 5, 10 Year Mean "
   ]
  },
  {
   "cell_type": "code",
   "execution_count": 42,
   "id": "83e7c7ea-5ae4-4aa0-bdf4-24374cba20df",
   "metadata": {},
   "outputs": [
    {
     "data": {
      "text/plain": [
       "0.0014483720836775237"
      ]
     },
     "execution_count": 42,
     "metadata": {},
     "output_type": "execute_result"
    }
   ],
   "source": [
    "# Calculate the sp500 1 year mean\n",
    "SP500_1_year_mean = daily_returns_1_year['daily_return'].mean()\n",
    "\n",
    "SP500_1_year_mean\n"
   ]
  },
  {
   "cell_type": "code",
   "execution_count": 43,
   "id": "38930f17-7070-4395-9fd5-2abaa9537d20",
   "metadata": {},
   "outputs": [
    {
     "data": {
      "text/plain": [
       "0.0008730592175987743"
      ]
     },
     "execution_count": 43,
     "metadata": {},
     "output_type": "execute_result"
    }
   ],
   "source": [
    "# Calculate the sp500 3 year mean\n",
    "SP500_3_year_mean = daily_returns_3_year['daily_return'].mean()\n",
    "SP500_3_year_mean"
   ]
  },
  {
   "cell_type": "code",
   "execution_count": 44,
   "id": "e4101006-5d92-4915-a61c-4718296fd3cf",
   "metadata": {},
   "outputs": [
    {
     "data": {
      "text/plain": [
       "0.0007558128024750944"
      ]
     },
     "execution_count": 44,
     "metadata": {},
     "output_type": "execute_result"
    }
   ],
   "source": [
    "# Calculate the sp500 5 year mean\n",
    "SP500_5_year_mean = daily_returns_5_year['daily_return'].mean()\n",
    "SP500_5_year_mean"
   ]
  },
  {
   "cell_type": "code",
   "execution_count": 45,
   "id": "1e18c766-1859-4143-8159-668e9b7bec90",
   "metadata": {},
   "outputs": [
    {
     "data": {
      "text/plain": [
       "0.0006446516501517348"
      ]
     },
     "execution_count": 45,
     "metadata": {},
     "output_type": "execute_result"
    }
   ],
   "source": [
    "# Calculate the sp500 10 year mean\n",
    "SP500_10_year_mean = daily_returns_10_year['daily_return'].mean()\n",
    "SP500_10_year_mean"
   ]
  },
  {
   "cell_type": "markdown",
   "id": "fe87399c-25cb-4dac-90fe-af3997e637da",
   "metadata": {},
   "source": [
    "# Calculate the standard deviation for each period"
   ]
  },
  {
   "cell_type": "code",
   "execution_count": 46,
   "id": "f6ad7a76-739d-4170-9c69-36af4902bf20",
   "metadata": {},
   "outputs": [
    {
     "data": {
      "text/plain": [
       "0.007978336183989644"
      ]
     },
     "execution_count": 46,
     "metadata": {},
     "output_type": "execute_result"
    }
   ],
   "source": [
    "# One year standard deviation\n",
    "sp500_std_dev_1_year = daily_returns_1_year['daily_return'].std()\n",
    "sp500_std_dev_1_year"
   ]
  },
  {
   "cell_type": "code",
   "execution_count": 47,
   "id": "392b9dfc-cc88-4acb-9a58-6c10c4bc87cc",
   "metadata": {},
   "outputs": [
    {
     "data": {
      "text/plain": [
       "0.014104258739463622"
      ]
     },
     "execution_count": 47,
     "metadata": {},
     "output_type": "execute_result"
    }
   ],
   "source": [
    "# Three year standard deviation\n",
    "sp500_std_dev_3_year = daily_returns_3_year['daily_return'].std()\n",
    "sp500_std_dev_3_year"
   ]
  },
  {
   "cell_type": "code",
   "execution_count": 48,
   "id": "76e78ff0-7b51-45b7-ae6b-785804323f2d",
   "metadata": {},
   "outputs": [
    {
     "data": {
      "text/plain": [
       "0.011799544405671708"
      ]
     },
     "execution_count": 48,
     "metadata": {},
     "output_type": "execute_result"
    }
   ],
   "source": [
    "# Five year standard deviation\n",
    "sp500_std_dev_5_year = daily_returns_5_year['daily_return'].std()\n",
    "sp500_std_dev_5_year"
   ]
  },
  {
   "cell_type": "code",
   "execution_count": 49,
   "id": "ce83fea9-a84e-4f27-8b82-ad8b733b3ac1",
   "metadata": {},
   "outputs": [
    {
     "data": {
      "text/plain": [
       "0.010256481717718254"
      ]
     },
     "execution_count": 49,
     "metadata": {},
     "output_type": "execute_result"
    }
   ],
   "source": [
    "# Ten year standard deviation\n",
    "sp500_std_dev_10_year = daily_returns_10_year['daily_return'].std()\n",
    "sp500_std_dev_10_year"
   ]
  },
  {
   "cell_type": "markdown",
   "id": "5e865463-5391-482d-8770-00f5446f8344",
   "metadata": {},
   "source": [
    "# Calculate the Annualized Returns"
   ]
  },
  {
   "cell_type": "code",
   "execution_count": 50,
   "id": "ee71cb69-ce90-4df7-8cb1-7d54d22b3cdf",
   "metadata": {},
   "outputs": [
    {
     "data": {
      "text/plain": [
       "36.4989765086736"
      ]
     },
     "execution_count": 50,
     "metadata": {},
     "output_type": "execute_result"
    }
   ],
   "source": [
    "# SP500 one year annualized return\n",
    "# set variable Trading Days to 252 days per year the market is open\n",
    "\n",
    "trading_days = 252\n",
    "\n",
    "sp500_1_year_annualized_return = (daily_returns_1_year['daily_return'].mean() * trading_days) *100\n",
    "\n",
    "sp500_1_year_annualized_return"
   ]
  },
  {
   "cell_type": "code",
   "execution_count": 51,
   "id": "7bb03874-1b3c-43c9-b3b3-61c8567ee68b",
   "metadata": {},
   "outputs": [
    {
     "data": {
      "text/plain": [
       "22.00109228348911"
      ]
     },
     "execution_count": 51,
     "metadata": {},
     "output_type": "execute_result"
    }
   ],
   "source": [
    "# SP500 3 year annualized return\n",
    "\n",
    "sp500_3_year_annualized_return = (daily_returns_3_year['daily_return'].mean() * trading_days) *100\n",
    "sp500_3_year_annualized_return"
   ]
  },
  {
   "cell_type": "code",
   "execution_count": 52,
   "id": "55114a54-fa81-46e1-afc0-c8e386980f01",
   "metadata": {},
   "outputs": [
    {
     "data": {
      "text/plain": [
       "19.04648262237238"
      ]
     },
     "execution_count": 52,
     "metadata": {},
     "output_type": "execute_result"
    }
   ],
   "source": [
    "# SP500 5 year annualized return\n",
    "\n",
    "sp500_5_year_annualized_return = (daily_returns_5_year['daily_return'].mean() * trading_days) * 100\n",
    "sp500_5_year_annualized_return"
   ]
  },
  {
   "cell_type": "code",
   "execution_count": 53,
   "id": "e96050bd-4685-4f14-a19d-57239f24ec3e",
   "metadata": {},
   "outputs": [
    {
     "data": {
      "text/plain": [
       "16.245221583823717"
      ]
     },
     "execution_count": 53,
     "metadata": {},
     "output_type": "execute_result"
    }
   ],
   "source": [
    "# SP500 10 year annualized return\n",
    "\n",
    "sp500_10_year_annualized_return = (daily_returns_10_year['daily_return'].mean() * trading_days) * 100\n",
    "sp500_10_year_annualized_return"
   ]
  },
  {
   "cell_type": "markdown",
   "id": "45002d0d-d18b-46af-8c25-dfccd485372a",
   "metadata": {},
   "source": [
    "# Summary Stats for each time period (1, 3, 5, 10)"
   ]
  },
  {
   "cell_type": "code",
   "execution_count": 54,
   "id": "4f18c95a-93ba-453b-9c5a-782f011f28c4",
   "metadata": {},
   "outputs": [
    {
     "data": {
      "text/html": [
       "<div>\n",
       "<style scoped>\n",
       "    .dataframe tbody tr th:only-of-type {\n",
       "        vertical-align: middle;\n",
       "    }\n",
       "\n",
       "    .dataframe tbody tr th {\n",
       "        vertical-align: top;\n",
       "    }\n",
       "\n",
       "    .dataframe thead th {\n",
       "        text-align: right;\n",
       "    }\n",
       "</style>\n",
       "<table border=\"1\" class=\"dataframe\">\n",
       "  <thead>\n",
       "    <tr style=\"text-align: right;\">\n",
       "      <th></th>\n",
       "      <th>Adj Close</th>\n",
       "      <th>daily_return</th>\n",
       "    </tr>\n",
       "  </thead>\n",
       "  <tbody>\n",
       "    <tr>\n",
       "      <th>count</th>\n",
       "      <td>252.000000</td>\n",
       "      <td>252.000000</td>\n",
       "    </tr>\n",
       "    <tr>\n",
       "      <th>mean</th>\n",
       "      <td>406.380186</td>\n",
       "      <td>0.001448</td>\n",
       "    </tr>\n",
       "    <tr>\n",
       "      <th>std</th>\n",
       "      <td>32.291982</td>\n",
       "      <td>0.007978</td>\n",
       "    </tr>\n",
       "    <tr>\n",
       "      <th>min</th>\n",
       "      <td>325.613251</td>\n",
       "      <td>-0.024440</td>\n",
       "    </tr>\n",
       "    <tr>\n",
       "      <th>25%</th>\n",
       "      <td>378.507355</td>\n",
       "      <td>-0.002705</td>\n",
       "    </tr>\n",
       "    <tr>\n",
       "      <th>50%</th>\n",
       "      <td>413.289505</td>\n",
       "      <td>0.001559</td>\n",
       "    </tr>\n",
       "    <tr>\n",
       "      <th>75%</th>\n",
       "      <td>434.729225</td>\n",
       "      <td>0.006343</td>\n",
       "    </tr>\n",
       "    <tr>\n",
       "      <th>max</th>\n",
       "      <td>460.040009</td>\n",
       "      <td>0.024240</td>\n",
       "    </tr>\n",
       "  </tbody>\n",
       "</table>\n",
       "</div>"
      ],
      "text/plain": [
       "        Adj Close  daily_return\n",
       "count  252.000000    252.000000\n",
       "mean   406.380186      0.001448\n",
       "std     32.291982      0.007978\n",
       "min    325.613251     -0.024440\n",
       "25%    378.507355     -0.002705\n",
       "50%    413.289505      0.001559\n",
       "75%    434.729225      0.006343\n",
       "max    460.040009      0.024240"
      ]
     },
     "execution_count": 54,
     "metadata": {},
     "output_type": "execute_result"
    }
   ],
   "source": [
    "# Daily Returns 1 year - summary stats\n",
    "daily_returns_1_year.describe()"
   ]
  },
  {
   "cell_type": "code",
   "execution_count": 55,
   "id": "73d264f8-21e9-4cb6-bb70-2c609367e05d",
   "metadata": {},
   "outputs": [
    {
     "data": {
      "text/html": [
       "<div>\n",
       "<style scoped>\n",
       "    .dataframe tbody tr th:only-of-type {\n",
       "        vertical-align: middle;\n",
       "    }\n",
       "\n",
       "    .dataframe tbody tr th {\n",
       "        vertical-align: top;\n",
       "    }\n",
       "\n",
       "    .dataframe thead th {\n",
       "        text-align: right;\n",
       "    }\n",
       "</style>\n",
       "<table border=\"1\" class=\"dataframe\">\n",
       "  <thead>\n",
       "    <tr style=\"text-align: right;\">\n",
       "      <th></th>\n",
       "      <th>Adj Close</th>\n",
       "      <th>daily_return</th>\n",
       "    </tr>\n",
       "  </thead>\n",
       "  <tbody>\n",
       "    <tr>\n",
       "      <th>count</th>\n",
       "      <td>755.000000</td>\n",
       "      <td>755.000000</td>\n",
       "    </tr>\n",
       "    <tr>\n",
       "      <th>mean</th>\n",
       "      <td>328.023522</td>\n",
       "      <td>0.000873</td>\n",
       "    </tr>\n",
       "    <tr>\n",
       "      <th>std</th>\n",
       "      <td>62.684121</td>\n",
       "      <td>0.014104</td>\n",
       "    </tr>\n",
       "    <tr>\n",
       "      <th>min</th>\n",
       "      <td>218.017075</td>\n",
       "      <td>-0.109424</td>\n",
       "    </tr>\n",
       "    <tr>\n",
       "      <th>25%</th>\n",
       "      <td>278.103989</td>\n",
       "      <td>-0.003693</td>\n",
       "    </tr>\n",
       "    <tr>\n",
       "      <th>50%</th>\n",
       "      <td>311.800140</td>\n",
       "      <td>0.001568</td>\n",
       "    </tr>\n",
       "    <tr>\n",
       "      <th>75%</th>\n",
       "      <td>378.388519</td>\n",
       "      <td>0.007076</td>\n",
       "    </tr>\n",
       "    <tr>\n",
       "      <th>max</th>\n",
       "      <td>460.040009</td>\n",
       "      <td>0.090603</td>\n",
       "    </tr>\n",
       "  </tbody>\n",
       "</table>\n",
       "</div>"
      ],
      "text/plain": [
       "        Adj Close  daily_return\n",
       "count  755.000000    755.000000\n",
       "mean   328.023522      0.000873\n",
       "std     62.684121      0.014104\n",
       "min    218.017075     -0.109424\n",
       "25%    278.103989     -0.003693\n",
       "50%    311.800140      0.001568\n",
       "75%    378.388519      0.007076\n",
       "max    460.040009      0.090603"
      ]
     },
     "execution_count": 55,
     "metadata": {},
     "output_type": "execute_result"
    }
   ],
   "source": [
    "# Daily Returns 3 year - summary stats\n",
    "daily_returns_3_year.describe()"
   ]
  },
  {
   "cell_type": "code",
   "execution_count": 56,
   "id": "ee6b953d-9587-4e64-9847-99549d34d0f6",
   "metadata": {},
   "outputs": [
    {
     "data": {
      "text/html": [
       "<div>\n",
       "<style scoped>\n",
       "    .dataframe tbody tr th:only-of-type {\n",
       "        vertical-align: middle;\n",
       "    }\n",
       "\n",
       "    .dataframe tbody tr th {\n",
       "        vertical-align: top;\n",
       "    }\n",
       "\n",
       "    .dataframe thead th {\n",
       "        text-align: right;\n",
       "    }\n",
       "</style>\n",
       "<table border=\"1\" class=\"dataframe\">\n",
       "  <thead>\n",
       "    <tr style=\"text-align: right;\">\n",
       "      <th></th>\n",
       "      <th>Adj Close</th>\n",
       "      <th>daily_return</th>\n",
       "    </tr>\n",
       "  </thead>\n",
       "  <tbody>\n",
       "    <tr>\n",
       "      <th>count</th>\n",
       "      <td>1259.000000</td>\n",
       "      <td>1259.000000</td>\n",
       "    </tr>\n",
       "    <tr>\n",
       "      <th>mean</th>\n",
       "      <td>292.188959</td>\n",
       "      <td>0.000756</td>\n",
       "    </tr>\n",
       "    <tr>\n",
       "      <th>std</th>\n",
       "      <td>66.864110</td>\n",
       "      <td>0.011800</td>\n",
       "    </tr>\n",
       "    <tr>\n",
       "      <th>min</th>\n",
       "      <td>190.420456</td>\n",
       "      <td>-0.109424</td>\n",
       "    </tr>\n",
       "    <tr>\n",
       "      <th>25%</th>\n",
       "      <td>246.612488</td>\n",
       "      <td>-0.002797</td>\n",
       "    </tr>\n",
       "    <tr>\n",
       "      <th>50%</th>\n",
       "      <td>273.632721</td>\n",
       "      <td>0.000930</td>\n",
       "    </tr>\n",
       "    <tr>\n",
       "      <th>75%</th>\n",
       "      <td>325.378983</td>\n",
       "      <td>0.005707</td>\n",
       "    </tr>\n",
       "    <tr>\n",
       "      <th>max</th>\n",
       "      <td>460.040009</td>\n",
       "      <td>0.090603</td>\n",
       "    </tr>\n",
       "  </tbody>\n",
       "</table>\n",
       "</div>"
      ],
      "text/plain": [
       "         Adj Close  daily_return\n",
       "count  1259.000000   1259.000000\n",
       "mean    292.188959      0.000756\n",
       "std      66.864110      0.011800\n",
       "min     190.420456     -0.109424\n",
       "25%     246.612488     -0.002797\n",
       "50%     273.632721      0.000930\n",
       "75%     325.378983      0.005707\n",
       "max     460.040009      0.090603"
      ]
     },
     "execution_count": 56,
     "metadata": {},
     "output_type": "execute_result"
    }
   ],
   "source": [
    "# Daily Returns 5 year - summary stats\n",
    "daily_returns_5_year.describe()"
   ]
  },
  {
   "cell_type": "code",
   "execution_count": 57,
   "id": "6d322021-91f4-4b8a-a32c-b1bc7cb547a5",
   "metadata": {},
   "outputs": [
    {
     "data": {
      "text/html": [
       "<div>\n",
       "<style scoped>\n",
       "    .dataframe tbody tr th:only-of-type {\n",
       "        vertical-align: middle;\n",
       "    }\n",
       "\n",
       "    .dataframe tbody tr th {\n",
       "        vertical-align: top;\n",
       "    }\n",
       "\n",
       "    .dataframe thead th {\n",
       "        text-align: right;\n",
       "    }\n",
       "</style>\n",
       "<table border=\"1\" class=\"dataframe\">\n",
       "  <thead>\n",
       "    <tr style=\"text-align: right;\">\n",
       "      <th></th>\n",
       "      <th>Adj Close</th>\n",
       "      <th>daily_return</th>\n",
       "    </tr>\n",
       "  </thead>\n",
       "  <tbody>\n",
       "    <tr>\n",
       "      <th>count</th>\n",
       "      <td>2515.000000</td>\n",
       "      <td>2514.000000</td>\n",
       "    </tr>\n",
       "    <tr>\n",
       "      <th>mean</th>\n",
       "      <td>224.306436</td>\n",
       "      <td>0.000645</td>\n",
       "    </tr>\n",
       "    <tr>\n",
       "      <th>std</th>\n",
       "      <td>85.385614</td>\n",
       "      <td>0.010256</td>\n",
       "    </tr>\n",
       "    <tr>\n",
       "      <th>min</th>\n",
       "      <td>95.791985</td>\n",
       "      <td>-0.109424</td>\n",
       "    </tr>\n",
       "    <tr>\n",
       "      <th>25%</th>\n",
       "      <td>163.276153</td>\n",
       "      <td>-0.003225</td>\n",
       "    </tr>\n",
       "    <tr>\n",
       "      <th>50%</th>\n",
       "      <td>198.511902</td>\n",
       "      <td>0.000710</td>\n",
       "    </tr>\n",
       "    <tr>\n",
       "      <th>75%</th>\n",
       "      <td>273.646897</td>\n",
       "      <td>0.005340</td>\n",
       "    </tr>\n",
       "    <tr>\n",
       "      <th>max</th>\n",
       "      <td>460.040009</td>\n",
       "      <td>0.090603</td>\n",
       "    </tr>\n",
       "  </tbody>\n",
       "</table>\n",
       "</div>"
      ],
      "text/plain": [
       "         Adj Close  daily_return\n",
       "count  2515.000000   2514.000000\n",
       "mean    224.306436      0.000645\n",
       "std      85.385614      0.010256\n",
       "min      95.791985     -0.109424\n",
       "25%     163.276153     -0.003225\n",
       "50%     198.511902      0.000710\n",
       "75%     273.646897      0.005340\n",
       "max     460.040009      0.090603"
      ]
     },
     "execution_count": 57,
     "metadata": {},
     "output_type": "execute_result"
    }
   ],
   "source": [
    "# Daily Returns 10 year - summary stats\n",
    "daily_returns_10_year.describe()"
   ]
  },
  {
   "cell_type": "markdown",
   "id": "55a2bb33-c49a-4b30-8a14-e1a651d8e170",
   "metadata": {},
   "source": [
    "# Annualized Standard Deviation"
   ]
  },
  {
   "cell_type": "code",
   "execution_count": 58,
   "id": "cca6e332-1365-4ac8-90eb-aa9c76deee01",
   "metadata": {},
   "outputs": [
    {
     "data": {
      "text/plain": [
       "Adj Close       1355.454594\n",
       "daily_return       0.162817\n",
       "dtype: float64"
      ]
     },
     "execution_count": 58,
     "metadata": {},
     "output_type": "execute_result"
    }
   ],
   "source": [
    "# Calculate the Annual Standard Deviation on ten years of SP500 daily returns\n",
    "\n",
    "annual_std_dev_sp500_10_year = daily_returns_10_year.std() * np.sqrt(trading_days)\n",
    "\n",
    "# Display the results\n",
    "annual_std_dev_sp500_10_year"
   ]
  },
  {
   "cell_type": "markdown",
   "id": "98a2c559-578c-4331-ac1a-9c97ef4d1b13",
   "metadata": {},
   "source": [
    "# Sharpe Ratio"
   ]
  },
  {
   "cell_type": "code",
   "execution_count": 59,
   "id": "4553482a-33eb-436a-af74-3dbf7a3483d1",
   "metadata": {},
   "outputs": [
    {
     "data": {
      "text/plain": [
       "Adj Close        0.011985\n",
       "daily_return    99.776200\n",
       "dtype: float64"
      ]
     },
     "execution_count": 59,
     "metadata": {},
     "output_type": "execute_result"
    }
   ],
   "source": [
    "# Calculate the Sharpe Ratio on the 10 year sp500 return\n",
    "sharpe_ratio_sp500_10_year = sp500_10_year_annualized_return / annual_std_dev_sp500_10_year\n",
    "sharpe_ratio_sp500_10_year"
   ]
  },
  {
   "cell_type": "markdown",
   "id": "e71ae093-5f62-4445-ab3a-a5a9041a0cfa",
   "metadata": {},
   "source": [
    "# Year end balances after initial investment of $10000"
   ]
  },
  {
   "cell_type": "code",
   "execution_count": 60,
   "id": "a90d3f26-5357-413a-88cd-8d16c02611a3",
   "metadata": {},
   "outputs": [
    {
     "data": {
      "text/plain": [
       "13649.89765086736"
      ]
     },
     "execution_count": 60,
     "metadata": {},
     "output_type": "execute_result"
    }
   ],
   "source": [
    "# Account balance after 1 year investing in SP500\n",
    "invest_amount = 10000\n",
    "\n",
    "sp500_1yr_bal = invest_amount + (invest_amount * sp500_1_year_annualized_return /100) * 1\n",
    "sp500_1yr_bal"
   ]
  },
  {
   "cell_type": "code",
   "execution_count": 61,
   "id": "0021eaf7-45ee-42b7-8f56-6b1b201c4ec8",
   "metadata": {},
   "outputs": [
    {
     "data": {
      "text/plain": [
       "16600.327685046734"
      ]
     },
     "execution_count": 61,
     "metadata": {},
     "output_type": "execute_result"
    }
   ],
   "source": [
    "# Account balance after 3 year investing in SP500\n",
    "\n",
    "sp500_3yr_bal = invest_amount + (invest_amount * sp500_3_year_annualized_return /100) * 3\n",
    "sp500_3yr_bal"
   ]
  },
  {
   "cell_type": "code",
   "execution_count": 62,
   "id": "6321e6f3-db5b-45e8-8b9a-5335f0906d3a",
   "metadata": {},
   "outputs": [
    {
     "data": {
      "text/plain": [
       "19523.24131118619"
      ]
     },
     "execution_count": 62,
     "metadata": {},
     "output_type": "execute_result"
    }
   ],
   "source": [
    "# Account balance after 5 year investing in SP500\n",
    "\n",
    "sp500_5yr_bal = invest_amount + (invest_amount * sp500_5_year_annualized_return /100) * 5\n",
    "sp500_5yr_bal"
   ]
  },
  {
   "cell_type": "code",
   "execution_count": 63,
   "id": "0c63bf30-3e72-4ecc-b99b-e737b357f065",
   "metadata": {},
   "outputs": [
    {
     "data": {
      "text/plain": [
       "26245.221583823717"
      ]
     },
     "execution_count": 63,
     "metadata": {},
     "output_type": "execute_result"
    }
   ],
   "source": [
    "# Account balance after 10 year investing in SP500\n",
    "\n",
    "sp500_10yr_bal = invest_amount + (invest_amount * sp500_10_year_annualized_return /100) * 10\n",
    "sp500_10yr_bal"
   ]
  },
  {
   "cell_type": "markdown",
   "id": "39848222-251d-408c-8cd2-0506d81666ff",
   "metadata": {},
   "source": [
    "# Return on Investment"
   ]
  },
  {
   "cell_type": "code",
   "execution_count": 64,
   "id": "cee84077-6d56-408a-84a6-08c201da81d7",
   "metadata": {},
   "outputs": [
    {
     "data": {
      "text/plain": [
       "36.4989765086736"
      ]
     },
     "execution_count": 64,
     "metadata": {},
     "output_type": "execute_result"
    }
   ],
   "source": [
    "# ROI 1 year\n",
    "sp500_1yr_ROI = ((sp500_1yr_bal - invest_amount) / invest_amount) * 100\n",
    "sp500_1yr_ROI"
   ]
  },
  {
   "cell_type": "code",
   "execution_count": 65,
   "id": "46dbffc1-3d61-451e-a13b-6261d48563c2",
   "metadata": {},
   "outputs": [
    {
     "data": {
      "text/plain": [
       "66.00327685046734"
      ]
     },
     "execution_count": 65,
     "metadata": {},
     "output_type": "execute_result"
    }
   ],
   "source": [
    "# ROI 3 year\n",
    "sp500_3yr_ROI = ((sp500_3yr_bal - invest_amount) / invest_amount) * 100\n",
    "sp500_3yr_ROI"
   ]
  },
  {
   "cell_type": "code",
   "execution_count": 66,
   "id": "84a96d2f-694c-4c91-91d7-752be0f475ce",
   "metadata": {},
   "outputs": [
    {
     "data": {
      "text/plain": [
       "95.2324131118619"
      ]
     },
     "execution_count": 66,
     "metadata": {},
     "output_type": "execute_result"
    }
   ],
   "source": [
    "# ROI 5 year\n",
    "sp500_5yr_ROI = ((sp500_5yr_bal - invest_amount) / invest_amount) * 100\n",
    "sp500_5yr_ROI"
   ]
  },
  {
   "cell_type": "code",
   "execution_count": 67,
   "id": "1a90099d-009f-4d5e-91f7-91036abd1ea1",
   "metadata": {},
   "outputs": [
    {
     "data": {
      "text/plain": [
       "162.45221583823718"
      ]
     },
     "execution_count": 67,
     "metadata": {},
     "output_type": "execute_result"
    }
   ],
   "source": [
    "# ROI 10 year\n",
    "sp500_10yr_ROI = ((sp500_10yr_bal - invest_amount) / invest_amount) * 100\n",
    "sp500_10yr_ROI"
   ]
  },
  {
   "cell_type": "code",
   "execution_count": 70,
   "id": "f405fa57-7c73-4768-895a-ce60125c24e6",
   "metadata": {},
   "outputs": [
    {
     "ename": "NameError",
     "evalue": "name 'dcc' is not defined",
     "output_type": "error",
     "traceback": [
      "\u001b[0;31m---------------------------------------------------------------------------\u001b[0m",
      "\u001b[0;31mNameError\u001b[0m                                 Traceback (most recent call last)",
      "\u001b[0;32m<ipython-input-70-2045d844f2b2>\u001b[0m in \u001b[0;36m<module>\u001b[0;34m\u001b[0m\n\u001b[0;32m----> 1\u001b[0;31m dcc.Dropdown( id = 'dropdown',\n\u001b[0m\u001b[1;32m      2\u001b[0m options = [\n\u001b[1;32m      3\u001b[0m     \u001b[0;34m{\u001b[0m\u001b[0;34m'label'\u001b[0m\u001b[0;34m:\u001b[0m\u001b[0;34m'Google'\u001b[0m\u001b[0;34m,\u001b[0m \u001b[0;34m'value'\u001b[0m\u001b[0;34m:\u001b[0m\u001b[0;34m'GOOG'\u001b[0m \u001b[0;34m}\u001b[0m\u001b[0;34m,\u001b[0m\u001b[0;34m\u001b[0m\u001b[0;34m\u001b[0m\u001b[0m\n\u001b[1;32m      4\u001b[0m     \u001b[0;34m{\u001b[0m\u001b[0;34m'label'\u001b[0m\u001b[0;34m:\u001b[0m \u001b[0;34m'Apple'\u001b[0m\u001b[0;34m,\u001b[0m \u001b[0;34m'value'\u001b[0m\u001b[0;34m:\u001b[0m\u001b[0;34m'AAPL'\u001b[0m\u001b[0;34m}\u001b[0m\u001b[0;34m,\u001b[0m\u001b[0;34m\u001b[0m\u001b[0;34m\u001b[0m\u001b[0m\n\u001b[1;32m      5\u001b[0m     \u001b[0;34m{\u001b[0m\u001b[0;34m'label'\u001b[0m\u001b[0;34m:\u001b[0m \u001b[0;34m'Amazon'\u001b[0m\u001b[0;34m,\u001b[0m \u001b[0;34m'value'\u001b[0m\u001b[0;34m:\u001b[0m\u001b[0;34m'AMZN'\u001b[0m\u001b[0;34m}\u001b[0m\u001b[0;34m,\u001b[0m\u001b[0;34m\u001b[0m\u001b[0;34m\u001b[0m\u001b[0m\n",
      "\u001b[0;31mNameError\u001b[0m: name 'dcc' is not defined"
     ]
    }
   ],
   "source": [
    "dcc.Dropdown( id = 'dropdown',\n",
    "options = [\n",
    "    {'label':'Google', 'value':'GOOG' },\n",
    "    {'label': 'Apple', 'value':'AAPL'},\n",
    "    {'label': 'Amazon', 'value':'AMZN'},\n",
    "    ],\n",
    "value = 'GOOGL'       \n",
    ")"
   ]
  },
  {
   "cell_type": "code",
   "execution_count": null,
   "id": "aa948fc1-c14e-40f0-bb2d-9a9ca6afbc27",
   "metadata": {},
   "outputs": [],
   "source": []
  }
 ],
 "metadata": {
  "kernelspec": {
   "display_name": "sqlenv",
   "language": "python",
   "name": "sqlenv"
  },
  "language_info": {
   "codemirror_mode": {
    "name": "ipython",
    "version": 3
   },
   "file_extension": ".py",
   "mimetype": "text/x-python",
   "name": "python",
   "nbconvert_exporter": "python",
   "pygments_lexer": "ipython3",
   "version": "3.7.10"
  }
 },
 "nbformat": 4,
 "nbformat_minor": 5
}
